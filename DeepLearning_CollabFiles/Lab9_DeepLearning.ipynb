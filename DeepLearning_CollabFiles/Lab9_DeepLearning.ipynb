{
  "nbformat": 4,
  "nbformat_minor": 0,
  "metadata": {
    "colab": {
      "provenance": [],
      "collapsed_sections": []
    },
    "kernelspec": {
      "name": "python3",
      "display_name": "Python 3"
    },
    "language_info": {
      "name": "python"
    }
  },
  "cells": [
    {
      
      "cell_type": "code",
      "source": [
        "import numpy as np\n",
        "import scipy.io as sio \n",
        "import os\n",
        "import cv2\n",
        "from keras.applications.inception_v3 import InceptionV3\n",
        "from keras.preprocessing import image\n",
        "from keras.models import Model\n",
        "from keras.layers import Dense, GlobalAveragePooling2D\n",
        "from keras import backend as K\n",
        "import matplotlib.pyplot as plt"
      ],
      "metadata": {
        "id": "7EWoa0c3sE1l"
      },
      "execution_count": 1,
      "outputs": []
    },
    {
      "cell_type": "code",
      "source": [
        "!wget http://ai.stanford.edu/~jkrause/car196/cars_train.tgz"
      ],
      "metadata": {
        "colab": {
          "base_uri": "https://localhost:8080/"
        },
        "id": "ZT4aGUvksG_E",
        "outputId": "d39534f3-be91-457b-d12a-b5d392f4327e"
      },
      "execution_count": 2,
      "outputs": [
        {
          "output_type": "stream",
          "name": "stdout",
          "text": [
            "--2022-11-15 08:23:45--  http://ai.stanford.edu/~jkrause/car196/cars_train.tgz\n",
            "Resolving ai.stanford.edu (ai.stanford.edu)... 171.64.68.10\n",
            "Connecting to ai.stanford.edu (ai.stanford.edu)|171.64.68.10|:80... connected.\n",
            "HTTP request sent, awaiting response... 200 OK\n",
            "Length: 979269282 (934M) [application/x-gzip]\n",
            "Saving to: ‘cars_train.tgz’\n",
            "\n",
            "cars_train.tgz      100%[===================>] 933.90M  19.6MB/s    in 54s     \n",
            "\n",
            "2022-11-15 08:24:39 (17.4 MB/s) - ‘cars_train.tgz’ saved [979269282/979269282]\n",
            "\n"
          ]
        }
      ]
    },
    {
      "cell_type": "code",
      "source": [
        "!wget http://ai.stanford.edu/~jkrause/car196/cars_test.tgz"
      ],
      "metadata": {
        "colab": {
          "base_uri": "https://localhost:8080/"
        },
        "id": "QJ9mph86sSF1",
        "outputId": "ecc12adc-5934-41f3-ddf0-039032b3c9b8"
      },
      "execution_count": 3,
      "outputs": [
        {
          "output_type": "stream",
          "name": "stdout",
          "text": [
            "--2022-11-15 08:24:39--  http://ai.stanford.edu/~jkrause/car196/cars_test.tgz\n",
            "Resolving ai.stanford.edu (ai.stanford.edu)... 171.64.68.10\n",
            "Connecting to ai.stanford.edu (ai.stanford.edu)|171.64.68.10|:80... connected.\n",
            "HTTP request sent, awaiting response... 200 OK\n",
            "Length: 977350468 (932M) [application/x-gzip]\n",
            "Saving to: ‘cars_test.tgz’\n",
            "\n",
            "cars_test.tgz       100%[===================>] 932.07M  20.8MB/s    in 76s     \n",
            "\n",
            "2022-11-15 08:25:56 (12.3 MB/s) - ‘cars_test.tgz’ saved [977350468/977350468]\n",
            "\n"
          ]
        }
      ]
    },
    {
      "cell_type": "code",
      "source": [
        "!wget http://ai.stanford.edu/~jkrause/car196/cars_annos.mat"
      ],
      "metadata": {
        "colab": {
          "base_uri": "https://localhost:8080/"
        },
        "id": "8Gpe7Taxxz5U",
        "outputId": "9332a2a1-7541-43e1-8f62-27ab6dad865b"
      },
      "execution_count": 4,
      "outputs": [
        {
          "output_type": "stream",
          "name": "stdout",
          "text": [
            "--2022-11-15 08:25:56--  http://ai.stanford.edu/~jkrause/car196/cars_annos.mat\n",
            "Resolving ai.stanford.edu (ai.stanford.edu)... 171.64.68.10\n",
            "Connecting to ai.stanford.edu (ai.stanford.edu)|171.64.68.10|:80... connected.\n",
            "HTTP request sent, awaiting response... 200 OK\n",
            "Length: 394471 (385K) [text/plain]\n",
            "Saving to: ‘cars_annos.mat’\n",
            "\n",
            "cars_annos.mat      100%[===================>] 385.23K   284KB/s    in 1.4s    \n",
            "\n",
            "2022-11-15 08:25:57 (284 KB/s) - ‘cars_annos.mat’ saved [394471/394471]\n",
            "\n"
          ]
        }
      ]
    },
    {
      "cell_type": "code",
      "source": [
        "import tarfile\n",
        "  \n",
        "# open file\n",
        "file = tarfile.open('cars_test.tgz')\n",
        "# extracting file\n",
        "file.extractall('/content/cars_dataset')\n",
        "  \n",
        "file.close()"
      ],
      "metadata": {
        "id": "9-dZFxyauC8B"
      },
      "execution_count": 5,
      "outputs": []
    },
    {
      "cell_type": "code",
      "source": [
        "import tarfile\n",
        "  \n",
        "# open file\n",
        "file2 = tarfile.open('cars_train.tgz') \n",
        "# extracting file\n",
        "file2.extractall('/content/cars_dataset')\n",
        "  \n",
        "file2.close()"
      ],
      "metadata": {
        "id": "hwhzpbf9vJog"
      },
      "execution_count": 6,
      "outputs": []
    },
    {
      "cell_type": "code",
      "source": [
        "os.listdir('/content/cars_dataset')"
      ],
      "metadata": {
        "colab": {
          "base_uri": "https://localhost:8080/"
        },
        "id": "Fs1L-5tmvhNY",
        "outputId": "d9115006-3cdf-4d67-8942-cbd1e7f888a9"
      },
      "execution_count": 7,
      "outputs": [
        {
          "output_type": "execute_result",
          "data": {
            "text/plain": [
              "['cars_train', 'cars_test']"
            ]
          },
          "metadata": {},
          "execution_count": 7
        }
      ]
    },
    {
      "cell_type": "code",
      "source": [
        "base_dir = '/content/cars_dataset'"
      ],
      "metadata": {
        "id": "Pc9mjiVov7zW"
      },
      "execution_count": 8,
      "outputs": []
    },
    {
      "cell_type": "code",
      "source": [
        "def get_labels():\n",
        "    annos = sio.loadmat('/content/cars_annos.mat')\n",
        "    _, total_size = annos[\"annotations\"].shape\n",
        "    print(\"total sample size is \", total_size)\n",
        "    labels = np.zeros((total_size, 5))\n",
        "    for i in range(total_size):\n",
        "        path = annos[\"annotations\"][:,i][0][0][0].split(\".\")\n",
        "        id = int(path[0][8:]) - 1\n",
        "        for j in range(5):\n",
        "            labels[id, j] = int(annos[\"annotations\"][:,i][0][j + 1][0])\n",
        "    return labels\n",
        "labels = get_labels()"
      ],
      "metadata": {
        "colab": {
          "base_uri": "https://localhost:8080/"
        },
        "id": "WJguraMXvzsO",
        "outputId": "c63f7dd3-0359-4721-c1fc-7bc660c96553"
      },
      "execution_count": 9,
      "outputs": [
        {
          "output_type": "stream",
          "name": "stdout",
          "text": [
            "total sample size is  16185\n"
          ]
        }
      ]
    },
    {
      "cell_type": "code",
      "source": [
        "def peek_image(path, idx, labels):\n",
        "    image_names = os.listdir(path + \"\")\n",
        "    im = cv2.imread('/content/cars_dataset/cars_train/00010.jpg')\n",
        "    print(\"image is\", image_names[idx])\n",
        "    name = image_names[idx].split('.')\n",
        "    w, h, ch = im.shape\n",
        "    print(\"orignal shape:\" , w, h)\n",
        "    h_resize = int(128*1.5)\n",
        "    w_resize = 128\n",
        "    im = cv2.resize(im,(h_resize,w_resize),interpolation=cv2.INTER_LINEAR)\n",
        "    w, h, ch = im.shape\n",
        "    print(\"resized shape:\" , w, h)\n",
        "    plt.imshow(im)\n",
        "\n",
        "peek_image(\"/content/cars_dataset/cars_train\", 4445, labels)   \n",
        "labels = []"
      ],
      "metadata": {
        "colab": {
          "base_uri": "https://localhost:8080/",
          "height": 320
        },
        "id": "OFBUTdfmwKtu",
        "outputId": "44d368b7-da9b-486f-fcb8-8a92f3735fee"
      },
      "execution_count": 10,
      "outputs": [
        {
          "output_type": "stream",
          "name": "stdout",
          "text": [
            "image is 07654.jpg\n",
            "orignal shape: 480 640\n",
            "resized shape: 128 192\n"
          ]
        },
        {
          "output_type": "display_data",
          "data": {
            "text/plain": [
              "<Figure size 432x288 with 1 Axes>"
            ],
            "image/png": "[encoded data removed]"
          },
          "metadata": {
            "needs_background": "light"
          }
        }
      ]
    },
    {
      "cell_type": "code",
      "source": [
        "def read_data(path, labels):\n",
        "    x = []\n",
        "    y = []\n",
        "    counter = 0\n",
        "    \n",
        "    for file in os.listdir('/content/cars_dataset/cars_test'):\n",
        "        im = cv2.imread('/content/cars_dataset/cars_test/00010.jpg')\n",
        "        name = file.split('.')\n",
        "        w, h, ch = im.shape\n",
        "        h_resize = int(128*1.5)\n",
        "        w_resize = 128\n",
        "        im = cv2.resize(im,(h_resize,w_resize),interpolation = cv2.INTER_LINEAR)\n",
        "        x.append(im)\n",
        "        y.append(labels[int(name[0]) - 1,4])\n",
        "        if counter % 1000 == 0 and counter > 0:\n",
        "            print(\"1000 images are loaded.\")\n",
        "        counter += 1\n",
        "        #print(file, int(name[0]) - 1)\n",
        "    return np.array(x), np.array(y).reshape([len(y),1])\n",
        "        \n",
        "def load_split_data():\n",
        "    annos = sio.loadmat('/content/cars_annos.mat')\n",
        "    _, total_size = annos[\"annotations\"].shape\n",
        "    print(\"total sample size is \", total_size)\n",
        "    labels = np.zeros((total_size, 5))\n",
        "    for i in range(total_size):\n",
        "        path = annos[\"annotations\"][:,i][0][0][0].split(\".\")\n",
        "        id = int(path[0][8:]) - 1\n",
        "        for j in range(5):\n",
        "            labels[id, j] = annos[\"annotations\"][:,i][0][j + 1][0]\n",
        "    print(\"Annotation Loading completed.\")\n",
        "    x_train, y_train = read_data(\"cars_train\", labels)\n",
        "    print(\"Loading training data completed.\")\n",
        "    print(\"training dimension is\",x_train.shape)\n",
        "    x_val_test, y_val_test = read_data(\"cars_test\", labels)\n",
        "    val_test_size = x_val_test.shape[0]\n",
        "    print(\"test and val dimension is\",x_val_test.shape)\n",
        "    print(\"Loading validation and test data completed.\")\n",
        "    \n",
        "    #shuffle and splite vallidation data and test data\n",
        "    p = np.random.permutation(val_test_size)\n",
        "    x_val_test = x_val_test[p]\n",
        "    y_val_test = y_val_test[p]\n",
        "    x_val = x_val_test[0:int(val_test_size / 2),:,:,:]\n",
        "    y_val = y_val_test[0:int(val_test_size / 2),:]\n",
        "    print(\"validation size is\",int(val_test_size / 2))\n",
        "    x_test = x_val_test[int(val_test_size / 2):val_test_size,:,:,:]\n",
        "    y_test = y_val_test[int(val_test_size / 2):val_test_size,:]\n",
        "    print(\"test size is\",val_test_size - int(val_test_size / 2))\n",
        "    print(\"Spliting validation and test data completed.\")\n",
        "    return [x_train, x_val, x_test], [y_train, y_val, y_test]\n",
        "X, Y = load_split_data()"
      ],
      "metadata": {
        "colab": {
          "base_uri": "https://localhost:8080/"
        },
        "id": "acQz0hXkyUO3",
        "outputId": "eab243f8-0508-4662-c260-6e1ec188376c"
      },
      "execution_count": 11,
      "outputs": [
        {
          "output_type": "stream",
          "name": "stdout",
          "text": [
            "total sample size is  16185\n",
            "Annotation Loading completed.\n",
            "1000 images are loaded.\n",
            "1000 images are loaded.\n",
            "1000 images are loaded.\n",
            "1000 images are loaded.\n",
            "1000 images are loaded.\n",
            "1000 images are loaded.\n",
            "1000 images are loaded.\n",
            "1000 images are loaded.\n",
            "Loading training data completed.\n",
            "training dimension is (8041, 128, 192, 3)\n",
            "1000 images are loaded.\n",
            "1000 images are loaded.\n",
            "1000 images are loaded.\n",
            "1000 images are loaded.\n",
            "1000 images are loaded.\n",
            "1000 images are loaded.\n",
            "1000 images are loaded.\n",
            "1000 images are loaded.\n",
            "test and val dimension is (8041, 128, 192, 3)\n",
            "Loading validation and test data completed.\n",
            "validation size is 4020\n",
            "test size is 4021\n",
            "Spliting validation and test data completed.\n"
          ]
        }
      ]
    },
    {
      "cell_type": "code",
      "source": [
        "from tensorflow.keras.applications.vgg19 import VGG19\n",
        "from tensorflow.keras.preprocessing import image\n",
        "from tensorflow.keras.applications.vgg19 import preprocess_input\n",
        "from tensorflow.keras.models import Model\n",
        "import numpy as np\n",
        "\n",
        "base_model = VGG19(weights='imagenet')\n",
        "model = Model(inputs=base_model.input, outputs=base_model.get_layer('block4_pool').output)\n",
        "\n",
        "img_path = '/content/cars_dataset/cars_test/00010.jpg'\n",
        "img = image.load_img(img_path, target_size=(224, 224))\n",
        "x = image.img_to_array(img)\n",
        "x = np.expand_dims(x, axis=0)\n",
        "x = preprocess_input(x)\n",
        "\n",
        "block4_pool_features = model.predict(x)"
      ],
      "metadata": {
        "id": "BQfYDG-Q2QTm",
        "colab": {
          "base_uri": "https://localhost:8080/"
        },
        "outputId": "276079f9-eafd-4fc1-f571-47dc8a4afd46"
      },
      "execution_count": 12,
      "outputs": [
        {
          "output_type": "stream",
          "name": "stdout",
          "text": [
            "Downloading data from https://storage.googleapis.com/tensorflow/keras-applications/vgg19/vgg19_weights_tf_dim_ordering_tf_kernels.h5\n",
            "574710816/574710816 [==============================] - 20s 0us/step\n",
            "1/1 [==============================] - 1s 1s/step\n"
          ]
        }
      ]
    },
    {
      "cell_type": "code",
      "source": [
        "block4_pool_features"
      ],
      "metadata": {
        "colab": {
          "base_uri": "https://localhost:8080/"
        },
        "id": "Lpv6Clu8YrWL",
        "outputId": "034873f3-245e-403f-ebfb-18108f7b6aaa"
      },
      "execution_count": 13,
      "outputs": [
        {
          "output_type": "execute_result",
          "data": {
            "text/plain": [
              "array([[[[   0.       ,   99.78003  ,    0.       , ...,    0.       ,\n",
              "             0.       ,  247.68494  ],\n",
              "         [   0.       ,  110.41968  ,    0.       , ...,    0.       ,\n",
              "             0.       ,  177.62535  ],\n",
              "         [   0.       ,  298.16827  ,    0.       , ...,    0.       ,\n",
              "             0.       ,  529.5879   ],\n",
              "         ...,\n",
              "         [   0.       ,    0.       ,    0.       , ...,    0.       ,\n",
              "             0.       ,    0.       ],\n",
              "         [   0.       ,    0.       ,    0.       , ...,    0.       ,\n",
              "             0.       ,    0.       ],\n",
              "         [   0.       ,  245.71265  ,    0.       , ...,    0.       ,\n",
              "             0.       ,    0.       ]],\n",
              "\n",
              "        [[   0.       ,   92.243645 ,    0.       , ...,  481.07584  ,\n",
              "             0.       ,    6.2884207],\n",
              "         [   0.       ,  159.48764  ,  182.55386  , ...,    0.       ,\n",
              "             0.       ,    0.       ],\n",
              "         [   0.       ,  234.43706  ,  236.2525   , ...,    0.       ,\n",
              "             0.       ,   67.218796 ],\n",
              "         ...,\n",
              "         [   0.       ,    0.       ,    0.       , ...,    0.       ,\n",
              "             0.       ,    0.       ],\n",
              "         [   0.       ,  810.4382   ,    0.       , ...,    0.       ,\n",
              "           593.83307  ,    0.       ],\n",
              "         [   0.       , 1847.9663   ,    0.       , ...,    0.       ,\n",
              "           484.4509   ,    0.       ]],\n",
              "\n",
              "        [[   0.       ,   30.07594  ,    0.       , ...,  696.84784  ,\n",
              "           469.60007  ,    0.       ],\n",
              "         [   0.       ,  207.34547  ,    0.       , ...,    0.       ,\n",
              "            54.90154  ,    0.       ],\n",
              "         [   0.       ,    0.       ,    0.       , ...,    0.       ,\n",
              "             0.       ,    0.       ],\n",
              "         ...,\n",
              "         [   0.       ,  384.84042  ,    0.       , ...,    0.       ,\n",
              "             0.       ,    0.       ],\n",
              "         [   0.       ,  274.32678  ,    0.       , ...,    0.       ,\n",
              "             0.       ,    0.       ],\n",
              "         [   0.       , 1343.881    ,    0.       , ...,    0.       ,\n",
              "             0.       ,    0.       ]],\n",
              "\n",
              "        ...,\n",
              "\n",
              "        [[   0.       ,    0.       ,    0.       , ...,    0.       ,\n",
              "             0.       ,  428.96793  ],\n",
              "         [ 868.69556  ,    0.       ,    0.       , ...,    0.       ,\n",
              "           327.2854   ,    0.       ],\n",
              "         [ 467.58957  ,    0.       ,    0.       , ...,    0.       ,\n",
              "             0.       ,    0.       ],\n",
              "         ...,\n",
              "         [   0.       ,    0.       ,    0.       , ...,    0.       ,\n",
              "             0.       ,  383.84668  ],\n",
              "         [ 163.56711  ,    0.       ,    0.       , ...,    0.       ,\n",
              "             0.       ,    0.       ],\n",
              "         [ 266.9059   ,    0.       ,    0.       , ...,    0.       ,\n",
              "             0.       ,   53.726143 ]],\n",
              "\n",
              "        [[   0.       ,    0.       ,    0.       , ...,    0.       ,\n",
              "             0.       ,  155.19112  ],\n",
              "         [ 127.54599  ,    0.       ,    0.       , ...,    0.       ,\n",
              "             0.       ,    0.       ],\n",
              "         [   0.       ,    0.       ,    0.       , ...,    0.       ,\n",
              "             0.       ,    0.       ],\n",
              "         ...,\n",
              "         [  48.888466 ,    0.       ,    0.       , ...,    0.       ,\n",
              "             0.       ,  113.84044  ],\n",
              "         [ 244.41457  ,  226.93875  ,    0.       , ...,    0.       ,\n",
              "             0.       ,    0.       ],\n",
              "         [ 236.5936   ,  271.8615   ,    0.       , ...,    0.       ,\n",
              "             0.       ,    0.       ]],\n",
              "\n",
              "        [[   0.       ,    0.       ,   65.43823  , ...,    0.       ,\n",
              "             0.       ,  131.1294   ],\n",
              "         [ 176.24765  ,    0.       ,    0.       , ...,    0.       ,\n",
              "             0.       ,   92.879906 ],\n",
              "         [   0.       ,    0.       ,    0.       , ...,    0.       ,\n",
              "             0.       ,    0.       ],\n",
              "         ...,\n",
              "         [   0.       ,   26.26428  ,    0.       , ...,   36.190716 ,\n",
              "             0.       ,    0.       ],\n",
              "         [  80.099266 ,  211.30556  ,    0.       , ...,   50.646828 ,\n",
              "             0.       ,    0.       ],\n",
              "         [ 290.5558   ,  330.418    ,    0.       , ...,    0.       ,\n",
              "           111.374825 ,    0.       ]]]], dtype=float32)"
            ]
          },
          "metadata": {},
          "execution_count": 13
        }
      ]
    },
    {
      "cell_type": "code",
      "source": [],
      "metadata": {
        "id": "n1tdV3NhZoiQ"
      },
      "execution_count": null,
      "outputs": []
    }
  ]
}
