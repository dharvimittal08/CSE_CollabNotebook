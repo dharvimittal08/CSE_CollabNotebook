{
  "nbformat": 4,
  "nbformat_minor": 0,
  "metadata": {
    "colab": {
      "provenance": [],
      "collapsed_sections": []
    },
    "kernelspec": {
      "name": "python3",
      "display_name": "Python 3"
    },
    "language_info": {
      "name": "python"
    }
  },
  "cells": [
    {
      "cell_type": "markdown",
      "source": [
        "**Implementation of batch gradient descent from scratch**"
      ],
      "metadata": {
        "id": "miNXD5swCGVL"
      }
    },
    {
      "cell_type": "code",
      "source": [
        "import pandas as pd\n",
        "import numpy as np\n",
        "from matplotlib import pyplot as plt\n",
        "%matplotlib inline"
      ],
      "metadata": {
        "id": "L_Sx1f6YDOlI"
      },
      "execution_count": null,
      "outputs": []
    },
    {
      "cell_type": "code",
      "source": [
        "from google.colab import drive\n",
        "drive.mount('/content/drive')"
      ],
      "metadata": {
        "colab": {
          "base_uri": "https://localhost:8080/"
        },
        "id": "nBrkflqYUard",
        "outputId": "337130e9-8164-4505-fcb4-e6bd1bc11716"
      },
      "execution_count": null,
      "outputs": [
        {
          "output_type": "stream",
          "name": "stdout",
          "text": [
            "Mounted at /content/drive\n"
          ]
        }
      ]
    },
    {
      "cell_type": "code",
      "execution_count": null,
      "metadata": {
        "id": "76ve4QsrC-VB"
      },
      "outputs": [],
      "source": [
        "data_xls = pd.read_excel('/content/drive/MyDrive/Colab Notebooks/Lab4-data.xlsx', dtype=str, index_col=None)\n",
        "data_xls.to_csv('csvfile.csv', encoding='utf-8', index=False)"
      ]
    },
    {
      "cell_type": "code",
      "source": [
        "# Display any 5 randomly chosen records of data\n",
        "# ------- Write the code here ---------\n",
        "df = pd.read_csv('csvfile.csv')\n",
        "df.head()"
      ],
      "metadata": {
        "id": "TQp5desB6KjB",
        "colab": {
          "base_uri": "https://localhost:8080/",
          "height": 206
        },
        "outputId": "789e05b5-587d-4f1a-ba71-55eb1264ff68"
      },
      "execution_count": null,
      "outputs": [
        {
          "output_type": "execute_result",
          "data": {
            "text/plain": [
              "     x1  x2       y\n",
              "0  1056   2   39.07\n",
              "1  2600   4  120.00\n",
              "2  1440   3   62.00\n",
              "3  1521   3   75.00\n",
              "4  1200   2   51.00"
            ],
            "text/html": [
              "\n",
              "  <div id=\"df-a575365b-441e-48b6-ba6a-b49e4af8ce6e\">\n",
              "    <div class=\"colab-df-container\">\n",
              "      <div>\n",
              "<style scoped>\n",
              "    .dataframe tbody tr th:only-of-type {\n",
              "        vertical-align: middle;\n",
              "    }\n",
              "\n",
              "    .dataframe tbody tr th {\n",
              "        vertical-align: top;\n",
              "    }\n",
              "\n",
              "    .dataframe thead th {\n",
              "        text-align: right;\n",
              "    }\n",
              "</style>\n",
              "<table border=\"1\" class=\"dataframe\">\n",
              "  <thead>\n",
              "    <tr style=\"text-align: right;\">\n",
              "      <th></th>\n",
              "      <th>x1</th>\n",
              "      <th>x2</th>\n",
              "      <th>y</th>\n",
              "    </tr>\n",
              "  </thead>\n",
              "  <tbody>\n",
              "    <tr>\n",
              "      <th>0</th>\n",
              "      <td>1056</td>\n",
              "      <td>2</td>\n",
              "      <td>39.07</td>\n",
              "    </tr>\n",
              "    <tr>\n",
              "      <th>1</th>\n",
              "      <td>2600</td>\n",
              "      <td>4</td>\n",
              "      <td>120.00</td>\n",
              "    </tr>\n",
              "    <tr>\n",
              "      <th>2</th>\n",
              "      <td>1440</td>\n",
              "      <td>3</td>\n",
              "      <td>62.00</td>\n",
              "    </tr>\n",
              "    <tr>\n",
              "      <th>3</th>\n",
              "      <td>1521</td>\n",
              "      <td>3</td>\n",
              "      <td>75.00</td>\n",
              "    </tr>\n",
              "    <tr>\n",
              "      <th>4</th>\n",
              "      <td>1200</td>\n",
              "      <td>2</td>\n",
              "      <td>51.00</td>\n",
              "    </tr>\n",
              "  </tbody>\n",
              "</table>\n",
              "</div>\n",
              "      <button class=\"colab-df-convert\" onclick=\"convertToInteractive('df-a575365b-441e-48b6-ba6a-b49e4af8ce6e')\"\n",
              "              title=\"Convert this dataframe to an interactive table.\"\n",
              "              style=\"display:none;\">\n",
              "        \n",
              "  <svg xmlns=\"http://www.w3.org/2000/svg\" height=\"24px\"viewBox=\"0 0 24 24\"\n",
              "       width=\"24px\">\n",
              "    <path d=\"M0 0h24v24H0V0z\" fill=\"none\"/>\n",
              "    <path d=\"M18.56 5.44l.94 2.06.94-2.06 2.06-.94-2.06-.94-.94-2.06-.94 2.06-2.06.94zm-11 1L8.5 8.5l.94-2.06 2.06-.94-2.06-.94L8.5 2.5l-.94 2.06-2.06.94zm10 10l.94 2.06.94-2.06 2.06-.94-2.06-.94-.94-2.06-.94 2.06-2.06.94z\"/><path d=\"M17.41 7.96l-1.37-1.37c-.4-.4-.92-.59-1.43-.59-.52 0-1.04.2-1.43.59L10.3 9.45l-7.72 7.72c-.78.78-.78 2.05 0 2.83L4 21.41c.39.39.9.59 1.41.59.51 0 1.02-.2 1.41-.59l7.78-7.78 2.81-2.81c.8-.78.8-2.07 0-2.86zM5.41 20L4 18.59l7.72-7.72 1.47 1.35L5.41 20z\"/>\n",
              "  </svg>\n",
              "      </button>\n",
              "      \n",
              "  <style>\n",
              "    .colab-df-container {\n",
              "      display:flex;\n",
              "      flex-wrap:wrap;\n",
              "      gap: 12px;\n",
              "    }\n",
              "\n",
              "    .colab-df-convert {\n",
              "      background-color: #E8F0FE;\n",
              "      border: none;\n",
              "      border-radius: 50%;\n",
              "      cursor: pointer;\n",
              "      display: none;\n",
              "      fill: #1967D2;\n",
              "      height: 32px;\n",
              "      padding: 0 0 0 0;\n",
              "      width: 32px;\n",
              "    }\n",
              "\n",
              "    .colab-df-convert:hover {\n",
              "      background-color: #E2EBFA;\n",
              "      box-shadow: 0px 1px 2px rgba(60, 64, 67, 0.3), 0px 1px 3px 1px rgba(60, 64, 67, 0.15);\n",
              "      fill: #174EA6;\n",
              "    }\n",
              "\n",
              "    [theme=dark] .colab-df-convert {\n",
              "      background-color: #3B4455;\n",
              "      fill: #D2E3FC;\n",
              "    }\n",
              "\n",
              "    [theme=dark] .colab-df-convert:hover {\n",
              "      background-color: #434B5C;\n",
              "      box-shadow: 0px 1px 3px 1px rgba(0, 0, 0, 0.15);\n",
              "      filter: drop-shadow(0px 1px 2px rgba(0, 0, 0, 0.3));\n",
              "      fill: #FFFFFF;\n",
              "    }\n",
              "  </style>\n",
              "\n",
              "      <script>\n",
              "        const buttonEl =\n",
              "          document.querySelector('#df-a575365b-441e-48b6-ba6a-b49e4af8ce6e button.colab-df-convert');\n",
              "        buttonEl.style.display =\n",
              "          google.colab.kernel.accessAllowed ? 'block' : 'none';\n",
              "\n",
              "        async function convertToInteractive(key) {\n",
              "          const element = document.querySelector('#df-a575365b-441e-48b6-ba6a-b49e4af8ce6e');\n",
              "          const dataTable =\n",
              "            await google.colab.kernel.invokeFunction('convertToInteractive',\n",
              "                                                     [key], {});\n",
              "          if (!dataTable) return;\n",
              "\n",
              "          const docLinkHtml = 'Like what you see? Visit the ' +\n",
              "            '<a target=\"_blank\" href=https://colab.research.google.com/notebooks/data_table.ipynb>data table notebook</a>'\n",
              "            + ' to learn more about interactive tables.';\n",
              "          element.innerHTML = '';\n",
              "          dataTable['output_type'] = 'display_data';\n",
              "          await google.colab.output.renderOutput(dataTable, element);\n",
              "          const docLink = document.createElement('div');\n",
              "          docLink.innerHTML = docLinkHtml;\n",
              "          element.appendChild(docLink);\n",
              "        }\n",
              "      </script>\n",
              "    </div>\n",
              "  </div>\n",
              "  "
            ]
          },
          "metadata": {},
          "execution_count": 4
        }
      ]
    },
    {
      "cell_type": "code",
      "source": [
        "from sklearn import preprocessing\n",
        "\n",
        "# Perform scaling of data features x1 and x2 and display scaled features\n",
        "# ------- Write the code here ---------\n",
        "\n",
        "scaler = preprocessing.MinMaxScaler()\n",
        "scaled_X = scaler.fit_transform(df.iloc[:, :-2])\n",
        "scaled_X"
      ],
      "metadata": {
        "id": "DS5oekHzHqF2",
        "colab": {
          "base_uri": "https://localhost:8080/"
        },
        "outputId": "851ef47a-208a-4d69-88bb-05a38142e3cd"
      },
      "execution_count": null,
      "outputs": [
        {
          "output_type": "execute_result",
          "data": {
            "text/plain": [
              "array([[0.08827586],\n",
              "       [0.62068966],\n",
              "       [0.22068966],\n",
              "       [0.24862069],\n",
              "       [0.13793103],\n",
              "       [0.12758621],\n",
              "       [0.6662069 ],\n",
              "       [0.86206897],\n",
              "       [0.17586207],\n",
              "       [1.        ],\n",
              "       [0.34482759],\n",
              "       [0.68448276],\n",
              "       [0.06896552],\n",
              "       [0.10344828],\n",
              "       [0.5       ],\n",
              "       [0.12931034],\n",
              "       [0.13103448],\n",
              "       [0.25517241],\n",
              "       [0.67931034],\n",
              "       [0.        ]])"
            ]
          },
          "metadata": {},
          "execution_count": 5
        }
      ]
    },
    {
      "cell_type": "code",
      "source": [
        "# Perform scaling of dependent variable\n",
        "# ------- Write the code here ---------\n",
        "\n",
        "scaler = preprocessing.MinMaxScaler()\n",
        "y = df.iloc[:, -1]\n",
        "y = y.to_numpy().reshape(-1, 1)\n",
        "scaled_y = scaler.fit_transform(y)\n",
        "scaled_y "
      ],
      "metadata": {
        "id": "wIzHgKYKI3HE",
        "colab": {
          "base_uri": "https://localhost:8080/"
        },
        "outputId": "7099b188-ee06-40b0-a0c8-48bf8ee2eb8e"
      },
      "execution_count": null,
      "outputs": [
        {
          "output_type": "execute_result",
          "data": {
            "text/plain": [
              "array([[0.05237037],\n",
              "       [0.65185185],\n",
              "       [0.22222222],\n",
              "       [0.31851852],\n",
              "       [0.14074074],\n",
              "       [0.04444444],\n",
              "       [0.76296296],\n",
              "       [0.91111111],\n",
              "       [0.13333333],\n",
              "       [1.        ],\n",
              "       [0.37037037],\n",
              "       [0.8       ],\n",
              "       [0.04444444],\n",
              "       [0.05925926],\n",
              "       [0.51111111],\n",
              "       [0.07407407],\n",
              "       [0.11851852],\n",
              "       [0.20740741],\n",
              "       [0.51851852],\n",
              "       [0.        ]])"
            ]
          },
          "metadata": {},
          "execution_count": 6
        }
      ]
    },
    {
      "cell_type": "markdown",
      "source": [
        "Write the definition of Batch Gradient Descent"
      ],
      "metadata": {
        "id": "9qjL7T7P7Tk8"
      }
    },
    {
      "cell_type": "code",
      "source": [
        "from sklearn.metrics import mean_squared_error\n",
        "\n",
        "def batch_gradient_descent(X, y_true, epochs, learning_rate = 0.01):\n",
        "    number_of_features = X.shape[1]\n",
        "    w = np.ones(shape = (number_of_features))\n",
        "    b = 0\n",
        "    total_samples = X.shape[0]\n",
        "    cost_list = []\n",
        "    epoch_list = []\n",
        "    for i in range(epochs):\n",
        "        y_predicted = np.dot(w, X.T) + b\n",
        "        w_grad = -(2/total_samples) * (X.T.dot(y_true - y_predicted))\n",
        "        b_grad = -(2/total_samples) * np.sum(y_true - y_predicted)\n",
        "        w = w - learning_rate * w_grad\n",
        "        b = b - learning_rate * b_grad\n",
        "        cost = mean_squared_error(y_true, y_predicted)\n",
        "        if i % 10 == 0:\n",
        "            cost_list.append(cost)\n",
        "            epoch_list.append(i)\n",
        "        print(\"Epoch: {} Cost: {}\".format(i, cost))\n",
        "    return w, b, cost, cost_list, epoch_list"
      ],
      "metadata": {
        "id": "1vA8LfvktlX2"
      },
      "execution_count": null,
      "outputs": []
    },
    {
      "cell_type": "code",
      "source": [
        "df = pd.read_csv(\"csvfile.csv\")\n",
        "X = df.iloc[:, :-1].to_numpy()\n",
        "y_true = df.iloc[:, -1].to_numpy()\n",
        "w, b, cost, cost_list, epoch_list = batch_gradient_descent(X, y_true, epochs = 10, learning_rate = 0.01)\n",
        "print(\"Final Weights: {}\".format(w))\n",
        "print(\"Final Bias: {}\".format(b))"
      ],
      "metadata": {
        "id": "tLRbt_TGuQJM",
        "outputId": "69cf1769-8d45-4265-b61b-577e99fedf8f",
        "colab": {
          "base_uri": "https://localhost:8080/"
        }
      },
      "execution_count": null,
      "outputs": [
        {
          "output_type": "stream",
          "name": "stdout",
          "text": [
            "Epoch: 0 Cost: 3689431.7672449998\n",
            "Epoch: 1 Cost: 2.39414096079577e+16\n",
            "Epoch: 2 Cost: 1.5536396939828843e+26\n",
            "Epoch: 3 Cost: 1.0082097663610158e+36\n",
            "Epoch: 4 Cost: 6.542616907398172e+45\n",
            "Epoch: 5 Cost: 4.245727171585902e+55\n",
            "Epoch: 6 Cost: 2.7551971131244767e+65\n",
            "Epoch: 7 Cost: 1.7879413408784693e+75\n",
            "Epoch: 8 Cost: 1.160256093182787e+85\n",
            "Epoch: 9 Cost: 7.529297359981388e+94\n",
            "Final Weights: [1.10138498e+49 1.63795609e+46]\n",
            "Final Bias: 4.980602120207803e+45\n"
          ]
        }
      ]
    },
    {
      "cell_type": "code",
      "source": [
        "# Plot the curve for cost vs epoch\n",
        "\n",
        "from matplotlib import pyplot as plt\n",
        "plt.plot(epoch_list, cost_list)\n",
        "plt.xlabel(\"epochs\")\n",
        "plt.ylabel(\"cost\")\n",
        "plt.show()"
      ],
      "metadata": {
        "colab": {
          "base_uri": "https://localhost:8080/",
          "height": 279
        },
        "outputId": "852243b9-3679-44b8-e628-593396dd6943",
        "id": "y4z4qn8Q-5NJ"
      },
      "execution_count": null,
      "outputs": [
        {
          "output_type": "display_data",
          "data": {
            "text/plain": [
              "<Figure size 432x288 with 1 Axes>"
            ],
            "image/png": "[encoded data removed]"
          },
          "metadata": {
            "needs_background": "light"
          }
        }
      ]
    }
  ]
}