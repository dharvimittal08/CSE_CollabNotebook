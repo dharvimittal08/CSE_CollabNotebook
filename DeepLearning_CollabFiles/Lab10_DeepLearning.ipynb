{
  "cells": [
    {
      "cell_type": "code",
      "execution_count": null,
      "metadata": {
        "colab": {
          "base_uri": "https://localhost:8080/"
        },
        "id": "3pBtq4-Gt7yx",
        "outputId": "c3cfa7b2-3b9c-47f3-b53e-031b90cca5b6"
      },
      "outputs": [
        {
          "output_type": "stream",
          "name": "stdout",
          "text": [
            "git: 'https://github.com/matterport/Mask_RCNN.git' is not a git command. See 'git --help'.\n"
          ]
        }
      ],
      "source": [
        "! git https://github.com/matterport/Mask_RCNN.git"
      ]
    },
    {
      "cell_type": "code",
      "execution_count": null,
      "metadata": {
        "colab": {
          
          "base_uri": "https://localhost:8080/"
        },
        "id": "xZrOzcGh9emo",
        "outputId": "17106fab-d7ef-416c-fdd7-5d789365a033"
      },
      "outputs": [
        {
          "output_type": "stream",
          "name": "stdout",
          "text": [
            "fatal: destination path 'BCCD_Dataset' already exists and is not an empty directory.\n"
          ]
        }
      ],
      "source": [
        "! git clone https://github.com/Shenggan/BCCD_Dataset"
      ]
    },
    {
      "cell_type": "code",
      "execution_count": null,
      "metadata": {
        "id": "Jxt7bCwbuust"
      },
      "outputs": [],
      "source": [
        "import os\n",
        "import sys\n",
        "import pandas as pd\n",
        "import random\n",
        "import math\n",
        "import numpy as np\n",
        "import skimage.io\n",
        "import matplotlib\n",
        "import matplotlib.pyplot as plt\n",
        "from glob import glob\n",
        "# Root directory of the project\n",
        "ROOT_DIR = os.path.abspath(\"../\")\n",
        "\n",
        "import warnings\n",
        "warnings.filterwarnings(\"ignore\")\n",
        "from matplotlib import patches"
      ]
    },
    {
      "cell_type": "code",
      "execution_count": null,
      "metadata": {
        "colab": {
          "base_uri": "https://localhost:8080/"
        },
        "id": "efa12cw-9lEZ",
        "outputId": "06436986-9a87-4b29-813a-68b8e33db096"
      },
      "outputs": [
        {
          "output_type": "stream",
          "name": "stdout",
          "text": [
            "\n",
            "Usage:   \n",
            "  pip3 install [options] <requirement specifier> [package-index-options] ...\n",
            "  pip3 install [options] -r <requirements file> [package-index-options] ...\n",
            "  pip3 install [options] [-e] <vcs project url> ...\n",
            "  pip3 install [options] [-e] <local project path> ...\n",
            "  pip3 install [options] <archive url/path> ...\n",
            "\n",
            "-r option requires 1 argument\n"
          ]
        }
      ],
      "source": [
        "! pip install -r "
      ]
    },
    {
      "cell_type": "code",
      "execution_count": null,
      "metadata": {
        "colab": {
          "base_uri": "https://localhost:8080/"
        },
        "id": "m-olhkhz7NnO",
        "outputId": "59b38f2f-1503-48e8-bd8b-2f98495d22c0"
      },
      "outputs": [
        {
          "output_type": "stream",
          "name": "stdout",
          "text": [
            "Looking in indexes: https://pypi.org/simple, https://us-python.pkg.dev/colab-wheels/public/simple/\n",
            "Collecting pycocotools\n",
            "  Cloning https://github.com/philferriere/cocoapi.git to /tmp/pip-install-fdlfo837/pycocotools_0746851ae45d4f959a7f53e115422acc\n",
            "  Running command git clone -q https://github.com/philferriere/cocoapi.git /tmp/pip-install-fdlfo837/pycocotools_0746851ae45d4f959a7f53e115422acc\n"
          ]
        }
      ],
      "source": [
        "!pip install \"git+https://github.com/philferriere/cocoapi.git#egg=pycocotools&subdirectory=PythonAPI\""
      ]
    },
    {
      "cell_type": "code",
      "execution_count": null,
      "metadata": {
        "id": "M42SXm4I9pQJ"
      },
      "outputs": [],
      "source": [
        "annotations = glob('BCCD/Annotations/*.xml')"
      ]
    },
    {
      "cell_type": "code",
      "execution_count": null,
      "metadata": {
        "id": "8p1X79Bm9sK4"
      },
      "outputs": [],
      "source": [
        "def filterFiles(directoryPath, extension):\n",
        "  relevant_path = directoryPath\n",
        "  included_extensions = [extension]\n",
        "  file_names = [file1 for file1 in os.listdir(relevant_path) if any(file1.endswith(ext) for ext in included_extensions)]\n",
        "  numberOfFiles = len(file_names)\n",
        "  listParams = [file_names, numberOfFiles]\n",
        "  return listParams"
      ]
    },
    {
      "cell_type": "code",
      "execution_count": null,
      "metadata": {
        "id": "vjVa7XV398XE"
      },
      "outputs": [],
      "source": [
        "[image_names, numberOfFiles] = filterFiles(\"/content/BCCD_Dataset/BCCD/JPEGImages\", \"jpg\")    "
      ]
    },
    {
      "cell_type": "code",
      "execution_count": null,
      "metadata": {
        "colab": {
          "base_uri": "https://localhost:8080/",
          "height": 206
        },
        "id": "UAGZ0JHuYRGB",
        "outputId": "ad499a69-9fed-42c0-a1c8-bc7095a151f5"
      },
      "outputs": [
        {
          "output_type": "execute_result",
          "data": {
            "text/plain": [
              "               filename  cell_type  xmin  xmax  ymin  ymax\n",
              "0              filename  cell_type  xmin  xmax  ymin  ymax\n",
              "1  BloodImage_00000.jpg        WBC   260   491   177   376\n",
              "2  BloodImage_00000.jpg        RBC    78   184   336   435\n",
              "3  BloodImage_00000.jpg        RBC    63   169   237   336\n",
              "4  BloodImage_00000.jpg        RBC   214   320   362   461"
            ],
            "text/html": [
              "\n",
              "  <div id=\"df-a30035b3-6e2e-48aa-bbec-cf75ee55b9f0\">\n",
              "    <div class=\"colab-df-container\">\n",
              "      <div>\n",
              "<style scoped>\n",
              "    .dataframe tbody tr th:only-of-type {\n",
              "        vertical-align: middle;\n",
              "    }\n",
              "\n",
              "    .dataframe tbody tr th {\n",
              "        vertical-align: top;\n",
              "    }\n",
              "\n",
              "    .dataframe thead th {\n",
              "        text-align: right;\n",
              "    }\n",
              "</style>\n",
              "<table border=\"1\" class=\"dataframe\">\n",
              "  <thead>\n",
              "    <tr style=\"text-align: right;\">\n",
              "      <th></th>\n",
              "      <th>filename</th>\n",
              "      <th>cell_type</th>\n",
              "      <th>xmin</th>\n",
              "      <th>xmax</th>\n",
              "      <th>ymin</th>\n",
              "      <th>ymax</th>\n",
              "    </tr>\n",
              "  </thead>\n",
              "  <tbody>\n",
              "    <tr>\n",
              "      <th>0</th>\n",
              "      <td>filename</td>\n",
              "      <td>cell_type</td>\n",
              "      <td>xmin</td>\n",
              "      <td>xmax</td>\n",
              "      <td>ymin</td>\n",
              "      <td>ymax</td>\n",
              "    </tr>\n",
              "    <tr>\n",
              "      <th>1</th>\n",
              "      <td>BloodImage_00000.jpg</td>\n",
              "      <td>WBC</td>\n",
              "      <td>260</td>\n",
              "      <td>491</td>\n",
              "      <td>177</td>\n",
              "      <td>376</td>\n",
              "    </tr>\n",
              "    <tr>\n",
              "      <th>2</th>\n",
              "      <td>BloodImage_00000.jpg</td>\n",
              "      <td>RBC</td>\n",
              "      <td>78</td>\n",
              "      <td>184</td>\n",
              "      <td>336</td>\n",
              "      <td>435</td>\n",
              "    </tr>\n",
              "    <tr>\n",
              "      <th>3</th>\n",
              "      <td>BloodImage_00000.jpg</td>\n",
              "      <td>RBC</td>\n",
              "      <td>63</td>\n",
              "      <td>169</td>\n",
              "      <td>237</td>\n",
              "      <td>336</td>\n",
              "    </tr>\n",
              "    <tr>\n",
              "      <th>4</th>\n",
              "      <td>BloodImage_00000.jpg</td>\n",
              "      <td>RBC</td>\n",
              "      <td>214</td>\n",
              "      <td>320</td>\n",
              "      <td>362</td>\n",
              "      <td>461</td>\n",
              "    </tr>\n",
              "  </tbody>\n",
              "</table>\n",
              "</div>\n",
              "      <button class=\"colab-df-convert\" onclick=\"convertToInteractive('df-a30035b3-6e2e-48aa-bbec-cf75ee55b9f0')\"\n",
              "              title=\"Convert this dataframe to an interactive table.\"\n",
              "              style=\"display:none;\">\n",
              "        \n",
              "  <svg xmlns=\"http://www.w3.org/2000/svg\" height=\"24px\"viewBox=\"0 0 24 24\"\n",
              "       width=\"24px\">\n",
              "    <path d=\"M0 0h24v24H0V0z\" fill=\"none\"/>\n",
              "    <path d=\"M18.56 5.44l.94 2.06.94-2.06 2.06-.94-2.06-.94-.94-2.06-.94 2.06-2.06.94zm-11 1L8.5 8.5l.94-2.06 2.06-.94-2.06-.94L8.5 2.5l-.94 2.06-2.06.94zm10 10l.94 2.06.94-2.06 2.06-.94-2.06-.94-.94-2.06-.94 2.06-2.06.94z\"/><path d=\"M17.41 7.96l-1.37-1.37c-.4-.4-.92-.59-1.43-.59-.52 0-1.04.2-1.43.59L10.3 9.45l-7.72 7.72c-.78.78-.78 2.05 0 2.83L4 21.41c.39.39.9.59 1.41.59.51 0 1.02-.2 1.41-.59l7.78-7.78 2.81-2.81c.8-.78.8-2.07 0-2.86zM5.41 20L4 18.59l7.72-7.72 1.47 1.35L5.41 20z\"/>\n",
              "  </svg>\n",
              "      </button>\n",
              "      \n",
              "  <style>\n",
              "    .colab-df-container {\n",
              "      display:flex;\n",
              "      flex-wrap:wrap;\n",
              "      gap: 12px;\n",
              "    }\n",
              "\n",
              "    .colab-df-convert {\n",
              "      background-color: #E8F0FE;\n",
              "      border: none;\n",
              "      border-radius: 50%;\n",
              "      cursor: pointer;\n",
              "      display: none;\n",
              "      fill: #1967D2;\n",
              "      height: 32px;\n",
              "      padding: 0 0 0 0;\n",
              "      width: 32px;\n",
              "    }\n",
              "\n",
              "    .colab-df-convert:hover {\n",
              "      background-color: #E2EBFA;\n",
              "      box-shadow: 0px 1px 2px rgba(60, 64, 67, 0.3), 0px 1px 3px 1px rgba(60, 64, 67, 0.15);\n",
              "      fill: #174EA6;\n",
              "    }\n",
              "\n",
              "    [theme=dark] .colab-df-convert {\n",
              "      background-color: #3B4455;\n",
              "      fill: #D2E3FC;\n",
              "    }\n",
              "\n",
              "    [theme=dark] .colab-df-convert:hover {\n",
              "      background-color: #434B5C;\n",
              "      box-shadow: 0px 1px 3px 1px rgba(0, 0, 0, 0.15);\n",
              "      filter: drop-shadow(0px 1px 2px rgba(0, 0, 0, 0.3));\n",
              "      fill: #FFFFFF;\n",
              "    }\n",
              "  </style>\n",
              "\n",
              "      <script>\n",
              "        const buttonEl =\n",
              "          document.querySelector('#df-a30035b3-6e2e-48aa-bbec-cf75ee55b9f0 button.colab-df-convert');\n",
              "        buttonEl.style.display =\n",
              "          google.colab.kernel.accessAllowed ? 'block' : 'none';\n",
              "\n",
              "        async function convertToInteractive(key) {\n",
              "          const element = document.querySelector('#df-a30035b3-6e2e-48aa-bbec-cf75ee55b9f0');\n",
              "          const dataTable =\n",
              "            await google.colab.kernel.invokeFunction('convertToInteractive',\n",
              "                                                     [key], {});\n",
              "          if (!dataTable) return;\n",
              "\n",
              "          const docLinkHtml = 'Like what you see? Visit the ' +\n",
              "            '<a target=\"_blank\" href=https://colab.research.google.com/notebooks/data_table.ipynb>data table notebook</a>'\n",
              "            + ' to learn more about interactive tables.';\n",
              "          element.innerHTML = '';\n",
              "          dataTable['output_type'] = 'display_data';\n",
              "          await google.colab.output.renderOutput(dataTable, element);\n",
              "          const docLink = document.createElement('div');\n",
              "          docLink.innerHTML = docLinkHtml;\n",
              "          element.appendChild(docLink);\n",
              "        }\n",
              "      </script>\n",
              "    </div>\n",
              "  </div>\n",
              "  "
            ]
          },
          "metadata": {},
          "execution_count": 13
        }
      ],
      "source": [
        "trainRCNN = pd.read_csv('/content/BCCD_Dataset/test.csv', sep=\",\", header=None)\n",
        "trainRCNN.columns = ['filename','cell_type','xmin','xmax','ymin','ymax']\n",
        "trainRCNN.head()"
      ]
    },
    {
      "cell_type": "code",
      "execution_count": null,
      "metadata": {
        "colab": {
          "base_uri": "https://localhost:8080/"
        },
        "id": "fnHyHNX69_FR",
        "outputId": "668795e6-06a0-41e2-a2cd-f5502a287293"
      },
      "outputs": [
        {
          "output_type": "stream",
          "name": "stdout",
          "text": [
            "ImageName: B is saved in imagesBox folder\n",
            "ImageName: l is saved in imagesBox folder\n",
            "ImageName: o is saved in imagesBox folder\n",
            "ImageName: o is saved in imagesBox folder\n",
            "ImageName: d is saved in imagesBox folder\n",
            "ImageName: I is saved in imagesBox folder\n",
            "ImageName: m is saved in imagesBox folder\n",
            "ImageName: a is saved in imagesBox folder\n",
            "ImageName: g is saved in imagesBox folder\n",
            "ImageName: e is saved in imagesBox folder\n",
            "ImageName: _ is saved in imagesBox folder\n",
            "ImageName: 0 is saved in imagesBox folder\n",
            "ImageName: 0 is saved in imagesBox folder\n",
            "ImageName: 2 is saved in imagesBox folder\n",
            "ImageName: 8 is saved in imagesBox folder\n",
            "ImageName: 1 is saved in imagesBox folder\n",
            "ImageName: . is saved in imagesBox folder\n",
            "ImageName: j is saved in imagesBox folder\n",
            "ImageName: p is saved in imagesBox folder\n",
            "ImageName: g is saved in imagesBox folder\n",
            "PLOTBOX COMPLETED!\n"
          ]
        }
      ],
      "source": [
        "for imageFileName in (image_names[10]):    \n",
        "    fig = plt.figure()\n",
        "    #add axes to the image\n",
        "    ax = fig.add_axes([0,0,1,1]) #adding X and Y axes from 0 to 1 for each direction \n",
        "    plt.axis('off')\n",
        "\n",
        "    # read and plot the image\n",
        "    image = plt.imread('/content/BCCD_Dataset/BCCD/JPEGImages/BloodImage_00002.jpg')\n",
        "    plt.imshow(image)\n",
        "    # iterating over the image for different objects\n",
        "    for _,row in trainRCNN[trainRCNN.filename == imageFileName].iterrows():\n",
        "        xmin = float(row.xmin)\n",
        "        xmax = float(row.xmax)\n",
        "        ymin = float(row.ymin)\n",
        "        ymax = float(row.ymax)\n",
        "        \n",
        "        width = xmax - xmin\n",
        "        height = ymax - ymin\n",
        "        ClassName= row.cell_type\n",
        "        # assign different color to different classes of objects\n",
        "        if row.cell_type == 'RBC':\n",
        "            ax.annotate('RBC', xy=(xmax-40,ymin+20))\n",
        "            rect = patches.Rectangle((xmin,ymin), width, height, edgecolor = 'r', facecolor = 'none')\n",
        "        elif row.cell_type == 'WBC':\n",
        "            ax.annotate('WBC', xy=(xmax-40,ymin+20))\n",
        "            rect = patches.Rectangle((xmin,ymin), width, height, edgecolor = 'b', facecolor = 'none')\n",
        "        elif row.cell_type == 'Platelets':\n",
        "            ax.annotate('Platelets', xy=(xmax-40,ymin+20))\n",
        "            rect = patches.Rectangle((xmin,ymin), width, height, edgecolor = 'g', facecolor = 'none')        \n",
        "        else:\n",
        "            print(\"nothing\")\n",
        "    \n",
        "        ax.add_patch(rect)   \n",
        "        if not os.path.exists(\"imagesBox\"):\n",
        "            os.makedirs(\"imagesBox\")\n",
        "\n",
        "        fig.savefig('imagesBox/' + imageFileName, dpi=90, bbox_inches='tight')\n",
        "    plt.close()\n",
        "    print(\"ImageName: \" + imageFileName + \" is saved in imagesBox folder\")\n",
        "        \n",
        "print(\"PLOTBOX COMPLETED!\") "
      ]
    },
    {
      "cell_type": "code",
      "execution_count": null,
      "metadata": {
        "id": "qTdwJtadZ2fS",
        "colab": {
          "base_uri": "https://localhost:8080/"
        },
        "outputId": "700f613a-677f-4688-a93a-88d9dd3f4bff"
      },
      "outputs": [
        {
          "output_type": "stream",
          "name": "stdout",
          "text": [
            "Looking in indexes: https://pypi.org/simple, https://us-python.pkg.dev/colab-wheels/public/simple/\n",
            "Requirement already satisfied: mrcnn in /usr/local/lib/python3.7/dist-packages (0.2)\n"
          ]
        }
      ],
      "source": [
        "!pip install mrcnn"
      ]
    },
    {
      "cell_type": "code",
      "execution_count": null,
      "metadata": {
        "id": "TDLMCtLB8OAS"
      },
      "outputs": [],
      "source": [
        "from mrcnn import utils"
      ]
    },
    {
      "cell_type": "code",
      "source": [
        "!git --clone https://github.com/matterport/Mask_RCNN.git"
      ],
      "metadata": {
        "colab": {
          "base_uri": "https://localhost:8080/"
        },
        "id": "kp0xaT-pkOjl",
        "outputId": "0d030695-5957-484b-855c-fdf50eb0d2d4"
      },
      "execution_count": null,
      "outputs": [
        {
          "output_type": "stream",
          "name": "stdout",
          "text": [
            "unknown option: --clone\n",
            "usage: git [--version] [--help] [-C <path>] [-c <name>=<value>]\n",
            "           [--exec-path[=<path>]] [--html-path] [--man-path] [--info-path]\n",
            "           [-p | --paginate | --no-pager] [--no-replace-objects] [--bare]\n",
            "           [--git-dir=<path>] [--work-tree=<path>] [--namespace=<name>]\n",
            "           <command> [<args>]\n"
          ]
        }
      ]
    },
    {
      "cell_type": "code",
      "source": [
        "! pip install -r /content/BCCD_Dataset/BCCD/ImageSets/Main/val.txt"
      ],
      "metadata": {
        "colab": {
          "base_uri": "https://localhost:8080/"
        },
        "id": "jDQ1BxUkkd05",
        "outputId": "7be79ea2-42fc-4fea-81f0-919157f368de"
      },
      "execution_count": null,
      "outputs": [
        {
          "output_type": "stream",
          "name": "stdout",
          "text": [
            "Looking in indexes: https://pypi.org/simple, https://us-python.pkg.dev/colab-wheels/public/simple/\n",
            "\u001b[31mERROR: Could not find a version that satisfies the requirement BloodImage_00000 (from versions: none)\u001b[0m\n",
            "\u001b[31mERROR: No matching distribution found for BloodImage_00000\u001b[0m\n"
          ]
        }
      ]
    },
    {
      "cell_type": "code",
      "source": [
        "! python3 setup.py install"
      ],
      "metadata": {
        "colab": {
          "base_uri": "https://localhost:8080/"
        },
        "id": "s9XlEvkGkkdp",
        "outputId": "e68cb030-c90f-415d-d62f-e7e46beb8795"
      },
      "execution_count": null,
      "outputs": [
        {
          "output_type": "stream",
          "name": "stdout",
          "text": [
            "python3: can't open file 'setup.py': [Errno 2] No such file or directory\n"
          ]
        }
      ]
    }
  ],
  "metadata": {
    "colab": {
      "provenance": []
    },
    "kernelspec": {
      "display_name": "Python 3",
      "name": "python3"
    },
    "language_info": {
      "name": "python"
    }
  },
  "nbformat": 4,
  "nbformat_minor": 0
}
