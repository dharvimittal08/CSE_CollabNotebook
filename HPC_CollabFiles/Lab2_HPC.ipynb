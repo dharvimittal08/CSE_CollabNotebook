{
  "nbformat": 4,
  "nbformat_minor": 0,
  "metadata": {
    "colab": {
      "provenance": []
    },
    "kernelspec": {
      "name": "python3",
      "display_name": "Python 3"
    },
    "language_info": {
      "name": "python"
    }
  },
  "cells": [
    {
      "cell_type": "code",
      "execution_count": null,
      "metadata": {
        "colab": {
          "base_uri": "https://localhost:8080/"
        },
        "id": "WWIhbuREURDV",
        "outputId": "cd66d0fc-aa3d-455b-b54c-0d6dc43b6b74"
      },
      "outputs": [
        {
          "output_type": "stream",
          "name": "stdout",
          "text": [
            "Time taken =  0.0011742115020751953\n",
            "Time Taken =  0.001969575881958008\n"
          ]
        }
      ],
      "source": [
        "#QUESTION 1\n",
        "from itertools import combinations\n",
        "import time\n",
        "import threading\n",
        "\n",
        "def subsets(arr: set) -> list:\n",
        "   subsets = []\n",
        "   [subsets.extend(list(combinations(arr,n))) for n in range(len(arr))]\n",
        "   return subsets \n",
        "\n",
        "def prime(a):\n",
        "  num = sum(a)\n",
        "  for i in range(2,num):\n",
        "    if num%i == 0:\n",
        "      return False\n",
        "  return True\n",
        "\n",
        "def send_sets(Y):\n",
        "  l1 = []\n",
        "  for i in Y:\n",
        "    if prime(i):\n",
        "      l1.append(i)\n",
        "\n",
        "X = list(range(1,11))\n",
        "\n",
        "#part a\n",
        "start = time.time()\n",
        "Y = subsets(X)\n",
        "send_sets(Y)\n",
        "end = time.time()\n",
        "print(\"Time taken = \",end - start)\n",
        "\n",
        "#part b\n",
        "start = time.time()\n",
        "Y = subsets(X)\n",
        "threads = 2\n",
        "thread_handle = []\n",
        "t1 = threading.Thread(target = send_sets, args = (Y[:len(Y)//2],))\n",
        "t2 = threading.Thread(target = send_sets, args = (Y[len(Y)//2:len(Y)],))\n",
        "thread_handle.append(t1)\n",
        "thread_handle.append(t2)\n",
        "t1.start()\n",
        "t2.start()\n",
        "for j in range(threads):\n",
        "  thread_handle[j].join()\n",
        "end = time.time()\n",
        "print(\"Time Taken = \",end - start)"
      ]
    },
    {
      "cell_type": "code",
      "source": [
        "import requests\n",
        "import time\n",
        "import threading\n",
        "\n",
        "target_url = \"https://raw.githubusercontent.com/dwyl/english-words/master/words.txt\"\n",
        "response = requests.get(target_url)\n",
        "data = response.text\n",
        "list1 = data.split('\\n')\n",
        "\n",
        "def check_pal(i,j,list1):\n",
        "  list2 = []\n",
        "  for pos in range(i,j):\n",
        "    if list1[pos][::-1] == list1[pos]:\n",
        "      list2.append(list1[pos])\n",
        "  return list2\n",
        "\n",
        "#OPTION A\n",
        "start = time.time()\n",
        "list3 = check_pal(0,len(list1),list1)\n",
        "end = time.time()\n",
        "print(\"Time taken = \",end - start)\n",
        "\n",
        "#OPTION B\n",
        "start = time.time()\n",
        "threads = 3\n",
        "n = len(list1)\n",
        "thread_handle = []\n",
        "beg = 0\n",
        "end = n//3 #increase divisior to increase therads, checking for 3\n",
        "for i in range(3):\n",
        "  t = threading.Thread(target = check_pal,args = (beg,end,list1,))\n",
        "  thread_handle.append(t)\n",
        "  t.start()\n",
        "  (beg,end) = (end,end+(n//3))\n",
        "\n",
        "for j in range(threads):\n",
        "  thread_handle[j].join()\n",
        "end = time.time()\n",
        "print(\"Time taken = \",end - start)"
      ],
      "metadata": {
        "colab": {
          "base_uri": "https://localhost:8080/"
        },
        "id": "3LpIlVKhyuDN",
        "outputId": "8df44e86-bd24-4b5e-93de-ce48704322c3"
      },
      "execution_count": null,
      "outputs": [
        {
          "output_type": "stream",
          "name": "stdout",
          "text": [
            "Time taken =  0.1071622371673584\n",
            "Time taken =  0.1035928726196289\n"
          ]
        }
      ]
    }
  ]
}
