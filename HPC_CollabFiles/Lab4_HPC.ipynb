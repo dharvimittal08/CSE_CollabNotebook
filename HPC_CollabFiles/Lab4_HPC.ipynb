{
  "nbformat": 4,
  "nbformat_minor": 0,
  "metadata": {
    "colab": {
      "provenance": [],
      "collapsed_sections": []
    },
    "kernelspec": {
      "name": "python3",
      "display_name": "Python 3"
    }
  },
  "cells": [
    {
      "cell_type": "markdown",
      "metadata": {
        "id": "cKxf0gWFFHdH"
      },
      "source": [
        "## Task Parallelism"
      ]
    },
    {
      "cell_type": "code",
      "metadata": {
        "colab": {
          "base_uri": "https://localhost:8080/"
        },
        "id": "8cdaL7MkGxaI",
        "outputId": "452a0561-78a7-438c-8c81-1f90ce1624e8"
      },
      "source": [
        "# download the data\n",
        "!wget https://raw.githubusercontent.com/dwyl/english-words/master/words.txt"
      ],
      "execution_count": 1,
      "outputs": [
        {
          "output_type": "stream",
          "name": "stdout",
          "text": [
            "--2022-09-29 04:35:04--  https://raw.githubusercontent.com/dwyl/english-words/master/words.txt\n",
            "Resolving raw.githubusercontent.com (raw.githubusercontent.com)... 185.199.108.133, 185.199.109.133, 185.199.110.133, ...\n",
            "Connecting to raw.githubusercontent.com (raw.githubusercontent.com)|185.199.108.133|:443... connected.\n",
            "HTTP request sent, awaiting response... 200 OK\n",
            "Length: 4862992 (4.6M) [text/plain]\n",
            "Saving to: ‘words.txt’\n",
            "\n",
            "words.txt           100%[===================>]   4.64M  --.-KB/s    in 0.08s   \n",
            "\n",
            "2022-09-29 04:35:04 (57.5 MB/s) - ‘words.txt’ saved [4862992/4862992]\n",
            "\n"
          ]
        }
      ]
    },
    {
      "cell_type": "code",
      "metadata": {
        "id": "dcqgeac4EgE5"
      },
      "source": [
        "# load the data\n",
        "data = []\n",
        "with open(\"words.txt\", \"r\") as file:\n",
        "  for line in file:\n",
        "    for word in line.split():\n",
        "      data.append(word)"
      ],
      "execution_count": 2,
      "outputs": []
    },
    {
      "cell_type": "code",
      "metadata": {
        "colab": {
          
          "base_uri": "https://localhost:8080/"
        },
        "id": "ZTyOWOcYIEpb",
        "outputId": "af265d23-5b0a-4e05-f16b-50ece5b361bf"
      },
      "source": [
        "print(len(data))\n",
        "print(data[100: 110])"
      ],
      "execution_count": 3,
      "outputs": [
        {
          "output_type": "stream",
          "name": "stdout",
          "text": [
            "466550\n",
            "['aals', 'Aalst', 'Aalto', 'AAM', 'AAMSI', 'Aandahl', 'A-and-R', 'Aani', 'AAO', 'AAP']\n"
          ]
        }
      ]
    },
    {
      "cell_type": "code",
      "metadata": {
        "id": "NaYlDjboI1jE",
        "colab": {
          "base_uri": "https://localhost:8080/"
        },
        "outputId": "e1a4ea66-e424-46a4-fc1f-608275d5f273"
      },
      "source": [
        "size = len(data)\n",
        "print(size)"
      ],
      "execution_count": 4,
      "outputs": [
        {
          "output_type": "stream",
          "name": "stdout",
          "text": [
            "466550\n"
          ]
        }
      ]
    },
    {
      "cell_type": "markdown",
      "metadata": {
        "id": "CAJoCBKXGxtE"
      },
      "source": [
        "### Clue-1"
      ]
    },
    {
      "cell_type": "code",
      "metadata": {
        "colab": {
          "base_uri": "https://localhost:8080/"
        },
        "id": "zWBi-xPxJB1E",
        "outputId": "74ebe774-6af0-4391-9eab-d1b49fd87d5a"
      },
      "source": [
        "# we can create tuples to store the word--> average of similarity with all other words\n",
        "tup = []\n",
        "tup.append(tuple([3,5]))\n",
        "tup.append((5, 6))\n",
        "print(len(tup))\n",
        "print(tup)"
      ],
      "execution_count": 5,
      "outputs": [
        {
          "output_type": "stream",
          "name": "stdout",
          "text": [
            "2\n",
            "[(3, 5), (5, 6)]\n"
          ]
        }
      ]
    },
    {
      "cell_type": "code",
      "metadata": {
        "id": "XmSqIbTOJlAM"
      },
      "source": [
        "# similarity function for counting the common characters in the 2 words\n",
        "def similarity(word1, word2):\n",
        "  #return len(set(word1).intersection(set(word2)))\n",
        "  f_word1, f_word2 = [0] * 256, [0] * 256\n",
        "\n",
        "  count = 0\n",
        "  for i in range(len(word1)):\n",
        "    f_word1[ord(word1[i])] += 1\n",
        "  \n",
        "  for i in range(len(word2)):\n",
        "    f_word2[ord(word2[i])] += 1\n",
        "  \n",
        "  # find the count of common characters\n",
        "  for i in range(256):\n",
        "    count += min(f_word1[i], f_word2[i])\n",
        "  \n",
        "  return count"
      ],
      "execution_count": 6,
      "outputs": []
    },
    {
      "cell_type": "code",
      "metadata": {
        "colab": {
          "base_uri": "https://localhost:8080/"
        },
        "id": "WIan9ZhdKbrB",
        "outputId": "616837e9-b3b3-4341-f3e7-750b42e4f2ce"
      },
      "source": [
        "# checking the working state of the function\n",
        "print(similarity(\"aaab\", \"aaaa\"))\n",
        "print(similarity(\"abbb\", \"aaaa\"))\n",
        "print(similarity(\"AaBB\", \"Abba\"))"
      ],
      "execution_count": 7,
      "outputs": [
        {
          "output_type": "stream",
          "name": "stdout",
          "text": [
            "3\n",
            "1\n",
            "2\n"
          ]
        }
      ]
    },
    {
      "cell_type": "code",
      "metadata": {
        "id": "4HHNF_0jIdW5"
      },
      "source": [
        "words_similarity = {}\n",
        "for w1 in data[100: 600]:\n",
        "  avg = 0\n",
        "  for w2 in data[100: 600]:\n",
        "    avg += similarity(w1, w2)\n",
        "  \n",
        "  words_similarity[w1] = avg / size"
      ],
      "execution_count": 8,
      "outputs": []
    },
    {
      "cell_type": "code",
      "metadata": {
        "colab": {
          "base_uri": "https://localhost:8080/"
        },
        "id": "xv0IzIL8Mz3o",
        "outputId": "08d5481b-3cb2-41ef-e1d8-9333cf9bee4c"
      },
      "source": [
        "print(len(words_similarity))\n",
        "for word in data[100: 110]:\n",
        "  print(word, words_similarity[word])"
      ],
      "execution_count": 9,
      "outputs": [
        {
          "output_type": "stream",
          "name": "stdout",
          "text": [
            "500\n",
            "aals 0.002068374236416247\n",
            "Aalst 0.0022312721037402207\n",
            "Aalto 0.0021776872789625976\n",
            "AAM 0.00037295038045225595\n",
            "AAMSI 0.00038795413138999034\n",
            "Aandahl 0.002854999464151752\n",
            "A-and-R 0.0020083592326653093\n",
            "Aani 0.0020447969135140927\n",
            "AAO 0.000370806987461151\n",
            "AAP 0.00037723716643446576\n"
          ]
        }
      ]
    },
    {
      "cell_type": "code",
      "metadata": {
        "id": "ZSCXKttEQsKa"
      },
      "source": [
        "# sorting the dictionary based on the similarity index\n",
        "words_similarity = sorted(words_similarity.items(), key = lambda x: x[1], reverse = True)"
      ],
      "execution_count": 10,
      "outputs": []
    },
    {
      "cell_type": "code",
      "metadata": {
        "id": "OnE0_eQRuyWD"
      },
      "source": [
        "words_similarity = dict(words_similarity)"
      ],
      "execution_count": 11,
      "outputs": []
    },
    {
      "cell_type": "code",
      "metadata": {
        "colab": {
          "base_uri": "https://localhost:8080/"
        },
        "id": "UiYW7AKTQ8XW",
        "outputId": "7e81c097-795d-4200-cd2c-2c0bb33af475"
      },
      "source": [
        "for i, word in enumerate(words_similarity):\n",
        "  if(i > 5):\n",
        "    break\n",
        "  print(word, words_similarity[word])"
      ],
      "execution_count": 12,
      "outputs": [
        {
          "output_type": "stream",
          "name": "stdout",
          "text": [
            "abdominohysterectomy 0.00595648912228057\n",
            "abdominoanterior 0.0056456971385703564\n",
            "abdominovesical 0.005622119815668203\n",
            "abbreviations 0.005583538741828314\n",
            "abdominohysterotomy 0.005553531239952845\n",
            "abdominocentesis 0.0054763690922730686\n"
          ]
        }
      ]
    },
    {
      "cell_type": "code",
      "metadata": {
        "id": "TpI3Gx19OUX9"
      },
      "source": [
        "# running on full data\n",
        "# %%time\n",
        "# for w1 in data:\n",
        "#   avg = 0\n",
        "#   for w2 in data:\n",
        "#     avg += similarity(w1, w2)\n",
        "  \n",
        "#   words_similarity.append(tuple([w1, avg / size]))"
      ],
      "execution_count": 13,
      "outputs": []
    },
    {
      "cell_type": "markdown",
      "metadata": {
        "id": "VBDpbVO3RfYc"
      },
      "source": [
        "### Clue-2"
      ]
    },
    {
      "cell_type": "code",
      "metadata": {
        "id": "B-yLnhwSO12o"
      },
      "source": [
        "# function to return number of vowels in a word\n",
        "def vowels(word):\n",
        "  count = 0\n",
        "  vowels_list = ['a', 'A', 'e', 'E', 'i', 'I', 'o', 'O', 'u', 'U']\n",
        "  for ch in word:\n",
        "    if(ch in vowels_list):\n",
        "      count += 1\n",
        "  \n",
        "  return count"
      ],
      "execution_count": 14,
      "outputs": []
    },
    {
      "cell_type": "code",
      "metadata": {
        "colab": {
          "base_uri": "https://localhost:8080/"
        },
        "id": "UBO-_feRSYwZ",
        "outputId": "26100750-9f76-4f77-8790-62a15c3e9de2"
      },
      "source": [
        "# checking the function\n",
        "print(vowels(\"aeiou\"))\n",
        "print(vowels(\"AAAE\"))\n",
        "print(vowels(\"bdfgh\"))"
      ],
      "execution_count": 15,
      "outputs": [
        {
          "output_type": "stream",
          "name": "stdout",
          "text": [
            "5\n",
            "4\n",
            "0\n"
          ]
        }
      ]
    },
    {
      "cell_type": "code",
      "metadata": {
        "id": "OhNa9sUGSjr6"
      },
      "source": [
        "words_vowels = {}\n",
        "\n",
        "for w1 in data:\n",
        "  words_vowels[w1] = vowels(w1)"
      ],
      "execution_count": 16,
      "outputs": []
    },
    {
      "cell_type": "code",
      "metadata": {
        "colab": {
          "base_uri": "https://localhost:8080/"
        },
        "id": "A6XnGmA-St-6",
        "outputId": "9fa42c92-5450-46f6-c95c-04de7f67adba"
      },
      "source": [
        "print(len(words_vowels))\n",
        "for i in data[100:110]:\n",
        "  print(i, words_vowels[i])"
      ],
      "execution_count": 17,
      "outputs": [
        {
          "output_type": "stream",
          "name": "stdout",
          "text": [
            "466550\n",
            "aals 2\n",
            "Aalst 2\n",
            "Aalto 3\n",
            "AAM 2\n",
            "AAMSI 3\n",
            "Aandahl 3\n",
            "A-and-R 2\n",
            "Aani 3\n",
            "AAO 3\n",
            "AAP 2\n"
          ]
        }
      ]
    },
    {
      "cell_type": "code",
      "metadata": {
        "id": "9jKuVNlhS166"
      },
      "source": [
        "# sorting the dictionary based on the similarity index\n",
        "words_vowels = sorted(words_vowels.items(), key = lambda x: x[1], reverse = True)"
      ],
      "execution_count": 18,
      "outputs": []
    },
    {
      "cell_type": "code",
      "metadata": {
        "id": "2V1zQ1XEviO1"
      },
      "source": [
        "words_vowels = dict(words_vowels)"
      ],
      "execution_count": 19,
      "outputs": []
    },
    {
      "cell_type": "code",
      "metadata": {
        "colab": {
          "base_uri": "https://localhost:8080/"
        },
        "id": "SnpXfGHsTK8i",
        "outputId": "f3e0da31-67a9-4b0b-9a43-678abf783dfe"
      },
      "source": [
        "for i, word in enumerate(words_vowels):\n",
        "  if(i > 5):\n",
        "    break\n",
        "  print(word, words_vowels[word])"
      ],
      "execution_count": 20,
      "outputs": [
        {
          "output_type": "stream",
          "name": "stdout",
          "text": [
            "pneumonoultramicroscopicsilicovolcanoconiosis 20\n",
            "humuhumunukunukuapuaa 12\n",
            "aminoacetophenetidine 11\n",
            "antidisestablishmentarianism 11\n",
            "autoxidation-reduction 11\n",
            "counterrevolutionaries 11\n"
          ]
        }
      ]
    },
    {
      "cell_type": "markdown",
      "metadata": {
        "id": "XXeFdjtlTReb"
      },
      "source": [
        "### Clue-3"
      ]
    },
    {
      "cell_type": "code",
      "metadata": {
        "id": "H2UHX1mLTNzl"
      },
      "source": [
        "words_chars = {}\n",
        "\n",
        "for w1 in data:\n",
        "  words_chars[w1] = len(w1)"
      ],
      "execution_count": 21,
      "outputs": []
    },
    {
      "cell_type": "code",
      "metadata": {
        "colab": {
          "base_uri": "https://localhost:8080/"
        },
        "id": "gkMoErSOTa9h",
        "outputId": "69e0433b-132a-4177-9764-9b96dbc4e3f0"
      },
      "source": [
        "print(len(words_chars))\n",
        "for i in data[100:110]:\n",
        "  print(i, words_chars[i])"
      ],
      "execution_count": 22,
      "outputs": [
        {
          "output_type": "stream",
          "name": "stdout",
          "text": [
            "466550\n",
            "aals 4\n",
            "Aalst 5\n",
            "Aalto 5\n",
            "AAM 3\n",
            "AAMSI 5\n",
            "Aandahl 7\n",
            "A-and-R 7\n",
            "Aani 4\n",
            "AAO 3\n",
            "AAP 3\n"
          ]
        }
      ]
    },
    {
      "cell_type": "code",
      "metadata": {
        "id": "Be1rVIuATlJb"
      },
      "source": [
        "# sort the dictionary based on the decreasing character length\n",
        "words_chars = sorted(words_chars.items(), key = lambda x: x[1], reverse = True)"
      ],
      "execution_count": 23,
      "outputs": []
    },
    {
      "cell_type": "code",
      "metadata": {
        "id": "tmHeYiZUwY05"
      },
      "source": [
        "words_chars = dict(words_chars)"
      ],
      "execution_count": 24,
      "outputs": []
    },
    {
      "cell_type": "code",
      "metadata": {
        "colab": {
          "base_uri": "https://localhost:8080/"
        },
        "id": "JwBd8FwjTv8R",
        "outputId": "6d6f88c5-61d1-40e1-b974-762b588d326c"
      },
      "source": [
        "for i, word in enumerate(words_chars):\n",
        "  if(i > 5):\n",
        "    break\n",
        "  print(word, words_chars[word])"
      ],
      "execution_count": 25,
      "outputs": [
        {
          "output_type": "stream",
          "name": "stdout",
          "text": [
            "pneumonoultramicroscopicsilicovolcanoconiosis 45\n",
            "dichlorodiphenyltrichloroethane 31\n",
            "cyclotrimethylenetrinitramine 29\n",
            "trinitrophenylmethylnitramine 29\n",
            "antidisestablishmentarianism 28\n",
            "hydroxydehydrocorticosterone 28\n"
          ]
        }
      ]
    },
    {
      "cell_type": "markdown",
      "metadata": {
        "id": "r7zH_uJKU5BF"
      },
      "source": [
        "## Merging 3 lists into 1"
      ]
    },
    {
      "cell_type": "code",
      "metadata": {
        "colab": {
          "base_uri": "https://localhost:8080/"
        },
        "id": "MW3Ygur2jh5h",
        "outputId": "ce2d1c86-2668-422b-a95d-087f2742a38e"
      },
      "source": [
        "word = data[500]\n",
        "print(word)\n",
        "print(words_similarity[word])\n",
        "print(words_vowels[word])\n",
        "print(words_chars[word])"
      ],
      "execution_count": 26,
      "outputs": [
        {
          "output_type": "stream",
          "name": "stdout",
          "text": [
            "Abelite\n",
            "0.003047904833351195\n",
            "4\n",
            "7\n"
          ]
        }
      ]
    },
    {
      "cell_type": "code",
      "metadata": {
        "id": "mY6qXKF6Wtjy",
        "colab": {
          "base_uri": "https://localhost:8080/"
        },
        "outputId": "80f921e4-e3ab-4c8f-a0a3-7abca4c2d618"
      },
      "source": [
        "%%time\n",
        "final_list = {}\n",
        "\n",
        "for word in data[100: 600]:\n",
        "  contribution = 0.0\n",
        "  contribution = (words_similarity[word] + words_vowels[word] + words_chars[word]) * 0.33\n",
        "  final_list[word] = contribution"
      ],
      "execution_count": 27,
      "outputs": [
        {
          "output_type": "stream",
          "name": "stdout",
          "text": [
            "CPU times: user 800 µs, sys: 0 ns, total: 800 µs\n",
            "Wall time: 811 µs\n"
          ]
        }
      ]
    },
    {
      "cell_type": "code",
      "metadata": {
        "colab": {
          "base_uri": "https://localhost:8080/"
        },
        "id": "u7dT8hYXxwoS",
        "outputId": "d23797f1-d4a9-42ba-a21a-5d0e40800e87"
      },
      "source": [
        "print(len(final_list))\n",
        "for i in data[100:110]:\n",
        "  print(i, final_list[i])"
      ],
      "execution_count": 28,
      "outputs": [
        {
          "output_type": "stream",
          "name": "stdout",
          "text": [
            "500\n",
            "aals 1.9806825634980172\n",
            "Aalst 2.3107363197942346\n",
            "Aalto 2.640718636802058\n",
            "AAM 1.6501230736255492\n",
            "AAMSI 2.640128024863359\n",
            "Aandahl 3.3009421498231704\n",
            "A-and-R 2.9706627585467795\n",
            "Aani 2.31067478298146\n",
            "AAO 1.9801223663058622\n",
            "AAP 1.6501244882649233\n"
          ]
        }
      ]
    },
    {
      "cell_type": "code",
      "metadata": {
        "id": "eLI6UiEjx4Vg"
      },
      "source": [
        "# sort the dictionary based on the contribution index\n",
        "final_list = sorted(final_list.items(), key = lambda x: x[1], reverse = True)"
      ],
      "execution_count": 29,
      "outputs": []
    },
    {
      "cell_type": "code",
      "metadata": {
        "id": "f6BMV9xIyDgk"
      },
      "source": [
        "final_list = dict(final_list)"
      ],
      "execution_count": 30,
      "outputs": []
    },
    {
      "cell_type": "code",
      "metadata": {
        "colab": {
          "base_uri": "https://localhost:8080/"
        },
        "id": "J4dmUQ0TyKsY",
        "outputId": "20c1b7aa-52a2-4e1e-d4e5-7bfc1e1e25e4"
      },
      "source": [
        "for i, word in enumerate(final_list):\n",
        "  if(i > 10):\n",
        "    break\n",
        "  print(word, final_list[word])"
      ],
      "execution_count": 31,
      "outputs": [
        {
          "output_type": "stream",
          "name": "stdout",
          "text": [
            "abdominohysterectomy 8.911965641410353\n",
            "abdominohysterotomy 8.581832665309186\n",
            "abdomino-uterotomy 8.581718079519879\n",
            "abdominoposterior 8.251795884685457\n",
            "abdominoanterior 7.921863080055728\n",
            "abdominocentesis 7.591807201800449\n",
            "abdominothoracic 7.591742128389241\n",
            "abdominovesical 7.261855299539171\n",
            "abdominogenital 7.261800835923267\n",
            "abdominocardiac 7.261612688886507\n",
            "abdominovaginal 7.261541249598115\n"
          ]
        }
      ]
    },
    {
      "cell_type": "code",
      "metadata": {
        "id": "GSlfvnqNyRWU"
      },
      "source": [
        "# picking the top 100 elements\n",
        "\n",
        "potential_words = []\n",
        "\n",
        "for i, word in enumerate(final_list):\n",
        "  if(i > 99):\n",
        "    break\n",
        "  \n",
        "  potential_words.append(word)"
      ],
      "execution_count": 32,
      "outputs": []
    },
    {
      "cell_type": "code",
      "metadata": {
        "colab": {
          "base_uri": "https://localhost:8080/"
        },
        "id": "9ahzFtPLyu-Z",
        "outputId": "3007feef-8ebd-4eea-cb78-ff07886f1eea"
      },
      "source": [
        "print(len(potential_words))\n",
        "print(potential_words[:10])"
      ],
      "execution_count": 33,
      "outputs": [
        {
          "output_type": "stream",
          "name": "stdout",
          "text": [
            "100\n",
            "['abdominohysterectomy', 'abdominohysterotomy', 'abdomino-uterotomy', 'abdominoposterior', 'abdominoanterior', 'abdominocentesis', 'abdominothoracic', 'abdominovesical', 'abdominogenital', 'abdominocardiac']\n"
          ]
        }
      ]
    },
    {
      "cell_type": "markdown",
      "metadata": {
        "id": "h7tY_6r_zdlv"
      },
      "source": [
        "## Parallel Implementation"
      ]
    },
    {
      "cell_type": "code",
      "metadata": {
        "colab": {
          "base_uri": "https://localhost:8080/"
        },
        "id": "BkSGKMHp10uS",
        "outputId": "994f2fc9-dc5a-45c4-d175-2d44cce4d647"
      },
      "source": [
        "!pip install pymp-pypi"
      ],
      "execution_count": 34,
      "outputs": [
        {
          "output_type": "stream",
          "name": "stdout",
          "text": [
            "Looking in indexes: https://pypi.org/simple, https://us-python.pkg.dev/colab-wheels/public/simple/\n",
            "Collecting pymp-pypi\n",
            "  Downloading pymp-pypi-0.5.0.tar.gz (12 kB)\n",
            "Building wheels for collected packages: pymp-pypi\n",
            "  Building wheel for pymp-pypi (setup.py) ... \u001b[?25l\u001b[?25hdone\n",
            "  Created wheel for pymp-pypi: filename=pymp_pypi-0.5.0-py3-none-any.whl size=10339 sha256=c1d2121810079a9b6f6e17f9a8e5679ce16b7c625669dba84a6b2d98adf473ee\n",
            "  Stored in directory: /root/.cache/pip/wheels/22/2a/4e/d49c406bb5eb2c04b424940de41d40b3b1481c31b9f93a13c1\n",
            "Successfully built pymp-pypi\n",
            "Installing collected packages: pymp-pypi\n",
            "Successfully installed pymp-pypi-0.5.0\n"
          ]
        }
      ]
    },
    {
      "cell_type": "code",
      "metadata": {
        "colab": {
          "base_uri": "https://localhost:8080/"
        },
        "id": "PktqK36m24_4",
        "outputId": "048b31c0-7c27-4f86-8065-9b38b3b51659"
      },
      "source": [
        "# checking the cores and number of threads\n",
        "import pymp\n",
        "with pymp.Parallel() as p:\n",
        "  p.print(\"thread number: \", p.thread_num)\n",
        "  p.print(\"number of threads: \", p.num_threads)"
      ],
      "execution_count": 36,
      "outputs": [
        {
          "output_type": "stream",
          "name": "stdout",
          "text": [
            "thread number:  0\n",
            "thread number:  1number of threads:  2\n",
            "\n",
            "number of threads:  2\n"
          ]
        }
      ]
    },
    {
      "cell_type": "code",
      "metadata": {
        "id": "oW7xye5lyzoQ"
      },
      "source": [
        "import pymp\n",
        "\n",
        "def clue1():\n",
        "  with pymp.Parallel() as p:\n",
        "    for w1 in data[100: 600]:\n",
        "      avg = 0\n",
        "      for w2 in data[100: 600]:\n",
        "        avg += similarity(w1, w2)\n",
        "  \n",
        "      words_similarity[w1] = avg / size"
      ],
      "execution_count": 37,
      "outputs": []
    },
    {
      "cell_type": "code",
      "metadata": {
        "colab": {
          "base_uri": "https://localhost:8080/"
        },
        "id": "OZvHU9W62Nyg",
        "outputId": "877b2906-2ec4-4d2f-e050-c8b1a3547aef"
      },
      "source": [
        "%%time\n",
        "words_similarity = pymp.shared.dict()\n",
        "clue1()\n",
        "\n",
        "# sort the dictionary\n",
        "words_similarity = dict(sorted(words_similarity.items(), key = lambda x: x[1], reverse = True))"
      ],
      "execution_count": 38,
      "outputs": [
        {
          "output_type": "stream",
          "name": "stdout",
          "text": [
            "CPU times: user 31.8 s, sys: 79.4 ms, total: 31.9 s\n",
            "Wall time: 32.9 s\n"
          ]
        }
      ]
    },
    {
      "cell_type": "code",
      "metadata": {
        "colab": {
          "base_uri": "https://localhost:8080/"
        },
        "id": "iSqiNGnC2U1w",
        "outputId": "bf5c131c-a6d2-4290-9d1e-d5092166bc18"
      },
      "source": [
        "for i, word in enumerate(words_similarity):\n",
        "  if(i > 10):\n",
        "    break\n",
        "  print(word, words_similarity[word])"
      ],
      "execution_count": 39,
      "outputs": [
        {
          "output_type": "stream",
          "name": "stdout",
          "text": [
            "abdominohysterectomy 0.00595648912228057\n",
            "abdominoanterior 0.0056456971385703564\n",
            "abdominovesical 0.005622119815668203\n",
            "abbreviations 0.005583538741828314\n",
            "abdominohysterotomy 0.005553531239952845\n",
            "abdominocentesis 0.0054763690922730686\n",
            "abdominogenital 0.005457078555353124\n",
            "abdominoposterior 0.005442074804415389\n",
            "abecedarians 0.005412067302539921\n",
            "aberrations 0.005362769263744508\n",
            "aberrational 0.00530275425999357\n"
          ]
        }
      ]
    },
    {
      "cell_type": "code",
      "metadata": {
        "id": "1zbXwzLQ1W4k"
      },
      "source": [
        "def clue2():\n",
        "  with pymp.Parallel() as p:\n",
        "    for w1 in p.range(0, len(data)):\n",
        "      words_vowels[data[w1]] = vowels(data[w1])"
      ],
      "execution_count": 40,
      "outputs": []
    },
    {
      "cell_type": "code",
      "metadata": {
        "colab": {
          "base_uri": "https://localhost:8080/"
        },
        "id": "xFwp2nIZ2c80",
        "outputId": "271a2804-56b5-4101-fac7-bbb2411799c1"
      },
      "source": [
        "%%time\n",
        "words_vowels = pymp.shared.dict()\n",
        "clue2()\n",
        "\n",
        "# sort the dictionary\n",
        "words_vowels = dict(sorted(words_vowels.items(), key = lambda x: x[1], reverse = True))"
      ],
      "execution_count": 41,
      "outputs": [
        {
          "output_type": "stream",
          "name": "stdout",
          "text": [
            "CPU times: user 8.16 s, sys: 3.27 s, total: 11.4 s\n",
            "Wall time: 24.5 s\n"
          ]
        }
      ]
    },
    {
      "cell_type": "code",
      "metadata": {
        "colab": {
          "base_uri": "https://localhost:8080/"
        },
        "id": "NvjVSkKp2vSo",
        "outputId": "c086722b-21b2-4666-cca2-f9c921a108c7"
      },
      "source": [
        "for i, word in enumerate(words_vowels):\n",
        "  if(i > 10):\n",
        "    break\n",
        "  print(word, words_vowels[word])"
      ],
      "execution_count": 42,
      "outputs": [
        {
          "output_type": "stream",
          "name": "stdout",
          "text": [
            "pneumonoultramicroscopicsilicovolcanoconiosis 20\n",
            "humuhumunukunukuapuaa 12\n",
            "aminoacetophenetidine 11\n",
            "antidisestablishmentarianism 11\n",
            "autoxidation-reduction 11\n",
            "overindividualization 11\n",
            "overintellectualization 11\n",
            "palaeometeorological 11\n",
            "pericardiomediastinitis 11\n",
            "pseudointernationalistic 11\n",
            "counterrevolutionaries 11\n"
          ]
        }
      ]
    },
    {
      "cell_type": "code",
      "metadata": {
        "id": "zGxASQy02wSV"
      },
      "source": [
        "def clue3():\n",
        "  with pymp.Parallel() as p:\n",
        "    for w1 in p.range(0, len(data)):\n",
        "      words_chars[data[w1]] = len(data[w1])"
      ],
      "execution_count": 43,
      "outputs": []
    },
    {
      "cell_type": "code",
      "metadata": {
        "colab": {
          "base_uri": "https://localhost:8080/"
        },
        "id": "kNs6xCFI3klt",
        "outputId": "ac6d3501-5e67-4ef3-dfb7-041279329888"
      },
      "source": [
        "%%time\n",
        "words_chars = pymp.shared.dict()\n",
        "clue3()\n",
        "\n",
        "# sort the dictionary\n",
        "words_chars = dict(sorted(words_chars.items(), key = lambda x: x[1], reverse = True))"
      ],
      "execution_count": 44,
      "outputs": [
        {
          "output_type": "stream",
          "name": "stdout",
          "text": [
            "CPU times: user 6.8 s, sys: 2.98 s, total: 9.78 s\n",
            "Wall time: 20.5 s\n"
          ]
        }
      ]
    },
    {
      "cell_type": "code",
      "metadata": {
        "colab": {
          "base_uri": "https://localhost:8080/"
        },
        "id": "hxdCryKW3uu8",
        "outputId": "1f76e5ae-5438-47b0-e564-9fc637f3e0c6"
      },
      "source": [
        "for i, word in enumerate(words_chars):\n",
        "  if(i > 10):\n",
        "    break\n",
        "  print(word, words_chars[word])"
      ],
      "execution_count": 45,
      "outputs": [
        {
          "output_type": "stream",
          "name": "stdout",
          "text": [
            "pneumonoultramicroscopicsilicovolcanoconiosis 45\n",
            "dichlorodiphenyltrichloroethane 31\n",
            "cyclotrimethylenetrinitramine 29\n",
            "trinitrophenylmethylnitramine 29\n",
            "antidisestablishmentarianism 28\n",
            "hydroxydehydrocorticosterone 28\n",
            "microspectrophotometrically 27\n",
            "electroencephalographically 27\n",
            "hydroxydesoxycorticosterone 27\n",
            "Mentor-on-the-Lake-Village 26\n",
            "straight-from-the-shoulder 26\n"
          ]
        }
      ]
    },
    {
      "cell_type": "code",
      "metadata": {
        "id": "MMzCUwDj4pyY"
      },
      "source": [
        "def merge():\n",
        "  with pymp.Parallel() as p:\n",
        "    for i in p.range(100, 600):\n",
        "      contribution = 0\n",
        "      contribution = (words_similarity[data[i]] + words_vowels[data[i]] + words_chars[data[i]]) * 0.33\n",
        "      final_list[data[i]] = contribution"
      ],
      "execution_count": 46,
      "outputs": []
    },
    {
      "cell_type": "code",
      "metadata": {
        "colab": {
          "base_uri": "https://localhost:8080/"
        },
        "id": "WTmDMNAe5SAm",
        "outputId": "a083effd-a847-407c-d31b-553a65b454e1"
      },
      "source": [
        "%%time\n",
        "final_list = pymp.shared.dict()\n",
        "merge()\n",
        "\n",
        "# sort the dictionary\n",
        "\n",
        "final_list = dict(sorted(final_list.items(), key = lambda x: x[1], reverse = True))"
      ],
      "execution_count": 47,
      "outputs": [
        {
          "output_type": "stream",
          "name": "stdout",
          "text": [
            "CPU times: user 20.2 ms, sys: 17.2 ms, total: 37.5 ms\n",
            "Wall time: 96.9 ms\n"
          ]
        }
      ]
    },
    {
      "cell_type": "code",
      "metadata": {
        "colab": {
          "base_uri": "https://localhost:8080/"
        },
        "id": "4K-wSqXN57fc",
        "outputId": "885848b6-bbd6-45b3-e026-475807f04bbf"
      },
      "source": [
        "for i, word in enumerate(final_list):\n",
        "  if(i > 10):\n",
        "    break\n",
        "  print(word, final_list[word])"
      ],
      "execution_count": 48,
      "outputs": [
        {
          "output_type": "stream",
          "name": "stdout",
          "text": [
            "abdominohysterectomy 8.911965641410353\n",
            "abdominohysterotomy 8.581832665309186\n",
            "abdomino-uterotomy 8.581718079519879\n",
            "abdominoposterior 8.251795884685457\n",
            "abdominoanterior 7.921863080055728\n",
            "abdominocentesis 7.591807201800449\n",
            "abdominothoracic 7.591742128389241\n",
            "abdominovesical 7.261855299539171\n",
            "abdominogenital 7.261800835923267\n",
            "abdominocardiac 7.261612688886507\n",
            "abdominovaginal 7.261541249598115\n"
          ]
        }
      ]
    },
    {
      "cell_type": "code",
      "metadata": {
        "id": "_eWtXKAN6Bbl"
      },
      "source": [
        "# picking the top 100 elements\n",
        "\n",
        "potential_words = []\n",
        "\n",
        "for i, word in enumerate(final_list):\n",
        "  if(i > 99):\n",
        "    break\n",
        "  \n",
        "  potential_words.append(word)"
      ],
      "execution_count": 49,
      "outputs": []
    },
    {
      "cell_type": "code",
      "metadata": {
        "colab": {
          "base_uri": "https://localhost:8080/"
        },
        "id": "XqPM2LRu6IHs",
        "outputId": "a7ee113f-dfcb-40d1-de17-0b0877e3281e"
      },
      "source": [
        "print(len(potential_words))\n",
        "print(potential_words[:10])"
      ],
      "execution_count": 50,
      "outputs": [
        {
          "output_type": "stream",
          "name": "stdout",
          "text": [
            "100\n",
            "['abdominohysterectomy', 'abdominohysterotomy', 'abdomino-uterotomy', 'abdominoposterior', 'abdominoanterior', 'abdominocentesis', 'abdominothoracic', 'abdominovesical', 'abdominogenital', 'abdominocardiac']\n"
          ]
        }
      ]
    },
    {
      "cell_type": "code",
      "metadata": {
        "id": "C8H1XyXa6LA0"
      },
      "source": [],
      "execution_count": 50,
      "outputs": []
    }
  ]
}
