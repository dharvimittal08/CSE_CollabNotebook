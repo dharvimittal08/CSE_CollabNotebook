{
 "cells": [
  {
   "cell_type": "code",
   "execution_count": 1,
   "metadata": {
    "collapsed": true
   },
   "outputs": [],
   "source": [
    "from numba import cuda\n",
    "import numpy as np\n",
    "import timeit\n",
    "import time"
   ]
  },
  {
   "cell_type": "code",
   "execution_count": 2,
   "metadata": {},
   "outputs": [
    {
     "name": "stdout",
     "output_type": "stream",
     "text": [
      "0.6233041286468506\n"
     ]
    }
   ],
   "source": [
    "@cuda.jit\n",
    "def multiply_matrix_vector_with_synchronize(matrix, vector, result):\n",
    "    i, j = cuda.grid(2)\n",
    "    if i < matrix.shape[0] and j < vector.shape[0]:\n",
    "        cuda.syncthreads()\n",
    "        result[i] += matrix[i, j] * vector[j]\n",
    "\n",
    "matrix = np.random.randint(100, size=(10000, 10000))\n",
    "vector = np.random.randint(100, size=(10000))\n",
    "result = np.zeros(10000, dtype=np.float32)\n",
    "\n",
    "threads_per_block = 3\n",
    "blocks_per_grid = 3\n",
    "\n",
    "start = time.time()\n",
    "multiply_matrix_vector_with_synchronize[blocks_per_grid, threads_per_block](matrix, vector, result)\n",
    "end = time.time()\n",
    "print(end-start)"
   ]
  },
  {
   "cell_type": "code",
   "execution_count": 3,
   "metadata": {},
   "outputs": [
    {
     "name": "stdout",
     "output_type": "stream",
     "text": [
      "256.94266510009766\n"
     ]
    }
   ],
   "source": [
    "def sequential_matrix_vector(matrix, vector):\n",
    "    result = np.zeros(10000, dtype=np.float32)\n",
    "    for i in range(matrix.shape[0]):\n",
    "        for j in range(vector.shape[0]):\n",
    "            result[i] += matrix[i, j] * vector[j]\n",
    "    return result\n",
    "\n",
    "start = time.time()\n",
    "sequential_matrix_vector(matrix, vector)\n",
    "end = time.time()\n",
    "print(end-start)"
   ]
  },
  {
   "cell_type": "code",
   "execution_count": 4,
   "metadata": {},
   "outputs": [
    {
     "data": {
      "text/plain": [
       "412.2267979483821"
      ]
     },
     "execution_count": 4,
     "metadata": {},
     "output_type": "execute_result"
    }
   ],
   "source": [
    "#speedup\n",
    "256.94266510009766/0.6233041286468506"
   ]
  },
  {
   "cell_type": "code",
   "execution_count": null,
   "metadata": {
    "collapsed": true
   },
   "outputs": [],
   "source": []
  }
 ],
 "metadata": {
  "kernelspec": {
   "display_name": "Python 3",
   "language": "python",
   "name": "python3"
  },
  "language_info": {
   "codemirror_mode": {
    "name": "ipython",
    "version": 3
   },
   "file_extension": ".py",
   "mimetype": "text/x-python",
   "name": "python",
   "nbconvert_exporter": "python",
   "pygments_lexer": "ipython3",
   "version": "3.6.10"
  }
 },
 "nbformat": 4,
 "nbformat_minor": 2
}
