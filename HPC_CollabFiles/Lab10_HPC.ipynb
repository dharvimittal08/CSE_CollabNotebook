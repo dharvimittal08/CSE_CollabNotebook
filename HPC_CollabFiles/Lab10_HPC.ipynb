{
  "cells": [
    {
      "cell_type": "code",
      "source": [
        "!pip install pymp-pypi"
      ],
      "metadata": {
        "colab": {
          "base_uri": "https://localhost:8080/"
        },
        "id": "-9iicLhNSn6y",
        "outputId": "74997d87-9ff5-421c-b4ab-b97e154a08d6"
      },
      "id": "-9iicLhNSn6y",
      "execution_count": null,
      "outputs": [
        {
          "output_type": "stream",
          "name": "stdout",
          "text": [
            "Looking in indexes: https://pypi.org/simple, https://us-python.pkg.dev/colab-wheels/public/simple/\n",
            "Collecting pymp-pypi\n",
            "  Downloading pymp-pypi-0.5.0.tar.gz (12 kB)\n",
            "Building wheels for collected packages: pymp-pypi\n",
            "  Building wheel for pymp-pypi (setup.py) ... \u001b[?25l\u001b[?25hdone\n",
            "  Created wheel for pymp-pypi: filename=pymp_pypi-0.5.0-py3-none-any.whl size=10339 sha256=473fde4521d50d3c64fcb49b8451f5fce26a371bb956d77aa7d36faa0b221ed6\n",
            "  Stored in directory: /root/.cache/pip/wheels/22/2a/4e/d49c406bb5eb2c04b424940de41d40b3b1481c31b9f93a13c1\n",
            "Successfully built pymp-pypi\n",
            "Installing collected packages: pymp-pypi\n",
            "Successfully installed pymp-pypi-0.5.0\n"
          ]
        }
      ]
    },
    {
      "cell_type": "code",
      "source": [
        "from google.colab import drive\n",
        "drive.mount('/content/drive')"
      ],
      "metadata": {
        "colab": {
          "base_uri": "https://localhost:8080/"
        },
        "id": "ONATEgaR3awq",
        "outputId": "2f46d4b6-b303-4cce-b10b-a1460ae840c5"
      },
      "id": "ONATEgaR3awq",
      "execution_count": null,
      "outputs": [
        {
          "output_type": "stream",
          "name": "stdout",
          "text": [
            "Mounted at /content/drive\n"
          ]
        }
      ]
    },
    {
      "cell_type": "code",
      "execution_count": null,
      "id": "4b72df5e-46b2-43af-8c8e-eef96c422fe1",
      "metadata": {
        "colab": {
          "base_uri": "https://localhost:8080/"
        },
        "id": "4b72df5e-46b2-43af-8c8e-eef96c422fe1",
        "outputId": "ad88fdee-b5ce-4e06-c4ea-19127d85b3a6"
      },
      "outputs": [
        {
          "output_type": "stream",
          "name": "stdout",
          "text": [
            "DiGraph with 875713 nodes and 5105039 edges\n",
            "DiGraph with 855802 nodes and 5066842 edges\n"
          ]
        }
      ],
      "source": [
        "\n",
        "import pandas as pd\n",
        "import numpy as np\n",
        "import matplotlib.pyplot as plt\n",
        "%matplotlib inline\n",
        "import networkx as nx\n",
        "import pymp\n",
        "import threading\n",
        "import time\n",
        "\n",
        "\n",
        "G_tmp = nx.read_edgelist('/content/drive/MyDrive/Colab Notebooks/web-Google.txt', create_using = nx.DiGraph)\n",
        "print(nx.info(G_tmp))\n",
        "\n",
        "# To begin with, let's simplify our analysis by ignoring the dangling nodes and the disconnected components in the original graph.\n",
        "c = sorted(nx.weakly_connected_components(G_tmp), key=len, reverse=True)\n",
        "wcc_set = c[0]\n",
        "G = G_tmp.subgraph(wcc_set)\n",
        "print(nx.info(G))"
      ]
    },
    {
      "cell_type": "code",
      "execution_count": null,
      "id": "3f076d58-abaa-469f-8023-a0ff5b556f4e",
      "metadata": {
        "colab": {
          "base_uri": "https://localhost:8080/"
        },
        "id": "3f076d58-abaa-469f-8023-a0ff5b556f4e",
        "outputId": "995c6646-8598-481e-aba3-3e45d5917087"
      },
      "outputs": [
        {
          "output_type": "stream",
          "name": "stdout",
          "text": [
            "<class 'scipy.sparse.csr.csr_matrix'>\n"
          ]
        }
      ],
      "source": [
        "tele_p = 0.15\n",
        "A = nx.adjacency_matrix(G)\n",
        "A = A.T\n",
        "\n",
        "n = A.shape[0]\n",
        "A = A.tocsr()\n",
        "print(type(A))\n",
        "A = A.astype('float64')\n",
        "\n",
        "# A = np.array(A, dtype = 'float64'\n",
        "out_degrees = np.array([G.out_degree[x] for x in list(G.nodes)], dtype='float64')\n",
        "A.data *= (1-tele_p) / np.take(out_degrees, A.indices)\n",
        "\n",
        "r =  np.ones((n,1))\n",
        "error = 1"
      ]
    },
    {
      "cell_type": "code",
      "execution_count": null,
      "id": "001b3607-fe42-4ce0-81d9-d85c14e19731",
      "metadata": {
        "colab": {
          "base_uri": "https://localhost:8080/"
        },
        "id": "001b3607-fe42-4ce0-81d9-d85c14e19731",
        "outputId": "a9e6936b-4fea-4673-d160-61c381e71f76"
      },
      "outputs": [
        {
          "output_type": "stream",
          "name": "stdout",
          "text": [
            "part of my result\n",
            " [3.85815304e-05 4.00701357e-05 9.17296455e-06 4.06048437e-05\n",
            " 3.92275364e-05 7.56980779e-06 1.15057046e-05 3.57252804e-06\n",
            " 4.17035960e-06 4.17035960e-06 5.12689231e-06 2.88231421e-06\n",
            " 3.01044209e-06 3.21045624e-06 8.51999968e-06 3.56205012e-06\n",
            " 1.08455058e-06 1.47372821e-04 3.43878437e-04 7.88711799e-06\n",
            " 7.80079949e-06 1.09102265e-06 5.20667230e-06 4.85943119e-06\n",
            " 3.79799035e-06 7.12106861e-06 4.03820224e-06 3.52343295e-06\n",
            " 1.58183203e-05 3.76417755e-06 3.73410106e-06 3.73410106e-06\n",
            " 3.73410106e-06 4.74390242e-06 2.36847042e-06 9.98521594e-06\n",
            " 1.26104413e-05 3.43715028e-04 9.60930635e-06 9.48328957e-06\n",
            " 9.76852109e-06 9.85223140e-06 9.82741681e-06 9.66320395e-06\n",
            " 9.71427373e-06 1.93430593e-06 1.92770297e-06 2.06275280e-06\n",
            " 5.27340743e-06 1.92770297e-06]\n",
            "part of networkx's result\n",
            " [2.83545918e-05 3.17140006e-05 7.15313456e-06 3.18433656e-05\n",
            " 3.10020184e-05 5.45502590e-06 1.15575220e-05 3.07694855e-06\n",
            " 2.69228185e-06 2.69228185e-06 5.17349351e-06 2.05934593e-06\n",
            " 2.08156160e-06 2.34779737e-06 6.11384378e-06 2.47537605e-06\n",
            " 5.87459196e-07 1.75093821e-04 3.71590743e-04 7.08537651e-06\n",
            " 3.70897411e-06 5.91671476e-07 3.97260442e-06 3.61127278e-06\n",
            " 2.75852433e-06 5.65562148e-06 2.81977746e-06 2.43426924e-06\n",
            " 1.10552532e-05 2.81129815e-06 2.76713990e-06 2.76713990e-06\n",
            " 2.76713990e-06 4.60586095e-06 1.94053971e-06 7.50825438e-06\n",
            " 8.07304360e-06 3.13681305e-04 7.21791541e-06 7.11620490e-06\n",
            " 7.40872488e-06 7.88138455e-06 7.44274097e-06 7.26072719e-06\n",
            " 7.49145206e-06 1.62834003e-06 1.61519245e-06 1.81694650e-06\n",
            " 3.22474052e-06 1.61519245e-06]\n",
            "42.25825643539429\n"
          ]
        }
      ],
      "source": [
        "start = time.time()\n",
        "for _ in range(10):\n",
        "#     if _ % 100 == 0:\n",
        "#         print(\"iter\", _)\n",
        "    r_new = A @ r\n",
        "    r_new += np.sum(r) * tele_p / n\n",
        "#     r_new /= np.sum(r_new)\n",
        "    error = np.sum(np.absolute(r - r_new))\n",
        "    r = r_new\n",
        "    if error < 1e-6:\n",
        "        break\n",
        "\n",
        "r /= np.sum(r)\n",
        "r = r.reshape(n)\n",
        "\n",
        "print(\"part of my result\\n\", r[:50])\n",
        "truth = nx.pagerank(G, alpha=0.85, max_iter = 100)\n",
        "truth = np.array(list(truth.values()), dtype='float64')\n",
        "print(\"part of networkx's result\\n\",truth[:50])\n",
        "end = time.time()\n",
        "print(end-start)"
      ]
    },
    {
      "cell_type": "code",
      "execution_count": null,
      "id": "2ab2e2c0-06d5-4871-9980-acc95b4054bb",
      "metadata": {
        "id": "2ab2e2c0-06d5-4871-9980-acc95b4054bb"
      },
      "outputs": [],
      "source": [
        "# using pymp to parallelize the code\n",
        "def pagerank_pymp(A, n, tele_p, r, error):\n",
        "    for _ in range(10):\n",
        "        r_new = A @ r\n",
        "        r_new += np.sum(r) * tele_p / n\n",
        "        error = np.sum(np.absolute(r - r_new))\n",
        "        r = r_new\n",
        "        if error < 1e-6:\n",
        "            break\n",
        "    return r\n",
        "\n",
        "# using threading to parallelize the code\n",
        "def pagerank_threading(A, n, tele_p, r, error):\n",
        "    for _ in range(10):\n",
        "        r_new = A @ r\n",
        "        r_new += np.sum(r) * tele_p / n\n",
        "        error = np.sum(np.absolute(r - r_new))\n",
        "        r = r_new\n",
        "        if error < 1e-6:\n",
        "            break\n",
        "    return r\n",
        "\n",
        "def main():\n",
        "    # pymp\n",
        "    start = time.time()\n",
        "    r =  np.ones((n,1))\n",
        "    error = 1\n",
        "    with pymp.Parallel(4) as p:\n",
        "        for i in p.range(4):\n",
        "            r = pagerank_pymp(A, n, tele_p, r, error)\n",
        "    end = time.time()\n",
        "    print(\"pymp time:\", end - start)\n",
        "    \n",
        "    # threading\n",
        "    \n",
        "    start = time.time()\n",
        "    r =  np.ones((n,1))\n",
        "    error = 1\n",
        "    threads = []\n",
        "    for i in range(4):\n",
        "        t = threading.Thread(target=pagerank_threading, args=(A, n, tele_p, r, error))\n",
        "        threads.append(t)\n",
        "        t.start()\n",
        "    for t in threads:\n",
        "        t.join()\n",
        "    end = time.time()\n",
        "    \n",
        "    print(\"threading time:\", end - start)"
      ]
    },
    {
      "cell_type": "code",
      "execution_count": null,
      "id": "ac012559-01eb-43fe-9a29-9f6122211399",
      "metadata": {
        "colab": {
          "base_uri": "https://localhost:8080/"
        },
        "id": "ac012559-01eb-43fe-9a29-9f6122211399",
        "outputId": "d28a4165-2196-4e22-a205-c2c8123a8246"
      },
      "outputs": [
        {
          "output_type": "stream",
          "name": "stdout",
          "text": [
            "pymp time: 1.6641438007354736\n",
            "threading time: 1.4801280498504639\n"
          ]
        }
      ],
      "source": [
        "main()"
      ]
    },
    {
      "cell_type": "code",
      "source": [],
      "metadata": {
        "id": "h-GrjDCfZoB7"
      },
      "id": "h-GrjDCfZoB7",
      "execution_count": null,
      "outputs": []
    }
  ],
  "metadata": {
    "kernelspec": {
      "display_name": "Python 3 (ipykernel)",
      "language": "python",
      "name": "python3"
    },
    "language_info": {
      "codemirror_mode": {
        "name": "ipython",
        "version": 3
      },
      "file_extension": ".py",
      "mimetype": "text/x-python",
      "name": "python",
      "nbconvert_exporter": "python",
      "pygments_lexer": "ipython3",
      "version": "3.9.13"
    },
    "colab": {
      "provenance": []
    }
  },
  "nbformat": 4,
  "nbformat_minor": 5
}