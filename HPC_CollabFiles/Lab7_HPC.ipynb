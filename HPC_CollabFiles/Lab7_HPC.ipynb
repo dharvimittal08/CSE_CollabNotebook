{
 "cells": [
  {
   "cell_type": "code",
   "execution_count": null,
   "metadata": {
    "collapsed": true,
    "id": "CTwW5KOTol8F"
   },
   "outputs": [],
   "source": []
  },
  {
   "cell_type": "markdown",
   "metadata": {
    "id": "sPGrwGWYomfq"
   },
   "source": [
    "# Q1"
   ]
  },
  {
   "cell_type": "code",
   "execution_count": 1,
   "metadata": {
    "collapsed": true,
    "id": "QiIkVQwjZYaX"
   },
   "outputs": [],
   "source": [
    "def bubblesort(X):\n",
    "    N = len(X)\n",
    "    for end in range(N, 1, -1):\n",
    "        for i in range(end - 1):\n",
    "            cur = X[i]\n",
    "            if cur > X[i + 1]:\n",
    "                tmp = X[i]\n",
    "                X[i] = X[i + 1]\n",
    "                X[i + 1] = tmp"
   ]
  },
  {
   "cell_type": "markdown",
   "metadata": {
    "id": "tswCJgWaolMs"
   },
   "source": []
  },
  {
   "cell_type": "code",
   "execution_count": 2,
   "metadata": {
    "collapsed": true,
    "id": "MH6XuNFLZUHX"
   },
   "outputs": [],
   "source": [
    "import numpy as np\n",
    "original = np.arange(0.0, 10.0, 0.01, dtype='f4')\n",
    "shuffled = original.copy()\n",
    "np.random.shuffle(shuffled)"
   ]
  },
  {
   "cell_type": "code",
   "execution_count": 3,
   "metadata": {
    "colab": {
     "base_uri": "https://localhost:8080/"
    },
    "id": "1iBHpIE4ZPzY",
    "outputId": "344dceba-04c8-4782-a553-c4e8f7110afb"
   },
   "outputs": [
    {
     "name": "stdout",
     "output_type": "stream",
     "text": [
      "True\n"
     ]
    }
   ],
   "source": [
    "sorted = shuffled.copy()\n",
    "bubblesort(sorted)\n",
    "print(np.array_equal(sorted, original))"
   ]
  },
  {
   "cell_type": "code",
   "execution_count": 4,
   "metadata": {
    "colab": {
     "base_uri": "https://localhost:8080/"
    },
    "id": "LPorcJ2fY9Hh",
    "outputId": "dc728373-3f2c-4d38-9ea1-3655d72c7f51"
   },
   "outputs": [
    {
     "name": "stdout",
     "output_type": "stream",
     "text": [
      "182 ms ± 4.35 ms per loop (mean ± std. dev. of 7 runs, 10 loops each)\n"
     ]
    }
   ],
   "source": [
    "%timeit sorted[:] = shuffled[:]; bubblesort(sorted)\n"
   ]
  },
  {
   "cell_type": "code",
   "execution_count": 5,
   "metadata": {
    "collapsed": true,
    "id": "7MDA5jUgYpaz"
   },
   "outputs": [],
   "source": [
    "#Complete the Solution to Q1 (i) here.\n",
    "from numba import jit \n",
    "@jit\n",
    "def bubblesort(X):\n",
    "    N = len(X)\n",
    "    for end in range(N, 1, -1):\n",
    "        for i in range(end - 1):\n",
    "            cur = X[i]\n",
    "            if cur > X[i + 1]:\n",
    "                tmp = X[i]\n",
    "                X[i] = X[i + 1]\n",
    "                X[i + 1] = tmp"
   ]
  },
  {
   "cell_type": "code",
   "execution_count": 6,
   "metadata": {
    "colab": {
     "base_uri": "https://localhost:8080/"
    },
    "id": "YuXB6DOcY3bH",
    "outputId": "b600a924-2cca-4527-d6a3-f6f63f077e08"
   },
   "outputs": [
    {
     "name": "stdout",
     "output_type": "stream",
     "text": [
      "638 µs ± 2.63 µs per loop (mean ± std. dev. of 7 runs, 1000 loops each)\n"
     ]
    }
   ],
   "source": [
    "#Measure the time of your optimized implementation by running this cell\n",
    "\n",
    "%timeit sorted[:] = shuffled[:]; bubblesort(sorted)"
   ]
  },
  {
   "cell_type": "code",
   "execution_count": 7,
   "metadata": {
    "collapsed": true,
    "id": "syhWi7CgohN5"
   },
   "outputs": [],
   "source": [
    "#Complete the Solution to Q1 (i) here.\n",
    "#@jit(void(f4[:]))\n",
    "def bubblesort(X):\n",
    "    N = len(X)\n",
    "    for end in range(N, 1, -1):\n",
    "        for i in range(end - 1):\n",
    "            cur = X[i]\n",
    "            if cur > X[i + 1]:\n",
    "                tmp = X[i]\n",
    "                X[i] = X[i + 1]\n",
    "                X[i + 1] = tmp"
   ]
  },
  {
   "cell_type": "code",
   "execution_count": null,
   "metadata": {
    "collapsed": true,
    "id": "5Tb94UEEBNyR"
   },
   "outputs": [],
   "source": [
    "#Measure the time of your optimized implementation by running this cell"
   ]
  },
  {
   "cell_type": "markdown",
   "metadata": {
    "id": "nKGykwJfoino"
   },
   "source": [
    "# Q2."
   ]
  },
  {
   "cell_type": "code",
   "execution_count": 8,
   "metadata": {
    "colab": {
     "base_uri": "https://localhost:8080/",
     "height": 269
    },
    "collapsed": true,
    "id": "bV8PfHmSofpG",
    "outputId": "43f1cf62-3a6d-4f69-89c0-a588c16f3452"
   },
   "outputs": [],
   "source": [
    "from scipy.stats import pareto\n",
    "import matplotlib.pyplot as plt\n",
    "\n",
    "import numpy as np\n",
    "import math\n",
    "from numba import vectorize,float64, cuda\n",
    "\n",
    "fig, ax = plt.subplots(1, 1)"
   ]
  },
  {
   "cell_type": "code",
   "execution_count": 9,
   "metadata": {
    "collapsed": true,
    "id": "PwPuIvpUov8D"
   },
   "outputs": [],
   "source": [
    "b=2.62\n",
    "#x = np.linspace(1.0, 5.7, 100)\n",
    "\n",
    "x = np.linspace(1.0, 5.7, 1000000) # Taking this value will give the proper time difference."
   ]
  },
  {
   "cell_type": "code",
   "execution_count": 13,
   "metadata": {
    "colab": {
     "base_uri": "https://localhost:8080/"
    },
    "id": "WBU2TndBo9CZ",
    "outputId": "b2b3bcb0-c8dd-4638-a42a-53a6b0e727f4"
   },
   "outputs": [
    {
     "name": "stdout",
     "output_type": "stream",
     "text": [
      "116 ms ± 1.29 ms per loop (mean ± std. dev. of 7 runs, 10 loops each)\n"
     ]
    }
   ],
   "source": [
    "#Run this cell to know the time taken by original scipy implementation.\n",
    "\n",
    "%timeit pareto.pdf(x, b)"
   ]
  },
  {
   "cell_type": "code",
   "execution_count": 14,
   "metadata": {
    "collapsed": true,
    "id": "_1GSU-3yo_Yh"
   },
   "outputs": [],
   "source": [
    "# Write your code here for CPU_BASED optimization. Give new name as pareto_new_cpu()\n",
    "\n",
    "@vectorize\n",
    "def pareto_new_cpu(x,b):\n",
    "    return b/(x**(b+1))"
   ]
  },
  {
   "cell_type": "code",
   "execution_count": 16,
   "metadata": {
    "colab": {
     "base_uri": "https://localhost:8080/"
    },
    "id": "tLat6PO-BNyS",
    "outputId": "2e6779b4-0282-46f4-a0a8-f6f238220bce"
   },
   "outputs": [
    {
     "name": "stdout",
     "output_type": "stream",
     "text": [
      "60.4 ms ± 19.8 µs per loop (mean ± std. dev. of 7 runs, 10 loops each)\n"
     ]
    }
   ],
   "source": [
    "# Run this cell to check the performance of above implementation.\n",
    "\n",
    "%timeit pareto_new_cpu(x,b)"
   ]
  },
  {
   "cell_type": "code",
   "execution_count": 17,
   "metadata": {
    "collapsed": true,
    "id": "oDgY7ZY-BNyS"
   },
   "outputs": [],
   "source": [
    "# Write your code here for GPU_BASED optimization. Give new name as pareto_new_gpu()\n",
    "@vectorize([float64(float64, float64)], target='cuda') \n",
    "def pareto_new_gpu(x, b):\n",
    "  return b/(x**(b+1))"
   ]
  },
  {
   "cell_type": "code",
   "execution_count": 18,
   "metadata": {
    "colab": {
     "base_uri": "https://localhost:8080/",
     "height": 536
    },
    "id": "-qg9QB5UfBfy",
    "outputId": "9a911f9b-d70d-4087-bee8-204540fa1377"
   },
   "outputs": [
    {
     "name": "stdout",
     "output_type": "stream",
     "text": [
      "9.11 ms ± 1.22 ms per loop (mean ± std. dev. of 7 runs, 1 loop each)\n"
     ]
    }
   ],
   "source": [
    "%%timeit \n",
    "pareto_new_gpu(x,b)"
   ]
  },
  {
   "cell_type": "markdown",
   "metadata": {
    "id": "x4PiMNjUBNyS"
   },
   "source": [
    "# Q3"
   ]
  },
  {
   "cell_type": "code",
   "execution_count": 46,
   "metadata": {
    "collapsed": true,
    "id": "6_nT2i4cBNyS"
   },
   "outputs": [],
   "source": [
    "# Create on device memory variables here.\n",
    "def pareto_new(x_dev, b_dev, out=out_dev):\n",
    "    b = 2.62\n",
    "    n = 100000\n",
    "    x = np.linspace(1.0, 5.7, n)\n",
    "    b_dev = cuda.to_device(b)\n",
    "    x_dev = cuda.to_device(x)\n",
    "    out_dev = cuda.device_array(shape = (n,), dtype=np.float64)"
   ]
  },
  {
   "cell_type": "code",
   "execution_count": 47,
   "metadata": {
    "colab": {
     "base_uri": "https://localhost:8080/",
     "height": 380
    },
    "id": "y9ih4vs-BNyS",
    "outputId": "908bfb78-345b-4843-bdc8-8fabbc6485a0"
   },
   "outputs": [
    {
     "name": "stdout",
     "output_type": "stream",
     "text": [
      "946 µs ± 1.05 µs per loop (mean ± std. dev. of 7 runs, 1000 loops each)\n"
     ]
    }
   ],
   "source": [
    "%timeit pareto_new(x_dev, b_dev, out=out_dev)"
   ]
  },
  {
   "cell_type": "code",
   "execution_count": 48,
   "metadata": {
    "collapsed": true,
    "id": "RP2PsskhBNyT"
   },
   "outputs": [],
   "source": [
    "out_host = out_dev.copy_to_host() # copy the output variable from device to host"
   ]
  },
  {
   "cell_type": "code",
   "execution_count": 49,
   "metadata": {
    "id": "Eg0Y7i2rBNyT"
   },
   "outputs": [
    {
     "data": {
      "text/plain": [
       "(100000,)"
      ]
     },
     "execution_count": 49,
     "metadata": {},
     "output_type": "execute_result"
    }
   ],
   "source": [
    "out_host.shape"
   ]
  },
  {
   "cell_type": "code",
   "execution_count": 50,
   "metadata": {
    "id": "p7DhShZlBNyT"
   },
   "outputs": [
    {
     "data": {
      "text/plain": [
       "[<matplotlib.lines.Line2D at 0x7f94440d0780>]"
      ]
     },
     "execution_count": 50,
     "metadata": {},
     "output_type": "execute_result"
    }
   ],
   "source": [
    "ax.plot(x, out_host,'r-')"
   ]
  },
  {
   "cell_type": "code",
   "execution_count": null,
   "metadata": {
    "collapsed": true,
    "id": "eBD31qWGBNyT"
   },
   "outputs": [],
   "source": []
  }
 ],
 "metadata": {
  "colab": {
   "collapsed_sections": [],
   "provenance": []
  },
  "kernelspec": {
   "display_name": "Python 3",
   "language": "python",
   "name": "python3"
  },
  "language_info": {
   "codemirror_mode": {
    "name": "ipython",
    "version": 3
   },
   "file_extension": ".py",
   "mimetype": "text/x-python",
   "name": "python",
   "nbconvert_exporter": "python",
   "pygments_lexer": "ipython3",
   "version": "3.6.10"
  }
 },
 "nbformat": 4,
 "nbformat_minor": 1
}
