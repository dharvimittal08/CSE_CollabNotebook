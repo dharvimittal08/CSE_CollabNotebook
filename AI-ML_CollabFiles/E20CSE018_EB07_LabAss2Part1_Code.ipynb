{
  "nbformat": 4,
  "nbformat_minor": 0,
  "metadata": {
    "colab": {
      "name": "Lab Ass3_Code_Dharvi Mittal.ipynb",
      "provenance": [],
      "collapsed_sections": []
    },
    "kernelspec": {
      "name": "python3",
      "display_name": "Python 3"
    },
    "language_info": {
      "name": "python"
    }
  },
  "cells": [
    {
      "cell_type": "code",
      "source": [
        
      ],
      "metadata": {
        "id": "3OdzYS8ywE_P"
      },
      "execution_count": null,
      "outputs": []
    },
    {
      "cell_type": "code",
      "execution_count": null,
      "metadata": {
        "id": "tb-_6u3beVf3"
      },
      "outputs": [],
      "source": [
        "import pandas as pd\n",
        "import os\n",
        "import re\n",
        "import cv2\n",
        "import shutil\n",
        "from google.colab.patches import cv2_imshow as imshow2"
      ]
    },
    {
      "cell_type": "code",
      "source": [
        "files = os.listdir('/content/drive/MyDrive/Colab Notebooks/Lab Ass3')\n",
        "print(files)"
      ],
      "metadata": {
        "id": "n-Aib5injkBC"
      },
      "execution_count": null,
      "outputs": []
    },
    {
      "cell_type": "code",
      "source": [
        "for file_num in range(1):\n",
        "  txtfile1 = open(\"TextFile_{}\".format(file_num),\"w\")\n",
        "  for x in files:\n",
        "    print(\"\\n\\nReading text file:\\n\")\n",
        "    for y in open('/content/drive/MyDrive/Colab Notebooks/Lab Ass3/'+x):\n",
        "      print(y)\n",
        "      txtfile1.write(y)\n",
        "  txtfile1.close()"
      ],
      "metadata": {
        "id": "FSaez0RMlvxZ"
      },
      "execution_count": null,
      "outputs": []
    },
    {
      "cell_type": "code",
      "source": [
        "files = os.listdir('/content/drive/MyDrive/Colab Notebooks/E20CSE018_PreProcessedData')\n",
        "print(files)"
      ],
      "metadata": {
        "id": "8eUckCpKfDci"
      },
      "execution_count": null,
      "outputs": []
    },
    {
      "cell_type": "code",
      "source": [
        "for file_num in range(1):\n",
        "  txtfile1 = open(\"TextFile_{}\".format(file_num),\"w\")\n",
        "  for x in files:\n",
        "    print(\"\\n\\n\\n\")\n",
        "    for y in open('/content/drive/MyDrive/Colab Notebooks/Lab Ass3/'+x):\n",
        "      num2 = re.sub ('[!@#$%^&*():;.,\"\"''0123456789]',\" \",y)\n",
        "      print(num2.lower())\n",
        "      txtfile1.write(y)\n",
        "      for y in open('/content/drive/MyDrive/Colab Notebooks/E20CSE018_PreProcessedData/'+x):\n",
        "        txtfile1.write(y)        \n",
        "  txtfile1.close()"
      ],
      "metadata": {
        "id": "fZk5Rf53VJuM"
      },
      "execution_count": null,
      "outputs": []
    },
    {
      "cell_type": "code",
      "source": [
        "from IPython.display import HTML\n",
        "from base64 import b64encode\n",
        "def show_video(video_path, video_width = 600):  \n",
        "  video_file = open(video_path, \"r+b\").read()\n",
        "  video_url = f\"data:video/mp4;base64,{b64encode(video_file).decode()}\"\n",
        "  return HTML(f\"\"\"<video width={video_width} controls><source src=\"{video_url}\"></video>\"\"\")\n",
        "show_video('/content/drive/MyDrive/Colab Notebooks/VID-20180607-WA0005.mp4')"
      ],
      "metadata": {
        "id": "TeVj_aR6PUcH"
      },
      "execution_count": null,
      "outputs": []
    },
    {
      "cell_type": "code",
      "source": [
        "import matplotlib.pyplot as plt\n",
        "import librosa.display"
      ],
      "metadata": {
        "id": "vppnN6vcQgSK"
      },
      "execution_count": null,
      "outputs": []
    },
    {
      "cell_type": "code",
      "source": [
        "import librosa\n",
        "x, sr = librosa.load('/content/drive/MyDrive/Colab Notebooks/VID-20180607-WA0005.mp4')"
      ],
      "metadata": {
        "id": "UoDCADTsQpFp"
      },
      "execution_count": null,
      "outputs": []
    },
    {
      "cell_type": "code",
      "source": [
        "plt.figure(figsize=(14,5))\n",
        "librosa.display.waveplot(x,sr=sr)"
      ],
      "metadata": {
        "id": "-eE6NH_fQkOY"
      },
      "execution_count": null,
      "outputs": []
    },
    {
      "cell_type": "code",
      "source": [
        "import IPython\n",
        "IPython.display.Audio('/content/drive/MyDrive/Colab Notebooks/[MP3DOWNLOAD.TO] Amazon founder and CEO Jeff Bezos delivers graduation speech at Princeton University-64k.mp3')"
      ],
      "metadata": {
        "id": "dEr7rQLllv38"
      },
      "execution_count": null,
      "outputs": []
    },
    {
      "cell_type": "code",
      "source": [
        "import librosa\n",
        "x, sr = librosa.load('/content/drive/MyDrive/Colab Notebooks/[MP3DOWNLOAD.TO] Amazon founder and CEO Jeff Bezos delivers graduation speech at Princeton University-64k.mp3')"
      ],
      "metadata": {
        "id": "u9cMmcXZ3VVR"
      },
      "execution_count": null,
      "outputs": []
    },
    {
      "cell_type": "code",
      "source": [
        "print(x.shape)\n",
        "print(sr)"
      ],
      "metadata": {
        "id": "ZWHknafH5nHn"
      },
      "execution_count": null,
      "outputs": []
    },
    {
      "cell_type": "code",
      "source": [
        "plt.figure(figsize=(14,5))\n",
        "librosa.display.waveplot(x,sr=sr)"
      ],
      "metadata": {
        "id": "frPQz9kw6KYV"
      },
      "execution_count": null,
      "outputs": []
    }
  ]
}
