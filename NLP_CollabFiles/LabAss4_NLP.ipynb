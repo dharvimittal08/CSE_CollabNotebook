{
  "nbformat": 4,
  "nbformat_minor": 0,
  "metadata": {
    "colab": {
      "provenance": []
    },
    "kernelspec": {
      "name": "python3",
      "display_name": "Python 3"
    },
    "language_info": {
      "name": "python"
    }
  },
  "cells": [
    {
      "cell_type": "code",
      "source": [
        "data = \"Bluetooth LE Audio, in which LE stands for Low Energy, is one of the types of Bluetooth connection, the other one being Bluetooth Classic. The LE Audio not only offers a Low Energy solution for audio transmission but also low power and low bandwidth and supports low latency. The LE Audio is expected to improve upon the sound quality of the transmitted audio and will be an upgrade to Bluetooth Classic which has been used till now for transmitting audio. The reason behind this is that the “standard Bluetooth can reach a higher throughput by more frequent continuous radio usage” as per Nordic Semiconductor, a Bluetooth SIG member. On the other hand, Bluetooth LE is about conserving power and hence, uses its radio for the shortest possible time.\\nThe Bluetooth LE Audio was announced by Bluetooth SIG at CES 2020 and is expected to come to the next-gen Apple AirPods along with support for the LC3 codec.\""
      ],
      "metadata": {
        "id": "C8MVuOENXJ6t"
      },
      "execution_count": 23,
      "outputs": []
    },
    {
      "cell_type": "code",
      "source": [
        "import nltk\n",
        "nltk.download(\"punkt\")"
      ],
      "metadata": {
        "colab": {
          "base_uri": "https://localhost:8080/"
        },
        "id": "5kSd_08PW4a2",
        "outputId": "c2f83209-8798-4a4d-8902-dadf7828fc68"
      },
      "execution_count": 24,
      "outputs": [
        {
          "output_type": "stream",
          "name": "stderr",
          "text": [
            "[nltk_data] Downloading package punkt to /root/nltk_data...\n",
            "[nltk_data]   Package punkt is already up-to-date!\n"
          ]
        },
        {
          "output_type": "execute_result",
          "data": {
            "text/plain": [
              "True"
            ]
          },
          "metadata": {},
          "execution_count": 24
        }
      ]
    },
    {
      "cell_type": "code",
      "source": [
        "import re\n",
        "data = re.sub(r\"[^\\w]\",\" \",data)"
      ],
      "metadata": {
        "id": "lNUX8zsRXzz-"
      },
      "execution_count": 25,
      "outputs": []
    },
    {
      "cell_type": "code",
      "source": [
        "from nltk.tokenize import word_tokenize\n",
        "tokenize = word_tokenize(str(data))"
      ],
      "metadata": {
        "id": "sFYI_uYgX1-Q"
      },
      "execution_count": 26,
      "outputs": []
    },
    {
      "cell_type": "code",
      "source": [
        "nltk.download('wordnet')\n",
        "nltk.download('omw-1.4')\n",
        "from nltk.stem import WordNetLemmatizer\n",
        "  \n",
        "lemmatizer = WordNetLemmatizer()\n",
        "\n",
        "filtered = []\n",
        "\n",
        "for i in tokenize:\n",
        "  filtered.append(lemmatizer.lemmatize(i))"
      ],
      "metadata": {
        "colab": {
          "base_uri": "https://localhost:8080/"
        },
        "id": "TVrU7RTHYG_v",
        "outputId": "783da52a-2f8c-470c-972d-91542b064314"
      },
      "execution_count": 27,
      "outputs": [
        {
          "output_type": "stream",
          "name": "stderr",
          "text": [
            "[nltk_data] Downloading package wordnet to /root/nltk_data...\n",
            "[nltk_data] Downloading package omw-1.4 to /root/nltk_data...\n"
          ]
        }
      ]
    },
    {
      "cell_type": "code",
      "source": [
        "nltk.download('stopwords') \n",
        "from nltk.corpus import stopwords\n",
        "stopwords=set(stopwords.words('english'))\n",
        "\n",
        "wordsFiltered=[]\n",
        "\n",
        "for w in filtered:\n",
        "  if w not in stopwords:\n",
        "    wordsFiltered.append(w)"
      ],
      "metadata": {
        "colab": {
          "base_uri": "https://localhost:8080/"
        },
        "id": "2IdAwX_XYMPW",
        "outputId": "cbfa22c0-60e6-4b16-b694-ff8aa8aa17b5"
      },
      "execution_count": 28,
      "outputs": [
        {
          "output_type": "stream",
          "name": "stderr",
          "text": [
            "[nltk_data] Downloading package stopwords to /root/nltk_data...\n",
            "[nltk_data]   Unzipping corpora/stopwords.zip.\n"
          ]
        }
      ]
    },
    {
      "cell_type": "code",
      "source": [
        "wordsFiltered[:5]"
      ],
      "metadata": {
        "colab": {
          "base_uri": "https://localhost:8080/"
        },
        "id": "tVtxJhEHYPRg",
        "outputId": "869c68a0-5fca-40eb-9cfe-f3e5e2495a88"
      },
      "execution_count": 29,
      "outputs": [
        {
          "output_type": "execute_result",
          "data": {
            "text/plain": [
              "['Bluetooth', 'LE', 'Audio', 'LE', 'stand']"
            ]
          },
          "metadata": {},
          "execution_count": 29
        }
      ]
    },
    {
      "cell_type": "code",
      "source": [
        "from time import time"
      ],
      "metadata": {
        "id": "Op-IQcxdYQ5K"
      },
      "execution_count": 30,
      "outputs": []
    },
    {
      "cell_type": "code",
      "source": [
        "def generate_ngrams(ls, n):\n",
        "    ngrams = zip(*[ls[i:] for i in range(n)])\n",
        "    return [\" \".join(ngram) for ngram in ngrams]"
      ],
      "metadata": {
        "id": "E-2fNaA8YTMX"
      },
      "execution_count": 31,
      "outputs": []
    },
    {
      "cell_type": "code",
      "source": [
        "start = time()\n",
        "ngrams = generate_ngrams(wordsFiltered,2)\n",
        "end = time()"
      ],
      "metadata": {
        "id": "Qey75Cf5YUhX"
      },
      "execution_count": 32,
      "outputs": []
    },
    {
      "cell_type": "code",
      "source": [
        "print(\"Time taken ngrams:\",end-start)"
      ],
      "metadata": {
        "colab": {
          "base_uri": "https://localhost:8080/"
        },
        "id": "zrA4ehi2YUrh",
        "outputId": "36a28224-4fc2-462c-ad07-1559dd853ee1"
      },
      "execution_count": 33,
      "outputs": [
        {
          "output_type": "stream",
          "name": "stdout",
          "text": [
            "Time taken ngrams: 8.559226989746094e-05\n"
          ]
        }
      ]
    },
    {
      "cell_type": "code",
      "source": [
        "ngrams[:5]"
      ],
      "metadata": {
        "colab": {
          "base_uri": "https://localhost:8080/"
        },
        "id": "2nPhuTO_YcNz",
        "outputId": "e6371496-a454-44fe-9cad-5c5499001ded"
      },
      "execution_count": 34,
      "outputs": [
        {
          "output_type": "execute_result",
          "data": {
            "text/plain": [
              "['Bluetooth LE', 'LE Audio', 'Audio LE', 'LE stand', 'stand Low']"
            ]
          },
          "metadata": {},
          "execution_count": 34
        }
      ]
    },
    {
      "cell_type": "code",
      "source": [
        "from sklearn.feature_extraction.text import CountVectorizer\n",
        "import pandas as pd\n",
        "start = time()\n",
        "\n",
        "countvec = CountVectorizer()\n",
        "cdf = countvec.fit_transform(wordsFiltered)\n",
        "bow = pd.DataFrame(cdf.toarray(), columns = countvec.get_feature_names())\n",
        "bow\n",
        "\n",
        "end = time()\n",
        "\n",
        "print(\"Time taken Bag of Words:\",end-start)"
      ],
      "metadata": {
        "colab": {
          "base_uri": "https://localhost:8080/"
        },
        "id": "osuptDdQYdF2",
        "outputId": "c501c8bd-f9bf-4b5f-8482-f453cad99b34"
      },
      "execution_count": 36,
      "outputs": [
        {
          "output_type": "stream",
          "name": "stdout",
          "text": [
            "Time taken Bag of Words: 0.011966466903686523\n"
          ]
        },
        {
          "output_type": "stream",
          "name": "stderr",
          "text": [
            "/usr/local/lib/python3.7/dist-packages/sklearn/utils/deprecation.py:87: FutureWarning: Function get_feature_names is deprecated; get_feature_names is deprecated in 1.0 and will be removed in 1.2. Please use get_feature_names_out instead.\n",
            "  warnings.warn(msg, category=FutureWarning)\n"
          ]
        }
      ]
    },
    {
      "cell_type": "code",
      "source": [
        "from sklearn.feature_extraction.text import TfidfVectorizer\n",
        "start = time()\n",
        "tfidf = TfidfVectorizer()\n",
        "result = tfidf.fit_transform(wordsFiltered)\n",
        "end = time()\n",
        "print(\"Time taken TFIDF:\",end-start)"
      ],
      "metadata": {
        "colab": {
          "base_uri": "https://localhost:8080/"
        },
        "id": "NWKAT5sTYgN8",
        "outputId": "78cac1bb-7bf3-44ae-9fff-ad9c9a7870b8"
      },
      "execution_count": 37,
      "outputs": [
        {
          "output_type": "stream",
          "name": "stdout",
          "text": [
            "Time taken TFIDF: 0.02084183692932129\n"
          ]
        }
      ]
    },
    {
      "cell_type": "code",
      "source": [
        "print('\\nidf values:')\n",
        "for ele1, ele2 in zip(tfidf.get_feature_names(), tfidf.idf_):\n",
        "    print(ele1, ':', ele2)"
      ],
      "metadata": {
        "colab": {
          "base_uri": "https://localhost:8080/"
        },
        "id": "5tFf2kl1Ysji",
        "outputId": "d47ea855-5d6a-40a8-f611-cca474ed1d3f"
      },
      "execution_count": 38,
      "outputs": [
        {
          "output_type": "stream",
          "name": "stdout",
          "text": [
            "\n",
            "idf values:\n",
            "2020 : 4.912023005428146\n",
            "airpods : 4.912023005428146\n",
            "along : 4.912023005428146\n",
            "also : 4.912023005428146\n",
            "announced : 4.912023005428146\n",
            "apple : 4.912023005428146\n",
            "audio : 3.5257286443082556\n",
            "bandwidth : 4.912023005428146\n",
            "behind : 4.912023005428146\n",
            "bluetooth : 3.302585092994046\n",
            "ces : 4.912023005428146\n",
            "classic : 4.506557897319982\n",
            "codec : 4.912023005428146\n",
            "come : 4.912023005428146\n",
            "connection : 4.912023005428146\n",
            "conserving : 4.912023005428146\n",
            "continuous : 4.912023005428146\n",
            "energy : 4.506557897319982\n",
            "expected : 4.506557897319982\n",
            "frequent : 4.912023005428146\n",
            "gen : 4.912023005428146\n",
            "ha : 4.912023005428146\n",
            "hand : 4.912023005428146\n",
            "hence : 4.912023005428146\n",
            "higher : 4.912023005428146\n",
            "improve : 4.912023005428146\n",
            "latency : 4.912023005428146\n",
            "lc3 : 4.912023005428146\n",
            "le : 3.659260036932778\n",
            "low : 3.8134107167600364\n",
            "member : 4.912023005428146\n",
            "next : 4.912023005428146\n",
            "nordic : 4.912023005428146\n",
            "offer : 4.912023005428146\n",
            "on : 4.912023005428146\n",
            "one : 4.506557897319982\n",
            "per : 4.912023005428146\n",
            "possible : 4.912023005428146\n",
            "power : 4.506557897319982\n",
            "quality : 4.912023005428146\n",
            "radio : 4.506557897319982\n",
            "reach : 4.912023005428146\n",
            "reason : 4.912023005428146\n",
            "semiconductor : 4.912023005428146\n",
            "shortest : 4.912023005428146\n",
            "sig : 4.506557897319982\n",
            "solution : 4.912023005428146\n",
            "sound : 4.912023005428146\n",
            "stand : 4.912023005428146\n",
            "standard : 4.912023005428146\n",
            "support : 4.506557897319982\n",
            "the : 3.995732273553991\n",
            "throughput : 4.912023005428146\n",
            "till : 4.912023005428146\n",
            "time : 4.912023005428146\n",
            "transmission : 4.912023005428146\n",
            "transmitted : 4.912023005428146\n",
            "transmitting : 4.912023005428146\n",
            "type : 4.912023005428146\n",
            "upgrade : 4.912023005428146\n",
            "upon : 4.912023005428146\n",
            "us : 4.912023005428146\n",
            "usage : 4.912023005428146\n",
            "used : 4.912023005428146\n",
            "wa : 4.912023005428146\n"
          ]
        }
      ]
    },
    {
      "cell_type": "code",
      "source": [
        "import matplotlib.pyplot as plt\n",
        "x = [\"Bag of Words\",\"N-Gram\",\"TFIDF\"]\n",
        "y = [0.0113394,0.0001106,0.0081996]\n",
        "plt.plot(x,y)\n",
        "plt.show()"
      ],
      "metadata": {
        "colab": {
          "base_uri": "https://localhost:8080/",
          "height": 347
        },
        "id": "I_I4Jq2yYs6U",
        "outputId": "95e47ce8-832e-4620-cd84-403b1af6f016"
      },
      "execution_count": 40,
      "outputs": [
        {
          "output_type": "display_data",
          "data": {
            "text/plain": [
              "<Figure size 576x396 with 1 Axes>"
            ],
            "image/png": "[encoded data removed]"
          },
          "metadata": {}
        }
      ]
    },
    {
      "cell_type": "code",
      "source": [],
      "metadata": {
        "id": "Q28OSQVDYyPw"
      },
      "execution_count": null,
      "outputs": []
    }
  ]
}