{
  "nbformat": 4,
  "nbformat_minor": 0,
  "metadata": {
    "colab": {
      "name": "LabAss1_E20CSE018_EB07_DHARVI_NLP.ipynb",
      "provenance": [],
      "collapsed_sections": []
    },
    "kernelspec": {
      "name": "python3",
      "display_name": "Python 3"
    },
    "language_info": {
      "name": "python"
    }
  },
  "cells": [
    {
      "cell_type": "code",
      "execution_count": null,
      "metadata": {
        "colab": {
          "base_uri": "https://localhost:8080/",
          "height": 53
        },
        "id": "x_skYwQ-QC_s",
        "outputId": "60e03f4f-f7d7-46b8-ecdc-83fac0cc756f"
      },
      "outputs": [
        {
          "output_type": "execute_result",
          "data": {
            "text/plain": [
              "'Founded in 2002  SpaceX s mission is to enable humans to become a spacefaring civilization and a multplanet \\nspecies by building a self sustaining city on Mars  In 2008  SpaceX s Falcon 1 became the first privately \\ndeveloped \\nliquid fuel launch vehicle to orbit the Earth '"
            ],
            "application/vnd.google.colaboratory.intrinsic+json": {
              "type": "string"
            }
          },
          "metadata": {},
          "execution_count": 1
        }
      ],
      "source": [
        "import re\n",
        "s= \"\"\"Founded in 2002, SpaceX’s mission is to enable humans to become a spacefaring civilization and a multplanet \n",
        "species by building a self-sustaining city on Mars. In 2008, SpaceX’s Falcon 1 became the first privately \n",
        "developed \n",
        "liquid-fuel launch vehicle to orbit the Earth.\"\"\"\n",
        "re.sub(r\"[^\\w\\s]\",\" \",s)"
      ]
    },
    {
      "cell_type": "code",
      "source": [
        "import nltk\n",
        "nltk.download('punkt')\n",
        "from nltk.tokenize import word_tokenize\n",
        "p = \"\"\"Founded in 2002, SpaceX’s mission is to enable humans to become a spacefaring civilization and a multplanet \n",
        "species by building a self-sustaining city on Mars. In 2008, SpaceX’s Falcon 1 became the first privately \n",
        "developed \n",
        "liquid-fuel launch vehicle to orbit the Earth.\"\"\"\n",
        "word_tokenize(p)"
      ],
      "metadata": {
        "colab": {
          "base_uri": "https://localhost:8080/"
        },
        "id": "TtXVngg_THQN",
        "outputId": "a0c27aed-56fd-45c9-d5d1-3df723736458"
      },
      "execution_count": null,
      "outputs": [
        {
          "output_type": "stream",
          "name": "stderr",
          "text": [
            "[nltk_data] Downloading package punkt to /root/nltk_data...\n",
            "[nltk_data]   Unzipping tokenizers/punkt.zip.\n"
          ]
        },
        {
          "output_type": "execute_result",
          "data": {
            "text/plain": [
              "['Founded',\n",
              " 'in',\n",
              " '2002',\n",
              " ',',\n",
              " 'SpaceX',\n",
              " '’',\n",
              " 's',\n",
              " 'mission',\n",
              " 'is',\n",
              " 'to',\n",
              " 'enable',\n",
              " 'humans',\n",
              " 'to',\n",
              " 'become',\n",
              " 'a',\n",
              " 'spacefaring',\n",
              " 'civilization',\n",
              " 'and',\n",
              " 'a',\n",
              " 'multplanet',\n",
              " 'species',\n",
              " 'by',\n",
              " 'building',\n",
              " 'a',\n",
              " 'self-sustaining',\n",
              " 'city',\n",
              " 'on',\n",
              " 'Mars',\n",
              " '.',\n",
              " 'In',\n",
              " '2008',\n",
              " ',',\n",
              " 'SpaceX',\n",
              " '’',\n",
              " 's',\n",
              " 'Falcon',\n",
              " '1',\n",
              " 'became',\n",
              " 'the',\n",
              " 'first',\n",
              " 'privately',\n",
              " 'developed',\n",
              " 'liquid-fuel',\n",
              " 'launch',\n",
              " 'vehicle',\n",
              " 'to',\n",
              " 'orbit',\n",
              " 'the',\n",
              " 'Earth',\n",
              " '.']"
            ]
          },
          "metadata": {},
          "execution_count": 2
        }
      ]
    },
    {
      "cell_type": "code",
      "source": [
        "import nltk\n",
        "nltk.download('punkt')\n",
        "from nltk.tokenize import word_tokenize\n",
        "p = \"\"\"Founded in 2002, SpaceX’s mission is to enable humans to become a spacefaring civilization and a multplanet \n",
        "species by building a self-sustaining city on Mars. In 2008, SpaceX’s Falcon 1 became the first privately \n",
        "developed \n",
        "liquid-fuel launch vehicle to orbit the Earth.\"\"\"\n",
        "word_tokenize(p)"
      ],
      "metadata": {
        "colab": {
          "base_uri": "https://localhost:8080/"
        },
        "id": "Gt75gMLXVhbU",
        "outputId": "c0a3266e-00fc-48e5-8e7a-47eb7ba381fc"
      },
      "execution_count": null,
      "outputs": [
        {
          "output_type": "stream",
          "name": "stderr",
          "text": [
            "[nltk_data] Downloading package punkt to /root/nltk_data...\n",
            "[nltk_data]   Package punkt is already up-to-date!\n"
          ]
        },
        {
          "output_type": "execute_result",
          "data": {
            "text/plain": [
              "['Founded',\n",
              " 'in',\n",
              " '2002',\n",
              " ',',\n",
              " 'SpaceX',\n",
              " '’',\n",
              " 's',\n",
              " 'mission',\n",
              " 'is',\n",
              " 'to',\n",
              " 'enable',\n",
              " 'humans',\n",
              " 'to',\n",
              " 'become',\n",
              " 'a',\n",
              " 'spacefaring',\n",
              " 'civilization',\n",
              " 'and',\n",
              " 'a',\n",
              " 'multplanet',\n",
              " 'species',\n",
              " 'by',\n",
              " 'building',\n",
              " 'a',\n",
              " 'self-sustaining',\n",
              " 'city',\n",
              " 'on',\n",
              " 'Mars',\n",
              " '.',\n",
              " 'In',\n",
              " '2008',\n",
              " ',',\n",
              " 'SpaceX',\n",
              " '’',\n",
              " 's',\n",
              " 'Falcon',\n",
              " '1',\n",
              " 'became',\n",
              " 'the',\n",
              " 'first',\n",
              " 'privately',\n",
              " 'developed',\n",
              " 'liquid-fuel',\n",
              " 'launch',\n",
              " 'vehicle',\n",
              " 'to',\n",
              " 'orbit',\n",
              " 'the',\n",
              " 'Earth',\n",
              " '.']"
            ]
          },
          "metadata": {},
          "execution_count": 3
        }
      ]
    },
    {
      "cell_type": "code",
      "source": [
        "import nltk\n",
        "nltk.download('wordnet')\n",
        "nltk.download('omw-1.4')\n",
        "from nltk.stem import WordNetLemmatizer\n",
        "lemmatizer = WordNetLemmatizer()\n",
        "text=\"\"\"Founded in 2002, SpaceX’s mission is to enable humans to become a spacefaring civilization and a multplanet \n",
        "species by building a self-sustaining city on Mars. In 2008, SpaceX’s Falcon 1 became the first privately \n",
        "developed \n",
        "liquid-fuel launch vehicle to orbit the Earth.\"\"\"\n",
        "token = nltk.word_tokenize(text)\n",
        "for w in token:\n",
        "  print (\"stemming for {} is {}\".format (w,lemmatizer.lemmatize(w)))"
      ],
      "metadata": {
        "colab": {
          "base_uri": "https://localhost:8080/"
        },
        "id": "HLVOQMJWV2XX",
        "outputId": "7bf47259-57a5-41ca-e138-4f5e4cf39978"
      },
      "execution_count": null,
      "outputs": [
        {
          "output_type": "stream",
          "name": "stderr",
          "text": [
            "[nltk_data] Downloading package wordnet to /root/nltk_data...\n",
            "[nltk_data] Downloading package omw-1.4 to /root/nltk_data...\n"
          ]
        },
        {
          "output_type": "stream",
          "name": "stdout",
          "text": [
            "stemming for Founded is Founded\n",
            "stemming for in is in\n",
            "stemming for 2002 is 2002\n",
            "stemming for , is ,\n",
            "stemming for SpaceX is SpaceX\n",
            "stemming for ’ is ’\n",
            "stemming for s is s\n",
            "stemming for mission is mission\n",
            "stemming for is is is\n",
            "stemming for to is to\n",
            "stemming for enable is enable\n",
            "stemming for humans is human\n",
            "stemming for to is to\n",
            "stemming for become is become\n",
            "stemming for a is a\n",
            "stemming for spacefaring is spacefaring\n",
            "stemming for civilization is civilization\n",
            "stemming for and is and\n",
            "stemming for a is a\n",
            "stemming for multplanet is multplanet\n",
            "stemming for species is specie\n",
            "stemming for by is by\n",
            "stemming for building is building\n",
            "stemming for a is a\n",
            "stemming for self-sustaining is self-sustaining\n",
            "stemming for city is city\n",
            "stemming for on is on\n",
            "stemming for Mars is Mars\n",
            "stemming for . is .\n",
            "stemming for In is In\n",
            "stemming for 2008 is 2008\n",
            "stemming for , is ,\n",
            "stemming for SpaceX is SpaceX\n",
            "stemming for ’ is ’\n",
            "stemming for s is s\n",
            "stemming for Falcon is Falcon\n",
            "stemming for 1 is 1\n",
            "stemming for became is became\n",
            "stemming for the is the\n",
            "stemming for first is first\n",
            "stemming for privately is privately\n",
            "stemming for developed is developed\n",
            "stemming for liquid-fuel is liquid-fuel\n",
            "stemming for launch is launch\n",
            "stemming for vehicle is vehicle\n",
            "stemming for to is to\n",
            "stemming for orbit is orbit\n",
            "stemming for the is the\n",
            "stemming for Earth is Earth\n",
            "stemming for . is .\n"
          ]
        }
      ]
    },
    {
      "cell_type": "code",
      "source": [
        "import nltk\n",
        "nltk.download('stopwords') \n",
        "from nltk.tokenize import sent_tokenize,word_tokenize\n",
        "from nltk.corpus import stopwords\n",
        "data= \"This is a sample sentence, showing off the stop words filtration.\"\n",
        "stopwords=set(stopwords.words('english'))\n",
        "words=word_tokenize(data)\n",
        "wordsFiltered=[]\n",
        "\n",
        "for w in words:\n",
        "  if w not in stopwords:\n",
        "    wordsFiltered.append(w)\n",
        "  print(wordsFiltered)"
      ],
      "metadata": {
        "colab": {
          "base_uri": "https://localhost:8080/"
        },
        "id": "KGMjM30lQhkq",
        "outputId": "6eee6a13-70c7-4593-a00f-267692cdea5f"
      },
      "execution_count": null,
      "outputs": [
        {
          "output_type": "stream",
          "name": "stdout",
          "text": [
            "['This']\n",
            "['This']\n",
            "['This']\n",
            "['This', 'sample']\n",
            "['This', 'sample', 'sentence']\n",
            "['This', 'sample', 'sentence', ',']\n",
            "['This', 'sample', 'sentence', ',', 'showing']\n",
            "['This', 'sample', 'sentence', ',', 'showing']\n",
            "['This', 'sample', 'sentence', ',', 'showing']\n",
            "['This', 'sample', 'sentence', ',', 'showing', 'stop']\n",
            "['This', 'sample', 'sentence', ',', 'showing', 'stop', 'words']\n",
            "['This', 'sample', 'sentence', ',', 'showing', 'stop', 'words', 'filtration']\n",
            "['This', 'sample', 'sentence', ',', 'showing', 'stop', 'words', 'filtration', '.']\n"
          ]
        },
        {
          "output_type": "stream",
          "name": "stderr",
          "text": [
            "[nltk_data] Downloading package stopwords to /root/nltk_data...\n",
            "[nltk_data]   Package stopwords is already up-to-date!\n"
          ]
        }
      ]
    },
    {
      "cell_type": "code",
      "source": [
        "import nltk\n",
        "nltk.download('stopwords') \n",
        "from nltk.tokenize import sent_tokenize,word_tokenize\n",
        "from nltk.corpus import stopwords\n",
        "data= \"Nick likes to play footbNick likes to play football, however he is not too fond of tennis.all, however he is not too fond of tennis.\"\n",
        "stopwords=set(stopwords.words('english'))\n",
        "words=word_tokenize(data)\n",
        "wordsFiltered=[]\n",
        "\n",
        "for w in words:\n",
        "  if w not in stopwords:\n",
        "    wordsFiltered.append(w)\n",
        "  print(wordsFiltered)"
      ],
      "metadata": {
        "colab": {
          "base_uri": "https://localhost:8080/"
        },
        "id": "7q5wl1iMQHVq",
        "outputId": "ce925954-4f71-4a94-d7c7-ae869a6ff078"
      },
      "execution_count": null,
      "outputs": [
        {
          "output_type": "stream",
          "name": "stdout",
          "text": [
            "['Nick']\n",
            "['Nick', 'likes']\n",
            "['Nick', 'likes']\n",
            "['Nick', 'likes', 'play']\n",
            "['Nick', 'likes', 'play', 'footbNick']\n",
            "['Nick', 'likes', 'play', 'footbNick', 'likes']\n",
            "['Nick', 'likes', 'play', 'footbNick', 'likes']\n",
            "['Nick', 'likes', 'play', 'footbNick', 'likes', 'play']\n",
            "['Nick', 'likes', 'play', 'footbNick', 'likes', 'play', 'football']\n",
            "['Nick', 'likes', 'play', 'footbNick', 'likes', 'play', 'football', ',']\n",
            "['Nick', 'likes', 'play', 'footbNick', 'likes', 'play', 'football', ',', 'however']\n",
            "['Nick', 'likes', 'play', 'footbNick', 'likes', 'play', 'football', ',', 'however']\n",
            "['Nick', 'likes', 'play', 'footbNick', 'likes', 'play', 'football', ',', 'however']\n",
            "['Nick', 'likes', 'play', 'footbNick', 'likes', 'play', 'football', ',', 'however']\n",
            "['Nick', 'likes', 'play', 'footbNick', 'likes', 'play', 'football', ',', 'however']\n",
            "['Nick', 'likes', 'play', 'footbNick', 'likes', 'play', 'football', ',', 'however', 'fond']\n",
            "['Nick', 'likes', 'play', 'footbNick', 'likes', 'play', 'football', ',', 'however', 'fond']\n",
            "['Nick', 'likes', 'play', 'footbNick', 'likes', 'play', 'football', ',', 'however', 'fond', 'tennis.all']\n",
            "['Nick', 'likes', 'play', 'footbNick', 'likes', 'play', 'football', ',', 'however', 'fond', 'tennis.all', ',']\n",
            "['Nick', 'likes', 'play', 'footbNick', 'likes', 'play', 'football', ',', 'however', 'fond', 'tennis.all', ',', 'however']\n",
            "['Nick', 'likes', 'play', 'footbNick', 'likes', 'play', 'football', ',', 'however', 'fond', 'tennis.all', ',', 'however']\n",
            "['Nick', 'likes', 'play', 'footbNick', 'likes', 'play', 'football', ',', 'however', 'fond', 'tennis.all', ',', 'however']\n",
            "['Nick', 'likes', 'play', 'footbNick', 'likes', 'play', 'football', ',', 'however', 'fond', 'tennis.all', ',', 'however']\n",
            "['Nick', 'likes', 'play', 'footbNick', 'likes', 'play', 'football', ',', 'however', 'fond', 'tennis.all', ',', 'however']\n",
            "['Nick', 'likes', 'play', 'footbNick', 'likes', 'play', 'football', ',', 'however', 'fond', 'tennis.all', ',', 'however', 'fond']\n",
            "['Nick', 'likes', 'play', 'footbNick', 'likes', 'play', 'football', ',', 'however', 'fond', 'tennis.all', ',', 'however', 'fond']\n",
            "['Nick', 'likes', 'play', 'footbNick', 'likes', 'play', 'football', ',', 'however', 'fond', 'tennis.all', ',', 'however', 'fond', 'tennis']\n",
            "['Nick', 'likes', 'play', 'footbNick', 'likes', 'play', 'football', ',', 'however', 'fond', 'tennis.all', ',', 'however', 'fond', 'tennis', '.']\n"
          ]
        },
        {
          "output_type": "stream",
          "name": "stderr",
          "text": [
            "[nltk_data] Downloading package stopwords to /root/nltk_data...\n",
            "[nltk_data]   Package stopwords is already up-to-date!\n"
          ]
        }
      ]
    }
  ]
}