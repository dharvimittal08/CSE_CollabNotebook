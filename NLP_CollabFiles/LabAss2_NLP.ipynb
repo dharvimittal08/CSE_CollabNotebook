{
  "nbformat": 4,
  "nbformat_minor": 0,
  "metadata": {
    "colab": {
      "name": "LabAss2_E20CSE018_EB07_DHARVI_NLP.ipynb",
      "provenance": []
    },
    "kernelspec": {
      "name": "python3",
      "display_name": "Python 3"
    },
    "language_info": {
      "name": "python"
    }
  },
  "cells": [
    {
      "cell_type": "code",
      "execution_count": null,
      "metadata": {
        "colab": {
          "base_uri": "https://localhost:8080/"
        },
        "id": "JP5505ooLsJd",
        "outputId": "f2bde00f-37a6-4a9d-c09d-abd4af638006"
      },
      "outputs": [
        {
          "output_type": "stream",
          "name": "stdout",
          "text": [
            "The quick-brown-fox jumps over the lazy dog.\n",
            "The quick brown fox eats well.\n",
            "the quickbrownfox is dead.\n",
            "the dog misses the quick brownfox\n"
          ]
        }
      ],
      "source": [
        "#import spacy library\n",
        "import spacy\n",
        "\n",
        "#load core english library\n",
        "nlp = spacy.load(\"en_core_web_sm\")\n",
        "\n",
        "#take unicode string\n",
        "#here u stands for unicode\n",
        "text = \"The quick-brown-fox jumps over the lazy dog. The quick brown fox eats well. the quickbrownfox is dead. the dog misses the quick brownfox\"\n",
        "#to print sentences\n",
        "doc = nlp(text)\n",
        "for sent in doc.sents:\n",
        " print(sent.text)\n",
        " "
      ]
    },
    {
      "cell_type": "code",
      "source": [
        "import spacy\n",
        "spacy.cli.download(\"en_core_web_sm\")\n",
        "nlp = spacy.load('en_core_web_sm')\n",
        "\n",
        "from spacy.matcher import Matcher\n",
        "m_tool = Matcher(nlp.vocab)\n",
        "\n",
        "p1 = [{'LOWER': 'quickbrownfox'}]\n",
        "p2 = [{'LOWER': 'quick'}, {'IS_PUNCT': True}, {'LOWER': 'brown'}, {'IS_PUNCT': True}, {'LOWER': 'fox'}]\n",
        "p3 = [{'LOWER': 'quick'}, {'LOWER': 'brown'}, {'LOWER': 'fox'}]\n",
        "p4 =  [{'LOWER': 'quick'}, {'LOWER': 'brownfox'}]\n",
        "\n",
        "m_tool.add('QBF', [p1, p2, p3, p4])\n",
        "\n",
        "sentence = nlp(doc)\n",
        "phrase_matches = m_tool(sentence)\n",
        "\n",
        "for match_id, start, end in phrase_matches:\n",
        "    string_id = nlp.vocab.strings[match_id]  \n",
        "    span = sentence[start:end]                   \n",
        "    print(match_id, string_id, start, end, span.doc)"
      ],
      "metadata": {
        "colab": {
          "base_uri": "https://localhost:8080/"
        },
        "id": "OFrWl_dzYGzG",
        "outputId": "196db0ad-3bef-454a-a09b-9c52ebb95a83"
      },
      "execution_count": null,
      "outputs": [
        {
          "output_type": "stream",
          "name": "stdout",
          "text": [
            "\u001b[38;5;2m✔ Download and installation successful\u001b[0m\n",
            "You can now load the package via spacy.load('en_core_web_sm')\n",
            "12825528024649263697 QBF 1 6 The quick-brown-fox jumps over the lazy dog. The quick brown fox eats well. the quickbrownfox is dead. the dog misses the quick brownfox\n",
            "12825528024649263697 QBF 13 16 The quick-brown-fox jumps over the lazy dog. The quick brown fox eats well. the quickbrownfox is dead. the dog misses the quick brownfox\n",
            "12825528024649263697 QBF 20 21 The quick-brown-fox jumps over the lazy dog. The quick brown fox eats well. the quickbrownfox is dead. the dog misses the quick brownfox\n",
            "12825528024649263697 QBF 28 30 The quick-brown-fox jumps over the lazy dog. The quick brown fox eats well. the quickbrownfox is dead. the dog misses the quick brownfox\n"
          ]
        }
      ]
    },
    {
      "cell_type": "code",
      "source": [
        "import nltk\n",
        "nltk.download(\"punkt\")\n",
        "from nltk.tokenize import word_tokenize\n",
        "from nltk.tokenize.punkt import PunktSentenceTokenizer, PunktParameters\n",
        "tokenizer = PunktSentenceTokenizer()"
      ],
      "metadata": {
        "colab": {
          "base_uri": "https://localhost:8080/"
        },
        "id": "VaTOvanUUTdv",
        "outputId": "5ca3d1fe-3069-4d1a-ca1d-78d1688b9665"
      },
      "execution_count": null,
      "outputs": [
        {
          "output_type": "stream",
          "name": "stderr",
          "text": [
            "[nltk_data] Downloading package punkt to /root/nltk_data...\n",
            "[nltk_data]   Package punkt is already up-to-date!\n"
          ]
        }
      ]
    },
    {
      "cell_type": "code",
      "source": [
        "# NLP using NLTK\n",
        "import time \n",
        "from datetime import timedelta\n",
        "start_time = time.monotonic()\n",
        "for _ in range(1000):\n",
        "  tokenizer.train(text)\n",
        "  tokenizer.tokenize(text)\n",
        "end_time = time.monotonic()\n",
        "print(timedelta(seconds=end_time - start_time))"
      ],
      "metadata": {
        "colab": {
          "base_uri": "https://localhost:8080/"
        },
        "id": "AuDb5Xs5X6er",
        "outputId": "be1ce523-5421-47f5-d568-48fed4d8c473"
      },
      "execution_count": null,
      "outputs": [
        {
          "output_type": "stream",
          "name": "stdout",
          "text": [
            "0:00:00.677173\n"
          ]
        }
      ]
    },
    {
      "cell_type": "code",
      "source": [
        "# NLP Using SPACY\n",
        "import time\n",
        "from datetime import timedelta\n",
        "start_time = time.monotonic()\n",
        "for _ in range(1000):\n",
        "  nlp(text)\n",
        "end_time = time.monotonic()\n",
        "print(timedelta(seconds=end_time - start_time))"
      ],
      "metadata": {
        "colab": {
          "base_uri": "https://localhost:8080/"
        },
        "id": "ydYkiKbGX8bz",
        "outputId": "508c9f0d-f8f0-4c2a-b4d0-269f27d820d0"
      },
      "execution_count": null,
      "outputs": [
        {
          "output_type": "stream",
          "name": "stdout",
          "text": [
            "0:00:09.831974\n"
          ]
        }
      ]
    },
    {
      "cell_type": "code",
      "source": [
        "nltk.download('punkt')\n",
        "nltk.download('averaged_perceptron_tagger')\n",
        "nltk.download('maxent_ne_chunker')\n",
        "nltk.download('words')"
      ],
      "metadata": {
        "colab": {
          "base_uri": "https://localhost:8080/"
        },
        "id": "mE_e4Cb0cdQs",
        "outputId": "2a237784-b663-459d-87b8-40204927ba09"
      },
      "execution_count": null,
      "outputs": [
        {
          "output_type": "stream",
          "name": "stderr",
          "text": [
            "[nltk_data] Downloading package punkt to /root/nltk_data...\n",
            "[nltk_data]   Package punkt is already up-to-date!\n",
            "[nltk_data] Downloading package averaged_perceptron_tagger to\n",
            "[nltk_data]     /root/nltk_data...\n",
            "[nltk_data]   Unzipping taggers/averaged_perceptron_tagger.zip.\n",
            "[nltk_data] Downloading package maxent_ne_chunker to\n",
            "[nltk_data]     /root/nltk_data...\n",
            "[nltk_data]   Unzipping chunkers/maxent_ne_chunker.zip.\n",
            "[nltk_data] Downloading package words to /root/nltk_data...\n",
            "[nltk_data]   Unzipping corpora/words.zip.\n"
          ]
        },
        {
          "output_type": "execute_result",
          "data": {
            "text/plain": [
              "True"
            ]
          },
          "metadata": {},
          "execution_count": 27
        }
      ]
    },
    {
      "cell_type": "code",
      "source": [
        "def check_time_comparison_between_nltk_and_spacy(text):\n",
        "    start_time = time.time()\n",
        "    nltk_tokens = nltk.word_tokenize(text)\n",
        "    nltk_tagged = nltk.pos_tag(nltk_tokens)\n",
        "    nltk_chunked = nltk.ne_chunk(nltk_tagged)\n",
        "    end_time = time.time()\n",
        "    nltk_time = end_time - start_time\n",
        "    # spacy\n",
        "    start_time = time.time()\n",
        "    spacy_doc = spacy.load('en_core_web_sm')\n",
        "    spacy_doc = spacy_doc(text)\n",
        "    end_time = time.time()\n",
        "    spacy_time = end_time - start_time\n",
        "    return nltk_time, spacy_time"
      ],
      "metadata": {
        "id": "hPw6C-PBcgdd"
      },
      "execution_count": null,
      "outputs": []
    },
    {
      "cell_type": "code",
      "source": [
        " check_time_comparison_between_nltk_and_spacy(text)"
      ],
      "metadata": {
        "colab": {
          "base_uri": "https://localhost:8080/"
        },
        "id": "0QPum0ptcjn6",
        "outputId": "ac4584b1-f5a4-43ca-e203-3b7a7177bd01"
      },
      "execution_count": null,
      "outputs": [
        {
          "output_type": "execute_result",
          "data": {
            "text/plain": [
              "(0.21919560432434082, 1.0248003005981445)"
            ]
          },
          "metadata": {},
          "execution_count": 29
        }
      ]
    },
    {
      "cell_type": "code",
      "source": [],
      "metadata": {
        "id": "fML4pwZbclpX"
      },
      "execution_count": null,
      "outputs": []
    }
  ]
}