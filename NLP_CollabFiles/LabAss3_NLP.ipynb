{
  "nbformat": 4,
  "nbformat_minor": 0,
  "metadata": {
    "colab": {
      "name": "LabAss3_E20CSE018_EB07_DHARVI_NLP.ipynb",
      "provenance": []
    },
    "kernelspec": {
      "name": "python3",
      "display_name": "Python 3"
    },
    "language_info": {
      "name": "python"
    }
  },
  "cells": [
    {
      "cell_type": "code",
      "source": [
        "import re\n",
        "s= \"\"\"Founded in 2002, SpaceX’s mission is to enable humans to become a spacefaring civilization and a multplanet \n",
        "species by building a self-sustaining city on Mars. In 2008, SpaceX’s Falcon 1 became the first privately \n",
        "developed \n",
        "liquid-fuel launch vehicle to orbit the Earth.\"\"\"\n",
        "re.sub(r\"[^\\w\\s]\",\" \",s)"
      ],
      "metadata": {
        "colab": {
          "base_uri": "https://localhost:8080/",
          "height": 53
        },
        "id": "y94Hj5P_WCkI",
        "outputId": "f0543999-543c-447c-f243-75a58194322c"
      },
      "execution_count": 16,
      "outputs": [
        {
          "output_type": "execute_result",
          "data": {
            "text/plain": [
              "'Founded in 2002  SpaceX s mission is to enable humans to become a spacefaring civilization and a multplanet \\nspecies by building a self sustaining city on Mars  In 2008  SpaceX s Falcon 1 became the first privately \\ndeveloped \\nliquid fuel launch vehicle to orbit the Earth '"
            ],
            "application/vnd.google.colaboratory.intrinsic+json": {
              "type": "string"
            }
          },
          "metadata": {},
          "execution_count": 16
        }
      ]
    },
    {
      "cell_type": "code",
      "source": [
        "import nltk\n",
        "nltk.download('punkt')\n",
        "from nltk.tokenize import word_tokenize\n",
        "word_tokenize(s)"
      ],
      "metadata": {
        "colab": {
          "base_uri": "https://localhost:8080/"
        },
        "id": "-Wg3ON1SWEy7",
        "outputId": "874c8f67-fd34-4a0d-a214-7a374f2b8d27"
      },
      "execution_count": 17,
      "outputs": [
        {
          "output_type": "stream",
          "name": "stderr",
          "text": [
            "[nltk_data] Downloading package punkt to /root/nltk_data...\n",
            "[nltk_data]   Package punkt is already up-to-date!\n"
          ]
        },
        {
          "output_type": "execute_result",
          "data": {
            "text/plain": [
              "['Founded',\n",
              " 'in',\n",
              " '2002',\n",
              " ',',\n",
              " 'SpaceX',\n",
              " '’',\n",
              " 's',\n",
              " 'mission',\n",
              " 'is',\n",
              " 'to',\n",
              " 'enable',\n",
              " 'humans',\n",
              " 'to',\n",
              " 'become',\n",
              " 'a',\n",
              " 'spacefaring',\n",
              " 'civilization',\n",
              " 'and',\n",
              " 'a',\n",
              " 'multplanet',\n",
              " 'species',\n",
              " 'by',\n",
              " 'building',\n",
              " 'a',\n",
              " 'self-sustaining',\n",
              " 'city',\n",
              " 'on',\n",
              " 'Mars',\n",
              " '.',\n",
              " 'In',\n",
              " '2008',\n",
              " ',',\n",
              " 'SpaceX',\n",
              " '’',\n",
              " 's',\n",
              " 'Falcon',\n",
              " '1',\n",
              " 'became',\n",
              " 'the',\n",
              " 'first',\n",
              " 'privately',\n",
              " 'developed',\n",
              " 'liquid-fuel',\n",
              " 'launch',\n",
              " 'vehicle',\n",
              " 'to',\n",
              " 'orbit',\n",
              " 'the',\n",
              " 'Earth',\n",
              " '.']"
            ]
          },
          "metadata": {},
          "execution_count": 17
        }
      ]
    },
    {
      "cell_type": "code",
      "source": [
        "import nltk\n",
        "nltk.download('stopwords') \n",
        "from nltk.tokenize import sent_tokenize,word_tokenize\n",
        "from nltk.corpus import stopwords\n",
        "stopwords=set(stopwords.words('english'))\n",
        "words=word_tokenize(s)\n",
        "wordsFiltered=[]\n",
        "\n",
        "for w in words:\n",
        "  if w not in stopwords:\n",
        "    wordsFiltered.append(w)\n",
        "  print(wordsFiltered)"
      ],
      "metadata": {
        "colab": {
          "base_uri": "https://localhost:8080/"
        },
        "id": "uYO5ubTEWRZK",
        "outputId": "73cf2313-d5be-4f95-c30d-4c2b7e3d0057"
      },
      "execution_count": 18,
      "outputs": [
        {
          "output_type": "stream",
          "name": "stdout",
          "text": [
            "['Founded']\n",
            "['Founded']\n",
            "['Founded', '2002']\n",
            "['Founded', '2002', ',']\n",
            "['Founded', '2002', ',', 'SpaceX']\n",
            "['Founded', '2002', ',', 'SpaceX', '’']\n",
            "['Founded', '2002', ',', 'SpaceX', '’']\n",
            "['Founded', '2002', ',', 'SpaceX', '’', 'mission']\n",
            "['Founded', '2002', ',', 'SpaceX', '’', 'mission']\n",
            "['Founded', '2002', ',', 'SpaceX', '’', 'mission']\n",
            "['Founded', '2002', ',', 'SpaceX', '’', 'mission', 'enable']\n",
            "['Founded', '2002', ',', 'SpaceX', '’', 'mission', 'enable', 'humans']\n",
            "['Founded', '2002', ',', 'SpaceX', '’', 'mission', 'enable', 'humans']\n",
            "['Founded', '2002', ',', 'SpaceX', '’', 'mission', 'enable', 'humans', 'become']\n",
            "['Founded', '2002', ',', 'SpaceX', '’', 'mission', 'enable', 'humans', 'become']\n",
            "['Founded', '2002', ',', 'SpaceX', '’', 'mission', 'enable', 'humans', 'become', 'spacefaring']\n",
            "['Founded', '2002', ',', 'SpaceX', '’', 'mission', 'enable', 'humans', 'become', 'spacefaring', 'civilization']\n",
            "['Founded', '2002', ',', 'SpaceX', '’', 'mission', 'enable', 'humans', 'become', 'spacefaring', 'civilization']\n",
            "['Founded', '2002', ',', 'SpaceX', '’', 'mission', 'enable', 'humans', 'become', 'spacefaring', 'civilization']\n",
            "['Founded', '2002', ',', 'SpaceX', '’', 'mission', 'enable', 'humans', 'become', 'spacefaring', 'civilization', 'multplanet']\n",
            "['Founded', '2002', ',', 'SpaceX', '’', 'mission', 'enable', 'humans', 'become', 'spacefaring', 'civilization', 'multplanet', 'species']\n",
            "['Founded', '2002', ',', 'SpaceX', '’', 'mission', 'enable', 'humans', 'become', 'spacefaring', 'civilization', 'multplanet', 'species']\n",
            "['Founded', '2002', ',', 'SpaceX', '’', 'mission', 'enable', 'humans', 'become', 'spacefaring', 'civilization', 'multplanet', 'species', 'building']\n",
            "['Founded', '2002', ',', 'SpaceX', '’', 'mission', 'enable', 'humans', 'become', 'spacefaring', 'civilization', 'multplanet', 'species', 'building']\n",
            "['Founded', '2002', ',', 'SpaceX', '’', 'mission', 'enable', 'humans', 'become', 'spacefaring', 'civilization', 'multplanet', 'species', 'building', 'self-sustaining']\n",
            "['Founded', '2002', ',', 'SpaceX', '’', 'mission', 'enable', 'humans', 'become', 'spacefaring', 'civilization', 'multplanet', 'species', 'building', 'self-sustaining', 'city']\n",
            "['Founded', '2002', ',', 'SpaceX', '’', 'mission', 'enable', 'humans', 'become', 'spacefaring', 'civilization', 'multplanet', 'species', 'building', 'self-sustaining', 'city']\n",
            "['Founded', '2002', ',', 'SpaceX', '’', 'mission', 'enable', 'humans', 'become', 'spacefaring', 'civilization', 'multplanet', 'species', 'building', 'self-sustaining', 'city', 'Mars']\n",
            "['Founded', '2002', ',', 'SpaceX', '’', 'mission', 'enable', 'humans', 'become', 'spacefaring', 'civilization', 'multplanet', 'species', 'building', 'self-sustaining', 'city', 'Mars', '.']\n",
            "['Founded', '2002', ',', 'SpaceX', '’', 'mission', 'enable', 'humans', 'become', 'spacefaring', 'civilization', 'multplanet', 'species', 'building', 'self-sustaining', 'city', 'Mars', '.', 'In']\n",
            "['Founded', '2002', ',', 'SpaceX', '’', 'mission', 'enable', 'humans', 'become', 'spacefaring', 'civilization', 'multplanet', 'species', 'building', 'self-sustaining', 'city', 'Mars', '.', 'In', '2008']\n",
            "['Founded', '2002', ',', 'SpaceX', '’', 'mission', 'enable', 'humans', 'become', 'spacefaring', 'civilization', 'multplanet', 'species', 'building', 'self-sustaining', 'city', 'Mars', '.', 'In', '2008', ',']\n",
            "['Founded', '2002', ',', 'SpaceX', '’', 'mission', 'enable', 'humans', 'become', 'spacefaring', 'civilization', 'multplanet', 'species', 'building', 'self-sustaining', 'city', 'Mars', '.', 'In', '2008', ',', 'SpaceX']\n",
            "['Founded', '2002', ',', 'SpaceX', '’', 'mission', 'enable', 'humans', 'become', 'spacefaring', 'civilization', 'multplanet', 'species', 'building', 'self-sustaining', 'city', 'Mars', '.', 'In', '2008', ',', 'SpaceX', '’']\n",
            "['Founded', '2002', ',', 'SpaceX', '’', 'mission', 'enable', 'humans', 'become', 'spacefaring', 'civilization', 'multplanet', 'species', 'building', 'self-sustaining', 'city', 'Mars', '.', 'In', '2008', ',', 'SpaceX', '’']\n",
            "['Founded', '2002', ',', 'SpaceX', '’', 'mission', 'enable', 'humans', 'become', 'spacefaring', 'civilization', 'multplanet', 'species', 'building', 'self-sustaining', 'city', 'Mars', '.', 'In', '2008', ',', 'SpaceX', '’', 'Falcon']\n",
            "['Founded', '2002', ',', 'SpaceX', '’', 'mission', 'enable', 'humans', 'become', 'spacefaring', 'civilization', 'multplanet', 'species', 'building', 'self-sustaining', 'city', 'Mars', '.', 'In', '2008', ',', 'SpaceX', '’', 'Falcon', '1']\n",
            "['Founded', '2002', ',', 'SpaceX', '’', 'mission', 'enable', 'humans', 'become', 'spacefaring', 'civilization', 'multplanet', 'species', 'building', 'self-sustaining', 'city', 'Mars', '.', 'In', '2008', ',', 'SpaceX', '’', 'Falcon', '1', 'became']\n",
            "['Founded', '2002', ',', 'SpaceX', '’', 'mission', 'enable', 'humans', 'become', 'spacefaring', 'civilization', 'multplanet', 'species', 'building', 'self-sustaining', 'city', 'Mars', '.', 'In', '2008', ',', 'SpaceX', '’', 'Falcon', '1', 'became']\n",
            "['Founded', '2002', ',', 'SpaceX', '’', 'mission', 'enable', 'humans', 'become', 'spacefaring', 'civilization', 'multplanet', 'species', 'building', 'self-sustaining', 'city', 'Mars', '.', 'In', '2008', ',', 'SpaceX', '’', 'Falcon', '1', 'became', 'first']\n",
            "['Founded', '2002', ',', 'SpaceX', '’', 'mission', 'enable', 'humans', 'become', 'spacefaring', 'civilization', 'multplanet', 'species', 'building', 'self-sustaining', 'city', 'Mars', '.', 'In', '2008', ',', 'SpaceX', '’', 'Falcon', '1', 'became', 'first', 'privately']\n",
            "['Founded', '2002', ',', 'SpaceX', '’', 'mission', 'enable', 'humans', 'become', 'spacefaring', 'civilization', 'multplanet', 'species', 'building', 'self-sustaining', 'city', 'Mars', '.', 'In', '2008', ',', 'SpaceX', '’', 'Falcon', '1', 'became', 'first', 'privately', 'developed']\n",
            "['Founded', '2002', ',', 'SpaceX', '’', 'mission', 'enable', 'humans', 'become', 'spacefaring', 'civilization', 'multplanet', 'species', 'building', 'self-sustaining', 'city', 'Mars', '.', 'In', '2008', ',', 'SpaceX', '’', 'Falcon', '1', 'became', 'first', 'privately', 'developed', 'liquid-fuel']\n",
            "['Founded', '2002', ',', 'SpaceX', '’', 'mission', 'enable', 'humans', 'become', 'spacefaring', 'civilization', 'multplanet', 'species', 'building', 'self-sustaining', 'city', 'Mars', '.', 'In', '2008', ',', 'SpaceX', '’', 'Falcon', '1', 'became', 'first', 'privately', 'developed', 'liquid-fuel', 'launch']\n",
            "['Founded', '2002', ',', 'SpaceX', '’', 'mission', 'enable', 'humans', 'become', 'spacefaring', 'civilization', 'multplanet', 'species', 'building', 'self-sustaining', 'city', 'Mars', '.', 'In', '2008', ',', 'SpaceX', '’', 'Falcon', '1', 'became', 'first', 'privately', 'developed', 'liquid-fuel', 'launch', 'vehicle']\n",
            "['Founded', '2002', ',', 'SpaceX', '’', 'mission', 'enable', 'humans', 'become', 'spacefaring', 'civilization', 'multplanet', 'species', 'building', 'self-sustaining', 'city', 'Mars', '.', 'In', '2008', ',', 'SpaceX', '’', 'Falcon', '1', 'became', 'first', 'privately', 'developed', 'liquid-fuel', 'launch', 'vehicle']\n",
            "['Founded', '2002', ',', 'SpaceX', '’', 'mission', 'enable', 'humans', 'become', 'spacefaring', 'civilization', 'multplanet', 'species', 'building', 'self-sustaining', 'city', 'Mars', '.', 'In', '2008', ',', 'SpaceX', '’', 'Falcon', '1', 'became', 'first', 'privately', 'developed', 'liquid-fuel', 'launch', 'vehicle', 'orbit']\n",
            "['Founded', '2002', ',', 'SpaceX', '’', 'mission', 'enable', 'humans', 'become', 'spacefaring', 'civilization', 'multplanet', 'species', 'building', 'self-sustaining', 'city', 'Mars', '.', 'In', '2008', ',', 'SpaceX', '’', 'Falcon', '1', 'became', 'first', 'privately', 'developed', 'liquid-fuel', 'launch', 'vehicle', 'orbit']\n",
            "['Founded', '2002', ',', 'SpaceX', '’', 'mission', 'enable', 'humans', 'become', 'spacefaring', 'civilization', 'multplanet', 'species', 'building', 'self-sustaining', 'city', 'Mars', '.', 'In', '2008', ',', 'SpaceX', '’', 'Falcon', '1', 'became', 'first', 'privately', 'developed', 'liquid-fuel', 'launch', 'vehicle', 'orbit', 'Earth']\n",
            "['Founded', '2002', ',', 'SpaceX', '’', 'mission', 'enable', 'humans', 'become', 'spacefaring', 'civilization', 'multplanet', 'species', 'building', 'self-sustaining', 'city', 'Mars', '.', 'In', '2008', ',', 'SpaceX', '’', 'Falcon', '1', 'became', 'first', 'privately', 'developed', 'liquid-fuel', 'launch', 'vehicle', 'orbit', 'Earth', '.']\n"
          ]
        },
        {
          "output_type": "stream",
          "name": "stderr",
          "text": [
            "[nltk_data] Downloading package stopwords to /root/nltk_data...\n",
            "[nltk_data]   Package stopwords is already up-to-date!\n"
          ]
        }
      ]
    },
    {
      "cell_type": "code",
      "execution_count": 21,
      "metadata": {
        "colab": {
          "base_uri": "https://localhost:8080/"
        },
        "id": "KxERJ6SZOYeE",
        "outputId": "fe2b04f4-9baf-4c00-ec8b-5a3b2a42393a"
      },
      "outputs": [
        {
          "output_type": "stream",
          "name": "stdout",
          "text": [
            "Vocabulary:  {'founded': 12, '2002': 0, 'spacex': 25, 'mission': 19, 'enable': 9, 'humans': 14, 'become': 3, 'spacefaring': 24, 'civilization': 6, 'multplanet': 20, 'species': 26, 'building': 4, 'self': 23, 'sustaining': 27, 'city': 5, 'mars': 18, 'in': 15, '2008': 1, 'falcon': 10, 'became': 2, 'first': 11, 'privately': 22, 'developed': 7, 'liquid': 17, 'fuel': 13, 'launch': 16, 'vehicle': 28, 'orbit': 21, 'earth': 8}\n",
            "Encoded Document is:\n",
            "[[0 0 0 ... 0 0 0]\n",
            " [1 0 0 ... 0 0 0]\n",
            " [0 0 0 ... 0 0 0]\n",
            " ...\n",
            " [0 0 0 ... 0 0 0]\n",
            " [0 0 0 ... 0 0 0]\n",
            " [0 0 0 ... 0 0 0]]\n"
          ]
        }
      ],
      "source": [
        "# Count Vectorization\n",
        "\n",
        "from sklearn.feature_extraction.text import CountVectorizer\n",
        " \n",
        "# Create a Vectorizer Object\n",
        "vectorizer = CountVectorizer()\n",
        " \n",
        "vectorizer.fit(wordsFiltered)\n",
        " \n",
        "# Printing the identified Unique words along with their indices\n",
        "print(\"Vocabulary: \", vectorizer.vocabulary_)\n",
        " \n",
        "# Encode the Document\n",
        "vector = vectorizer.transform(wordsFiltered)\n",
        " \n",
        "# Summarizing the Encoded Texts\n",
        "print(\"Encoded Document is:\")\n",
        "print(vector.toarray())\n"
      ]
    },
    {
      "cell_type": "code",
      "source": [
        "# One Hot Encoding\n",
        "\n",
        "import numpy as np\n",
        "\n",
        "words = ['Founded', '2002', ',', 'SpaceX', '’', 'mission', 'enable', 'humans', 'become', 'spacefaring', 'civilization', 'multplanet', 'species', 'building', 'self-sustaining', 'city', 'Mars', '.', 'In', '2008', ',', 'SpaceX', '’', 'Falcon', '1', 'became', 'first', 'privately']\n",
        "### map each color to an integer\n",
        "mapping = {}\n",
        "for x in range(len(wordsFiltered)):\n",
        "  mapping[wordsFiltered[x]] = x\n",
        "\n",
        "  \n",
        "one_hot_encode = []\n",
        "\n",
        "for c in words:\n",
        "  arr = list(np.zeros(len(wordsFiltered), dtype = int))\n",
        "  arr[mapping[c]] = 1\n",
        "  one_hot_encode.append(arr)\n",
        "\n",
        "print(one_hot_encode)\n"
      ],
      "metadata": {
        "colab": {
          "base_uri": "https://localhost:8080/"
        },
        "id": "48kDVrjXSM0p",
        "outputId": "2703bde1-cb90-44c4-8538-6549a6ffb116"
      },
      "execution_count": 28,
      "outputs": [
        {
          "output_type": "stream",
          "name": "stdout",
          "text": [
            "[[1, 0, 0, 0, 0, 0, 0, 0, 0, 0, 0, 0, 0, 0, 0, 0, 0, 0, 0, 0, 0, 0, 0, 0, 0, 0, 0, 0, 0, 0, 0, 0, 0, 0, 0], [0, 1, 0, 0, 0, 0, 0, 0, 0, 0, 0, 0, 0, 0, 0, 0, 0, 0, 0, 0, 0, 0, 0, 0, 0, 0, 0, 0, 0, 0, 0, 0, 0, 0, 0], [0, 0, 0, 0, 0, 0, 0, 0, 0, 0, 0, 0, 0, 0, 0, 0, 0, 0, 0, 0, 1, 0, 0, 0, 0, 0, 0, 0, 0, 0, 0, 0, 0, 0, 0], [0, 0, 0, 0, 0, 0, 0, 0, 0, 0, 0, 0, 0, 0, 0, 0, 0, 0, 0, 0, 0, 1, 0, 0, 0, 0, 0, 0, 0, 0, 0, 0, 0, 0, 0], [0, 0, 0, 0, 0, 0, 0, 0, 0, 0, 0, 0, 0, 0, 0, 0, 0, 0, 0, 0, 0, 0, 1, 0, 0, 0, 0, 0, 0, 0, 0, 0, 0, 0, 0], [0, 0, 0, 0, 0, 1, 0, 0, 0, 0, 0, 0, 0, 0, 0, 0, 0, 0, 0, 0, 0, 0, 0, 0, 0, 0, 0, 0, 0, 0, 0, 0, 0, 0, 0], [0, 0, 0, 0, 0, 0, 1, 0, 0, 0, 0, 0, 0, 0, 0, 0, 0, 0, 0, 0, 0, 0, 0, 0, 0, 0, 0, 0, 0, 0, 0, 0, 0, 0, 0], [0, 0, 0, 0, 0, 0, 0, 1, 0, 0, 0, 0, 0, 0, 0, 0, 0, 0, 0, 0, 0, 0, 0, 0, 0, 0, 0, 0, 0, 0, 0, 0, 0, 0, 0], [0, 0, 0, 0, 0, 0, 0, 0, 1, 0, 0, 0, 0, 0, 0, 0, 0, 0, 0, 0, 0, 0, 0, 0, 0, 0, 0, 0, 0, 0, 0, 0, 0, 0, 0], [0, 0, 0, 0, 0, 0, 0, 0, 0, 1, 0, 0, 0, 0, 0, 0, 0, 0, 0, 0, 0, 0, 0, 0, 0, 0, 0, 0, 0, 0, 0, 0, 0, 0, 0], [0, 0, 0, 0, 0, 0, 0, 0, 0, 0, 1, 0, 0, 0, 0, 0, 0, 0, 0, 0, 0, 0, 0, 0, 0, 0, 0, 0, 0, 0, 0, 0, 0, 0, 0], [0, 0, 0, 0, 0, 0, 0, 0, 0, 0, 0, 1, 0, 0, 0, 0, 0, 0, 0, 0, 0, 0, 0, 0, 0, 0, 0, 0, 0, 0, 0, 0, 0, 0, 0], [0, 0, 0, 0, 0, 0, 0, 0, 0, 0, 0, 0, 1, 0, 0, 0, 0, 0, 0, 0, 0, 0, 0, 0, 0, 0, 0, 0, 0, 0, 0, 0, 0, 0, 0], [0, 0, 0, 0, 0, 0, 0, 0, 0, 0, 0, 0, 0, 1, 0, 0, 0, 0, 0, 0, 0, 0, 0, 0, 0, 0, 0, 0, 0, 0, 0, 0, 0, 0, 0], [0, 0, 0, 0, 0, 0, 0, 0, 0, 0, 0, 0, 0, 0, 1, 0, 0, 0, 0, 0, 0, 0, 0, 0, 0, 0, 0, 0, 0, 0, 0, 0, 0, 0, 0], [0, 0, 0, 0, 0, 0, 0, 0, 0, 0, 0, 0, 0, 0, 0, 1, 0, 0, 0, 0, 0, 0, 0, 0, 0, 0, 0, 0, 0, 0, 0, 0, 0, 0, 0], [0, 0, 0, 0, 0, 0, 0, 0, 0, 0, 0, 0, 0, 0, 0, 0, 1, 0, 0, 0, 0, 0, 0, 0, 0, 0, 0, 0, 0, 0, 0, 0, 0, 0, 0], [0, 0, 0, 0, 0, 0, 0, 0, 0, 0, 0, 0, 0, 0, 0, 0, 0, 0, 0, 0, 0, 0, 0, 0, 0, 0, 0, 0, 0, 0, 0, 0, 0, 0, 1], [0, 0, 0, 0, 0, 0, 0, 0, 0, 0, 0, 0, 0, 0, 0, 0, 0, 0, 1, 0, 0, 0, 0, 0, 0, 0, 0, 0, 0, 0, 0, 0, 0, 0, 0], [0, 0, 0, 0, 0, 0, 0, 0, 0, 0, 0, 0, 0, 0, 0, 0, 0, 0, 0, 1, 0, 0, 0, 0, 0, 0, 0, 0, 0, 0, 0, 0, 0, 0, 0], [0, 0, 0, 0, 0, 0, 0, 0, 0, 0, 0, 0, 0, 0, 0, 0, 0, 0, 0, 0, 1, 0, 0, 0, 0, 0, 0, 0, 0, 0, 0, 0, 0, 0, 0], [0, 0, 0, 0, 0, 0, 0, 0, 0, 0, 0, 0, 0, 0, 0, 0, 0, 0, 0, 0, 0, 1, 0, 0, 0, 0, 0, 0, 0, 0, 0, 0, 0, 0, 0], [0, 0, 0, 0, 0, 0, 0, 0, 0, 0, 0, 0, 0, 0, 0, 0, 0, 0, 0, 0, 0, 0, 1, 0, 0, 0, 0, 0, 0, 0, 0, 0, 0, 0, 0], [0, 0, 0, 0, 0, 0, 0, 0, 0, 0, 0, 0, 0, 0, 0, 0, 0, 0, 0, 0, 0, 0, 0, 1, 0, 0, 0, 0, 0, 0, 0, 0, 0, 0, 0], [0, 0, 0, 0, 0, 0, 0, 0, 0, 0, 0, 0, 0, 0, 0, 0, 0, 0, 0, 0, 0, 0, 0, 0, 1, 0, 0, 0, 0, 0, 0, 0, 0, 0, 0], [0, 0, 0, 0, 0, 0, 0, 0, 0, 0, 0, 0, 0, 0, 0, 0, 0, 0, 0, 0, 0, 0, 0, 0, 0, 1, 0, 0, 0, 0, 0, 0, 0, 0, 0], [0, 0, 0, 0, 0, 0, 0, 0, 0, 0, 0, 0, 0, 0, 0, 0, 0, 0, 0, 0, 0, 0, 0, 0, 0, 0, 1, 0, 0, 0, 0, 0, 0, 0, 0], [0, 0, 0, 0, 0, 0, 0, 0, 0, 0, 0, 0, 0, 0, 0, 0, 0, 0, 0, 0, 0, 0, 0, 0, 0, 0, 0, 1, 0, 0, 0, 0, 0, 0, 0]]\n"
          ]
        }
      ]
    },
    {
      "cell_type": "code",
      "source": [
        "def vectorize(tokens):\n",
        "    '''Founded in 2002, SpaceX’s mission is to enable humans to become a spacefaring civilization and a multplanet \n",
        "species by building a self-sustaining city on Mars. In 2008, SpaceX’s Falcon 1 became the first privately \n",
        "developed \n",
        "liquid-fuel launch vehicle to orbit the Earth.'''\n",
        "    vector=[]\n",
        "    for w in filtered_vocab:\n",
        "        vector.append(tokens.count(w))\n",
        "    return vector\n",
        "def unique(sequence):\n",
        "    '''Founded in 2002, SpaceX’s mission is to enable humans to become a spacefaring civilization and a multplanet \n",
        "species by building a self-sustaining city on Mars. In 2008, SpaceX’s Falcon 1 became the first privately \n",
        "developed \n",
        "liquid-fuel launch vehicle to orbit the Earth.'''\n",
        "    seen = set()\n",
        "    return [x for x in sequence if not (x in seen or seen.add(x))]\n",
        "#create a list of stopwords.You can import stopwords from nltk too\n",
        "stopwords=[\"to\",\"is\",\"a\"]\n",
        "#list of special characters.You can use regular expressions too\n",
        "special_char=[\",\",\":\",\" \",\";\",\".\",\"?\"]\n",
        "#Write the sentences in the corpus,in our case, just two \n",
        "string1=\"Don't brush aside your intuition, it's your only true friend.\"\n",
        "string2=\"Always trust your intuition.\"\n",
        "#convert them to lower case\n",
        "string1=string1.lower()\n",
        "string2=string2.lower()\n",
        "#split the sentences into tokens\n",
        "tokens1=string1.split()\n",
        "tokens2=string2.split()\n",
        "print(tokens1)\n",
        "print(tokens2)\n",
        "#create a vocabulary list\n",
        "vocab=unique(tokens1+tokens2)\n",
        "print(vocab)\n",
        "#filter the vocabulary list\n",
        "filtered_vocab=[]\n",
        "for w in vocab: \n",
        "    if w not in stopwords and w not in special_char: \n",
        "        filtered_vocab.append(w)\n",
        "print(filtered_vocab)\n",
        "#convert sentences into vectords\n",
        "vector1=vectorize(tokens1)\n",
        "print(vector1)\n",
        "vector2=vectorize(tokens2)\n",
        "print(vector2)"
      ],
      "metadata": {
        "colab": {
          "base_uri": "https://localhost:8080/"
        },
        "id": "5wNNxS0BTPFd",
        "outputId": "9b171203-b053-41a4-8f9a-182c6c529915"
      },
      "execution_count": 8,
      "outputs": [
        {
          "output_type": "stream",
          "name": "stdout",
          "text": [
            "[\"don't\", 'brush', 'aside', 'your', 'intuition,', \"it's\", 'your', 'only', 'true', 'friend.']\n",
            "['always', 'trust', 'your', 'intuition.']\n",
            "[\"don't\", 'brush', 'aside', 'your', 'intuition,', \"it's\", 'only', 'true', 'friend.', 'always', 'trust', 'intuition.']\n",
            "[\"don't\", 'brush', 'aside', 'your', 'intuition,', \"it's\", 'only', 'true', 'friend.', 'always', 'trust', 'intuition.']\n",
            "[1, 1, 1, 2, 1, 1, 1, 1, 1, 0, 0, 0]\n",
            "[0, 0, 0, 1, 0, 0, 0, 0, 0, 1, 1, 1]\n"
          ]
        }
      ]
    },
    {
      "cell_type": "code",
      "source": [],
      "metadata": {
        "id": "4e8d6HisdD3q"
      },
      "execution_count": null,
      "outputs": []
    },
    {
      "cell_type": "code",
      "source": [],
      "metadata": {
        "id": "xvOnF2I3TPfE"
      },
      "execution_count": null,
      "outputs": []
    }
  ]
}